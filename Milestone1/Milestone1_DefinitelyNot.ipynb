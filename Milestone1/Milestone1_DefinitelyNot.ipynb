{
 "cells": [
  {
   "cell_type": "markdown",
   "source": "### Outline\n\n1. Import libraries\n2. Import data (pandas)\n3. Work with data\n * Normalise\n * See if we need to use all the collumns\n4. Define model (e.g. Linear Regression)\n4. Define Loss and gradient\n5. Train\n6. Test on val\n7. Improve\n\n*Tip*\n- you could implement k_fold validation **if you guys want**",
   "metadata": {
    "tags": [],
    "cell_id": "00000-dbbd5ae1-682a-4c48-b4d3-8a10d900e3b8",
    "deepnote_cell_type": "markdown"
   }
  },
  {
   "cell_type": "markdown",
   "source": "",
   "metadata": {
    "tags": [],
    "cell_id": "00001-f0cccbac-2ca6-4650-8768-c675608900c4",
    "deepnote_cell_type": "markdown"
   }
  },
  {
   "cell_type": "code",
   "metadata": {
    "tags": [],
    "cell_id": "00004-22849d56-2161-4ab0-8999-168ace6251dc",
    "deepnote_to_be_reexecuted": false,
    "source_hash": "462037e1",
    "execution_start": 1621064098045,
    "execution_millis": 196,
    "deepnote_cell_type": "code"
   },
   "source": "from typing import Tuple, List\nimport pandas as pd\nimport numpy as np\nimport matplotlib.pyplot as plt\nimport helpers\n\nimport plotly.graph_objects as go\n",
   "execution_count": null,
   "outputs": []
  },
  {
   "cell_type": "code",
   "metadata": {
    "tags": [],
    "cell_id": "00005-ea71c466-00fb-4a22-856a-2dba0a456534",
    "deepnote_to_be_reexecuted": false,
    "source_hash": "62c95a4d",
    "execution_start": 1621064098246,
    "execution_millis": 468,
    "deepnote_cell_type": "code"
   },
   "source": "df_train = pd.read_csv('Data/train_set.csv')\ndf_val = pd.read_csv('Data/val_set.csv')\ndf_test = pd.read_csv('Data/test_set.csv')\n\n# Separation so lil brain understands data\ntarget = ['sat1_col']\nnon_period_features = ['sa_avg', 'da5_75', 'da5_95', 'fiv3', 'sa_ratio']\nraw_period_features = [e for e in df_train.columns if e not in non_period_features]\n\n# Data separation\n#X_train = df_train[[\"1.3\"] + non_period_features].to_numpy()\n#y_train = df_train[target].to_numpy()\nX_train = df_train[[\"1.3\"] + non_period_features + target].to_numpy()\nX_val = df_val[[\"1.3\"] + non_period_features + target].to_numpy()\nX_test = df_test[[\"1.3\"] + non_period_features].to_numpy()\n\n# Data visualisation\nprint(\"Non period features:\", non_period_features)\nprint(\"Raw period features\", raw_period_features)\ndf_train[[\"1.3\"] + non_period_features + target].head(15)\n",
   "execution_count": null,
   "outputs": [
    {
     "name": "stdout",
     "text": "Non period features: ['sa_avg', 'da5_75', 'da5_95', 'fiv3', 'sa_ratio']\nRaw period features ['0.01', '0.02', '0.022', '0.025', '0.029', '0.03', '0.032', '0.035', '0.036', '0.04', '0.042', '0.044', '0.045', '0.046', '0.048', '0.05', '0.055', '0.06', '0.065', '0.067', '0.07', '0.075', '0.08', '0.085', '0.09', '0.095', '0.1', '0.11', '0.12', '0.13', '0.133', '0.14', '0.15', '0.16', '0.17', '0.18', '0.19', '0.2', '0.22', '0.24', '0.25', '0.26', '0.28', '0.29', '0.3', '0.32', '0.34', '0.35', '0.36', '0.38', '0.4', '0.42', '0.44', '0.45', '0.46', '0.48', '0.5', '0.55', '0.6', '0.65', '0.667', '0.7', '0.75', '0.8', '0.85', '0.9', '0.95', '1.0', '1.1', '1.2', '1.3', '1.4', '1.5', '1.6', '1.7', '1.8', '1.9', '2.0', '2.2', '2.4', '2.5', '2.6', '2.8', '3.0', '3.2', '3.4', '3.5', '3.6', '3.8', '4.0', '4.2', '4.4', '4.6', '4.8', '5.0', '5.5', '6.0', '6.5', '7.0', '7.5', '8.0', '8.5', '9.0', '9.5', '10.0', 'sat1_col']\n",
     "output_type": "stream"
    },
    {
     "output_type": "execute_result",
     "execution_count": 2,
     "data": {
      "application/vnd.deepnote.dataframe.v2+json": {
       "row_count": 15,
       "column_count": 7,
       "columns": [
        {
         "name": "1.3",
         "dtype": "float64",
         "stats": {
          "unique_count": 15,
          "nan_count": 0,
          "min": "0.001710513522033",
          "max": "0.2059682002990934",
          "histogram": [
           {
            "bin_start": 0.001710513522033,
            "bin_end": 0.02213628219973904,
            "count": 8
           },
           {
            "bin_start": 0.02213628219973904,
            "bin_end": 0.04256205087744508,
            "count": 3
           },
           {
            "bin_start": 0.04256205087744508,
            "bin_end": 0.06298781955515112,
            "count": 1
           },
           {
            "bin_start": 0.06298781955515112,
            "bin_end": 0.08341358823285716,
            "count": 0
           },
           {
            "bin_start": 0.08341358823285716,
            "bin_end": 0.1038393569105632,
            "count": 0
           },
           {
            "bin_start": 0.1038393569105632,
            "bin_end": 0.12426512558826924,
            "count": 0
           },
           {
            "bin_start": 0.12426512558826924,
            "bin_end": 0.14469089426597528,
            "count": 0
           },
           {
            "bin_start": 0.14469089426597528,
            "bin_end": 0.16511666294368132,
            "count": 0
           },
           {
            "bin_start": 0.16511666294368132,
            "bin_end": 0.18554243162138737,
            "count": 2
           },
           {
            "bin_start": 0.18554243162138737,
            "bin_end": 0.2059682002990934,
            "count": 1
           }
          ]
         }
        },
        {
         "name": "sa_avg",
         "dtype": "float64",
         "stats": {
          "unique_count": 15,
          "nan_count": 0,
          "min": "0.0027486994280776",
          "max": "0.1280838378965992",
          "histogram": [
           {
            "bin_start": 0.0027486994280776,
            "bin_end": 0.015282213274929759,
            "count": 6
           },
           {
            "bin_start": 0.015282213274929759,
            "bin_end": 0.02781572712178192,
            "count": 2
           },
           {
            "bin_start": 0.02781572712178192,
            "bin_end": 0.04034924096863408,
            "count": 3
           },
           {
            "bin_start": 0.04034924096863408,
            "bin_end": 0.05288275481548624,
            "count": 1
           },
           {
            "bin_start": 0.05288275481548624,
            "bin_end": 0.06541626866233839,
            "count": 0
           },
           {
            "bin_start": 0.06541626866233839,
            "bin_end": 0.07794978250919055,
            "count": 0
           },
           {
            "bin_start": 0.07794978250919055,
            "bin_end": 0.09048329635604271,
            "count": 1
           },
           {
            "bin_start": 0.09048329635604271,
            "bin_end": 0.10301681020289487,
            "count": 1
           },
           {
            "bin_start": 0.10301681020289487,
            "bin_end": 0.11555032404974702,
            "count": 0
           },
           {
            "bin_start": 0.11555032404974702,
            "bin_end": 0.1280838378965992,
            "count": 1
           }
          ]
         }
        },
        {
         "name": "da5_75",
         "dtype": "float64",
         "stats": {
          "unique_count": 15,
          "nan_count": 0,
          "min": "2.04",
          "max": "31.9",
          "histogram": [
           {
            "bin_start": 2.04,
            "bin_end": 5.026,
            "count": 1
           },
           {
            "bin_start": 5.026,
            "bin_end": 8.012,
            "count": 3
           },
           {
            "bin_start": 8.012,
            "bin_end": 10.997999999999998,
            "count": 2
           },
           {
            "bin_start": 10.997999999999998,
            "bin_end": 13.983999999999998,
            "count": 2
           },
           {
            "bin_start": 13.983999999999998,
            "bin_end": 16.97,
            "count": 4
           },
           {
            "bin_start": 16.97,
            "bin_end": 19.955999999999996,
            "count": 0
           },
           {
            "bin_start": 19.955999999999996,
            "bin_end": 22.941999999999997,
            "count": 0
           },
           {
            "bin_start": 22.941999999999997,
            "bin_end": 25.927999999999997,
            "count": 1
           },
           {
            "bin_start": 25.927999999999997,
            "bin_end": 28.913999999999998,
            "count": 1
           },
           {
            "bin_start": 28.913999999999998,
            "bin_end": 31.9,
            "count": 1
           }
          ]
         }
        },
        {
         "name": "da5_95",
         "dtype": "float64",
         "stats": {
          "unique_count": 15,
          "nan_count": 0,
          "min": "12.485",
          "max": "49.32000000000001",
          "histogram": [
           {
            "bin_start": 12.485,
            "bin_end": 16.1685,
            "count": 3
           },
           {
            "bin_start": 16.1685,
            "bin_end": 19.852,
            "count": 4
           },
           {
            "bin_start": 19.852,
            "bin_end": 23.535500000000003,
            "count": 2
           },
           {
            "bin_start": 23.535500000000003,
            "bin_end": 27.219,
            "count": 0
           },
           {
            "bin_start": 27.219,
            "bin_end": 30.902500000000003,
            "count": 1
           },
           {
            "bin_start": 30.902500000000003,
            "bin_end": 34.586000000000006,
            "count": 0
           },
           {
            "bin_start": 34.586000000000006,
            "bin_end": 38.26950000000001,
            "count": 2
           },
           {
            "bin_start": 38.26950000000001,
            "bin_end": 41.953,
            "count": 1
           },
           {
            "bin_start": 41.953,
            "bin_end": 45.636500000000005,
            "count": 1
           },
           {
            "bin_start": 45.636500000000005,
            "bin_end": 49.32000000000001,
            "count": 1
           }
          ]
         }
        },
        {
         "name": "fiv3",
         "dtype": "float64",
         "stats": {
          "unique_count": 15,
          "nan_count": 0,
          "min": "0.344222944009221",
          "max": "42.21886767576784",
          "histogram": [
           {
            "bin_start": 0.344222944009221,
            "bin_end": 4.531687417185084,
            "count": 7
           },
           {
            "bin_start": 4.531687417185084,
            "bin_end": 8.719151890360946,
            "count": 2
           },
           {
            "bin_start": 8.719151890360946,
            "bin_end": 12.90661636353681,
            "count": 1
           },
           {
            "bin_start": 12.90661636353681,
            "bin_end": 17.09408083671267,
            "count": 1
           },
           {
            "bin_start": 17.09408083671267,
            "bin_end": 21.281545309888532,
            "count": 0
           },
           {
            "bin_start": 21.281545309888532,
            "bin_end": 25.469009783064397,
            "count": 1
           },
           {
            "bin_start": 25.469009783064397,
            "bin_end": 29.65647425624026,
            "count": 1
           },
           {
            "bin_start": 29.65647425624026,
            "bin_end": 33.84393872941612,
            "count": 0
           },
           {
            "bin_start": 33.84393872941612,
            "bin_end": 38.03140320259198,
            "count": 0
           },
           {
            "bin_start": 38.03140320259198,
            "bin_end": 42.21886767576784,
            "count": 2
           }
          ]
         }
        },
        {
         "name": "sa_ratio",
         "dtype": "float64",
         "stats": {
          "unique_count": 15,
          "nan_count": 0,
          "min": "0.6103421861184871",
          "max": "2.0296973485758167",
          "histogram": [
           {
            "bin_start": 0.6103421861184871,
            "bin_end": 0.7522777023642201,
            "count": 3
           },
           {
            "bin_start": 0.7522777023642201,
            "bin_end": 0.8942132186099531,
            "count": 2
           },
           {
            "bin_start": 0.8942132186099531,
            "bin_end": 1.036148734855686,
            "count": 4
           },
           {
            "bin_start": 1.036148734855686,
            "bin_end": 1.178084251101419,
            "count": 2
           },
           {
            "bin_start": 1.178084251101419,
            "bin_end": 1.3200197673471519,
            "count": 0
           },
           {
            "bin_start": 1.3200197673471519,
            "bin_end": 1.4619552835928848,
            "count": 1
           },
           {
            "bin_start": 1.4619552835928848,
            "bin_end": 1.6038907998386178,
            "count": 0
           },
           {
            "bin_start": 1.6038907998386178,
            "bin_end": 1.7458263160843508,
            "count": 2
           },
           {
            "bin_start": 1.7458263160843508,
            "bin_end": 1.8877618323300838,
            "count": 0
           },
           {
            "bin_start": 1.8877618323300838,
            "bin_end": 2.0296973485758167,
            "count": 1
           }
          ]
         }
        },
        {
         "name": "sat1_col",
         "dtype": "float64",
         "stats": {
          "unique_count": 14,
          "nan_count": 0,
          "min": "0.64",
          "max": "2.03",
          "histogram": [
           {
            "bin_start": 0.64,
            "bin_end": 0.7789999999999999,
            "count": 1
           },
           {
            "bin_start": 0.7789999999999999,
            "bin_end": 0.9179999999999999,
            "count": 1
           },
           {
            "bin_start": 0.9179999999999999,
            "bin_end": 1.057,
            "count": 2
           },
           {
            "bin_start": 1.057,
            "bin_end": 1.1959999999999997,
            "count": 1
           },
           {
            "bin_start": 1.1959999999999997,
            "bin_end": 1.335,
            "count": 1
           },
           {
            "bin_start": 1.335,
            "bin_end": 1.4739999999999998,
            "count": 3
           },
           {
            "bin_start": 1.4739999999999998,
            "bin_end": 1.6129999999999995,
            "count": 3
           },
           {
            "bin_start": 1.6129999999999995,
            "bin_end": 1.7519999999999998,
            "count": 0
           },
           {
            "bin_start": 1.7519999999999998,
            "bin_end": 1.8909999999999996,
            "count": 0
           },
           {
            "bin_start": 1.8909999999999996,
            "bin_end": 2.03,
            "count": 3
           }
          ]
         }
        },
        {
         "name": "_deepnote_index_column",
         "dtype": "int64"
        }
       ],
       "rows_top": [
        {
         "1.3": 0.0089955903980091,
         "sa_avg": 0.0108089241962534,
         "da5_75": 14.484000000000002,
         "da5_95": 21.416,
         "fiv3": 2.8817972307762902,
         "sa_ratio": 0.8322373470920671,
         "sat1_col": 0.78,
         "_deepnote_index_column": 0
        },
        {
         "1.3": 0.0298526395365752,
         "sa_avg": 0.031043518220914,
         "da5_75": 14.43,
         "da5_95": 18.27,
         "fiv3": 7.64205938302815,
         "sa_ratio": 0.961638411089098,
         "sat1_col": 1.96,
         "_deepnote_index_column": 1
        },
        {
         "1.3": 0.1710519564927258,
         "sa_avg": 0.0984251870699982,
         "da5_75": 16.699999999999996,
         "da5_95": 35.105000000000004,
         "fiv3": 42.21886767576784,
         "sa_ratio": 1.7378880506579757,
         "sat1_col": 1.39,
         "_deepnote_index_column": 2
        },
        {
         "1.3": 0.0101747659687363,
         "sa_avg": 0.0101691664551378,
         "da5_75": 7.32,
         "da5_95": 17.37,
         "fiv3": 2.59960466235771,
         "sa_ratio": 1.0005506364384114,
         "sat1_col": 1.97,
         "_deepnote_index_column": 3
        },
        {
         "1.3": 0.0512526799502457,
         "sa_avg": 0.0373749826270409,
         "da5_75": 28.005000000000003,
         "da5_95": 41.635000000000005,
         "fiv3": 11.43450671148276,
         "sa_ratio": 1.371309799972032,
         "sat1_col": 1.43,
         "_deepnote_index_column": 4
        },
        {
         "1.3": 0.0209268096872948,
         "sa_avg": 0.0190947814785831,
         "da5_75": 5.36,
         "da5_95": 19.4,
         "fiv3": 4.703392434349664,
         "sa_ratio": 1.0959439211580626,
         "sat1_col": 1.18,
         "_deepnote_index_column": 5
        },
        {
         "1.3": 0.001710513522033,
         "sa_avg": 0.0027486994280776,
         "da5_75": 5.979999999999997,
         "da5_95": 12.485,
         "fiv3": 0.344222944009221,
         "sa_ratio": 0.6222992243387615,
         "sat1_col": 1.57,
         "_deepnote_index_column": 6
        },
        {
         "1.3": 0.0043346369281548,
         "sa_avg": 0.003773154109979,
         "da5_75": 31.9,
         "da5_95": 44.325,
         "fiv3": 0.6931089591057458,
         "sa_ratio": 1.1488099350861032,
         "sat1_col": 1.45,
         "_deepnote_index_column": 7
        },
        {
         "1.3": 0.0284341071277045,
         "sa_avg": 0.0463117918196487,
         "da5_75": 12.489999999999998,
         "da5_95": 20.285,
         "fiv3": 24.31763258332761,
         "sa_ratio": 0.6139712157636886,
         "sat1_col": 0.64,
         "_deepnote_index_column": 8
        },
        {
         "1.3": 0.0053529203652767,
         "sa_avg": 0.0055890179920218,
         "da5_75": 10.395,
         "da5_95": 17.335,
         "fiv3": 0.9790412628095329,
         "sa_ratio": 0.9577568676497124,
         "sat1_col": 0.93,
         "_deepnote_index_column": 9
        },
        {
         "1.3": 0.1686581964918364,
         "sa_avg": 0.0830952440324067,
         "da5_75": 9.305,
         "da5_95": 16.11,
         "fiv3": 25.829620895920023,
         "sa_ratio": 2.0296973485758167,
         "sat1_col": 2.03,
         "_deepnote_index_column": 10
        },
        {
         "1.3": 0.0206121425877734,
         "sa_avg": 0.0202630332333822,
         "da5_75": 11.97,
         "da5_95": 36.120000000000005,
         "fiv3": 3.685271995615227,
         "sa_ratio": 1.017228879327703,
         "sat1_col": 1.52,
         "_deepnote_index_column": 11
        },
        {
         "1.3": 0.0080861084118478,
         "sa_avg": 0.0132484835486663,
         "da5_75": 14.204999999999998,
         "da5_95": 30.535,
         "fiv3": 2.434355344100929,
         "sa_ratio": 0.6103421861184871,
         "sat1_col": 1.52,
         "_deepnote_index_column": 12
        },
        {
         "1.3": 0.2059682002990934,
         "sa_avg": 0.1280838378965992,
         "da5_75": 2.04,
         "da5_95": 14.15,
         "fiv3": 38.40277801135538,
         "sa_ratio": 1.6080733032482162,
         "sat1_col": 1.29,
         "_deepnote_index_column": 13
        },
        {
         "1.3": 0.028943287818948,
         "sa_avg": 0.0369859715136009,
         "da5_75": 24.205,
         "da5_95": 49.32000000000001,
         "fiv3": 14.749956157536428,
         "sa_ratio": 0.7825477237580379,
         "sat1_col": 0.94,
         "_deepnote_index_column": 14
        }
       ],
       "rows_bottom": null
      },
      "text/plain": "         1.3    sa_avg  da5_75  da5_95       fiv3  sa_ratio  sat1_col\n0   0.008996  0.010809  14.484  21.416   2.881797  0.832237      0.78\n1   0.029853  0.031044  14.430  18.270   7.642059  0.961638      1.96\n2   0.171052  0.098425  16.700  35.105  42.218868  1.737888      1.39\n3   0.010175  0.010169   7.320  17.370   2.599605  1.000551      1.97\n4   0.051253  0.037375  28.005  41.635  11.434507  1.371310      1.43\n5   0.020927  0.019095   5.360  19.400   4.703392  1.095944      1.18\n6   0.001711  0.002749   5.980  12.485   0.344223  0.622299      1.57\n7   0.004335  0.003773  31.900  44.325   0.693109  1.148810      1.45\n8   0.028434  0.046312  12.490  20.285  24.317633  0.613971      0.64\n9   0.005353  0.005589  10.395  17.335   0.979041  0.957757      0.93\n10  0.168658  0.083095   9.305  16.110  25.829621  2.029697      2.03\n11  0.020612  0.020263  11.970  36.120   3.685272  1.017229      1.52\n12  0.008086  0.013248  14.205  30.535   2.434355  0.610342      1.52\n13  0.205968  0.128084   2.040  14.150  38.402778  1.608073      1.29\n14  0.028943  0.036986  24.205  49.320  14.749956  0.782548      0.94",
      "text/html": "<div>\n<style scoped>\n    .dataframe tbody tr th:only-of-type {\n        vertical-align: middle;\n    }\n\n    .dataframe tbody tr th {\n        vertical-align: top;\n    }\n\n    .dataframe thead th {\n        text-align: right;\n    }\n</style>\n<table border=\"1\" class=\"dataframe\">\n  <thead>\n    <tr style=\"text-align: right;\">\n      <th></th>\n      <th>1.3</th>\n      <th>sa_avg</th>\n      <th>da5_75</th>\n      <th>da5_95</th>\n      <th>fiv3</th>\n      <th>sa_ratio</th>\n      <th>sat1_col</th>\n    </tr>\n  </thead>\n  <tbody>\n    <tr>\n      <th>0</th>\n      <td>0.008996</td>\n      <td>0.010809</td>\n      <td>14.484</td>\n      <td>21.416</td>\n      <td>2.881797</td>\n      <td>0.832237</td>\n      <td>0.78</td>\n    </tr>\n    <tr>\n      <th>1</th>\n      <td>0.029853</td>\n      <td>0.031044</td>\n      <td>14.430</td>\n      <td>18.270</td>\n      <td>7.642059</td>\n      <td>0.961638</td>\n      <td>1.96</td>\n    </tr>\n    <tr>\n      <th>2</th>\n      <td>0.171052</td>\n      <td>0.098425</td>\n      <td>16.700</td>\n      <td>35.105</td>\n      <td>42.218868</td>\n      <td>1.737888</td>\n      <td>1.39</td>\n    </tr>\n    <tr>\n      <th>3</th>\n      <td>0.010175</td>\n      <td>0.010169</td>\n      <td>7.320</td>\n      <td>17.370</td>\n      <td>2.599605</td>\n      <td>1.000551</td>\n      <td>1.97</td>\n    </tr>\n    <tr>\n      <th>4</th>\n      <td>0.051253</td>\n      <td>0.037375</td>\n      <td>28.005</td>\n      <td>41.635</td>\n      <td>11.434507</td>\n      <td>1.371310</td>\n      <td>1.43</td>\n    </tr>\n    <tr>\n      <th>5</th>\n      <td>0.020927</td>\n      <td>0.019095</td>\n      <td>5.360</td>\n      <td>19.400</td>\n      <td>4.703392</td>\n      <td>1.095944</td>\n      <td>1.18</td>\n    </tr>\n    <tr>\n      <th>6</th>\n      <td>0.001711</td>\n      <td>0.002749</td>\n      <td>5.980</td>\n      <td>12.485</td>\n      <td>0.344223</td>\n      <td>0.622299</td>\n      <td>1.57</td>\n    </tr>\n    <tr>\n      <th>7</th>\n      <td>0.004335</td>\n      <td>0.003773</td>\n      <td>31.900</td>\n      <td>44.325</td>\n      <td>0.693109</td>\n      <td>1.148810</td>\n      <td>1.45</td>\n    </tr>\n    <tr>\n      <th>8</th>\n      <td>0.028434</td>\n      <td>0.046312</td>\n      <td>12.490</td>\n      <td>20.285</td>\n      <td>24.317633</td>\n      <td>0.613971</td>\n      <td>0.64</td>\n    </tr>\n    <tr>\n      <th>9</th>\n      <td>0.005353</td>\n      <td>0.005589</td>\n      <td>10.395</td>\n      <td>17.335</td>\n      <td>0.979041</td>\n      <td>0.957757</td>\n      <td>0.93</td>\n    </tr>\n    <tr>\n      <th>10</th>\n      <td>0.168658</td>\n      <td>0.083095</td>\n      <td>9.305</td>\n      <td>16.110</td>\n      <td>25.829621</td>\n      <td>2.029697</td>\n      <td>2.03</td>\n    </tr>\n    <tr>\n      <th>11</th>\n      <td>0.020612</td>\n      <td>0.020263</td>\n      <td>11.970</td>\n      <td>36.120</td>\n      <td>3.685272</td>\n      <td>1.017229</td>\n      <td>1.52</td>\n    </tr>\n    <tr>\n      <th>12</th>\n      <td>0.008086</td>\n      <td>0.013248</td>\n      <td>14.205</td>\n      <td>30.535</td>\n      <td>2.434355</td>\n      <td>0.610342</td>\n      <td>1.52</td>\n    </tr>\n    <tr>\n      <th>13</th>\n      <td>0.205968</td>\n      <td>0.128084</td>\n      <td>2.040</td>\n      <td>14.150</td>\n      <td>38.402778</td>\n      <td>1.608073</td>\n      <td>1.29</td>\n    </tr>\n    <tr>\n      <th>14</th>\n      <td>0.028943</td>\n      <td>0.036986</td>\n      <td>24.205</td>\n      <td>49.320</td>\n      <td>14.749956</td>\n      <td>0.782548</td>\n      <td>0.94</td>\n    </tr>\n  </tbody>\n</table>\n</div>"
     },
     "metadata": {}
    }
   ]
  },
  {
   "cell_type": "code",
   "metadata": {
    "tags": [],
    "cell_id": "00004-3c084b27-3beb-4486-ac06-90986eee3a18",
    "deepnote_to_be_reexecuted": false,
    "source_hash": "908bfceb",
    "execution_start": 1621064098703,
    "execution_millis": 13,
    "deepnote_cell_type": "code"
   },
   "source": "# X_train\ny_train = X_train[:,-1]\nX_train = np.delete(X_train, -1, axis=1)\nprint('Actual Training set shape:')\nprint(X_train.shape)\nprint('Training answer shape:')\nprint(y_train.shape)\n\n# X_val\ny_val = X_val[:,-1]\nX_val = np.delete(X_val, -1, axis=1)\nprint('Validation set shape:')\nprint(X_val.shape)\nprint('Validation answer shape:')\nprint(y_val.shape)",
   "execution_count": null,
   "outputs": [
    {
     "name": "stdout",
     "text": "Actual Training set shape:\n(12646, 6)\nTraining answer shape:\n(12646,)\nValidation set shape:\n(1500, 6)\nValidation answer shape:\n(1500,)\n",
     "output_type": "stream"
    }
   ]
  },
  {
   "cell_type": "markdown",
   "source": "### Normalise",
   "metadata": {
    "tags": [],
    "cell_id": "00004-eea1e707-7b4c-407a-b2e0-664e39829821",
    "deepnote_cell_type": "text-cell-h3"
   }
  },
  {
   "cell_type": "code",
   "metadata": {
    "tags": [],
    "cell_id": "00004-b8b8968b-58a6-4405-b17c-8c50fe17779f",
    "deepnote_to_be_reexecuted": false,
    "source_hash": "cf38f7c3",
    "execution_start": 1621064098753,
    "execution_millis": 3,
    "deepnote_cell_type": "code"
   },
   "source": "mean = X_train.mean(axis=0)\nstd = X_train.std(axis=0)\n\ndef normalise(X, mean, std):\n    return (X-mean)/std\n\nX_train = normalise(X_train, mean, std)\nX_val = normalise(X_val, mean, std)\nX_test = normalise(X_test, mean, std)",
   "execution_count": null,
   "outputs": []
  },
  {
   "cell_type": "markdown",
   "source": "## Adding constant",
   "metadata": {
    "tags": [],
    "cell_id": "00007-73f38cd7-53a7-4861-94e9-a264e3d6a599",
    "deepnote_cell_type": "text-cell-h2"
   }
  },
  {
   "cell_type": "code",
   "metadata": {
    "tags": [],
    "cell_id": "00007-29e54db1-c46c-4a58-b3e9-ce14eeaa6cef",
    "deepnote_to_be_reexecuted": false,
    "source_hash": "5009fdbb",
    "execution_start": 1621064099112,
    "execution_millis": 3,
    "deepnote_cell_type": "code"
   },
   "source": "def add_constant(X: np.ndarray) -> np.ndarray:\n    X_with_offset = np.insert(X, 0, 1, axis=1)\n\n    return X_with_offset\n\nX_train = add_constant(X_train)\nX_val = add_constant(X_val)\n",
   "execution_count": null,
   "outputs": []
  },
  {
   "cell_type": "code",
   "metadata": {
    "tags": [],
    "cell_id": "00009-8c894ef2-f6b8-4889-92dc-e5750b8e1b62",
    "deepnote_to_be_reexecuted": false,
    "source_hash": "85580b8e",
    "execution_start": 1621064099305,
    "execution_millis": 8,
    "deepnote_cell_type": "code"
   },
   "source": "print('Training set features:')\nprint(f'X_train: \\n {X_train[:10]}')\n\nprint('\\nTraining set labels:')\nprint(f'y_train: \\n {y_train[:10]}')\n\n\nprint('Actual Training set shape:')\nprint(X_train.shape)\n\nprint('Training answer shape:')\nprint(y_train.shape)\n\n# y_val\nprint('Validation set shape:')\nprint(X_val.shape)\n\nprint('Validation answer shape:')\nprint(y_val.shape)",
   "execution_count": null,
   "outputs": [
    {
     "name": "stdout",
     "text": "Training set features:\nX_train: \n [[ 1.         -0.40479176 -0.41729232 -0.12981772 -0.37117896 -0.40883928\n  -0.44135078]\n [ 1.         -0.19453931 -0.17709485 -0.13332457 -0.48275726 -0.2503362\n  -0.13648569]\n [ 1.          1.22884046  0.62276833  0.01409295  0.11432497  0.90097239\n   1.69233555]\n [ 1.         -0.39290491 -0.42488665 -0.59505963 -0.51467731 -0.41823549\n  -0.04480963]\n [ 1.          0.02118684 -0.10193634  0.74825819  0.34592265 -0.12405858\n   0.82868801]\n [ 1.         -0.28451741 -0.31893393 -0.72234524 -0.44267987 -0.34818539\n   0.17993413]\n [ 1.         -0.47823001 -0.5129723  -0.68208143 -0.68793224 -0.49333323\n  -0.9359588 ]\n [ 1.         -0.45177716 -0.50081138  1.00120587  0.44132813 -0.48171633\n   0.3044849 ]\n [ 1.         -0.20883903  0.00414925 -0.25931135 -0.41129182  0.30491258\n  -0.95557934]\n [ 1.         -0.44151221 -0.47925592 -0.39536409 -0.51591864 -0.4721956\n  -0.14563049]]\n\nTraining set labels:\ny_train: \n [0.78 1.96 1.39 1.97 1.43 1.18 1.57 1.45 0.64 0.93]\nActual Training set shape:\n(12646, 7)\nTraining answer shape:\n(12646,)\nValidation set shape:\n(1500, 7)\nValidation answer shape:\n(1500,)\n",
     "output_type": "stream"
    }
   ]
  },
  {
   "cell_type": "markdown",
   "source": "## MSE Loss Function",
   "metadata": {
    "tags": [],
    "cell_id": "00010-086de9ac-90ff-4bb0-bf34-272586b76778",
    "deepnote_cell_type": "text-cell-h2"
   }
  },
  {
   "cell_type": "code",
   "metadata": {
    "tags": [],
    "cell_id": "00010-d3e6e315-3553-4511-b9f1-5422e02a55ba",
    "deepnote_to_be_reexecuted": false,
    "source_hash": "95d95f86",
    "execution_start": 1621064099718,
    "execution_millis": 0,
    "deepnote_cell_type": "code"
   },
   "source": "def mse_loss(X: np.ndarray, y: np.ndarray, w: np.ndarray) -> np.ndarray:\n    \n    N = y.shape[0]\n    y_hat = X @ w\n    loss = (1/ N) * ((y_hat - y).T @ (y_hat - y))\n    return loss\n",
   "execution_count": null,
   "outputs": []
  },
  {
   "cell_type": "code",
   "metadata": {
    "tags": [],
    "cell_id": "00011-eabbad2d-e49b-4035-bd2d-3370b05b292b",
    "deepnote_to_be_reexecuted": false,
    "source_hash": "d69c081d",
    "execution_start": 1621064099872,
    "execution_millis": 7,
    "deepnote_cell_type": "code"
   },
   "source": "zero_weights = np.zeros(X_train.shape[1])\nprint(zero_weights.shape)",
   "execution_count": null,
   "outputs": [
    {
     "name": "stdout",
     "text": "(7,)\n",
     "output_type": "stream"
    }
   ]
  },
  {
   "cell_type": "code",
   "metadata": {
    "tags": [],
    "cell_id": "00012-560053a4-8bf8-4bb9-83a5-2f1cfcf510b7",
    "deepnote_to_be_reexecuted": false,
    "source_hash": "6fc2dc2c",
    "execution_start": 1621064100073,
    "execution_millis": 10,
    "deepnote_cell_type": "code"
   },
   "source": "train_loss = mse_loss(X_train, y_train, zero_weights)\nval_loss = mse_loss(X_val, y_val, zero_weights)\nprint(f\"Train loss: {train_loss:.5f}\")\nprint(f\"Val loss: {val_loss:.5f}\")",
   "execution_count": null,
   "outputs": [
    {
     "name": "stdout",
     "text": "Train loss: 2.01835\nVal loss: 1.93480\n",
     "output_type": "stream"
    }
   ]
  },
  {
   "cell_type": "markdown",
   "source": "### Gradient Descent",
   "metadata": {
    "tags": [],
    "cell_id": "00014-2e612156-d7b5-4f9e-8b3d-9eebb8ff88ed",
    "deepnote_cell_type": "text-cell-h3"
   }
  },
  {
   "cell_type": "code",
   "metadata": {
    "tags": [],
    "cell_id": "00013-586134e8-a5ad-4cf4-8e96-72b658f3accb",
    "deepnote_to_be_reexecuted": false,
    "source_hash": "3d5768bf",
    "execution_start": 1621064100495,
    "execution_millis": 2,
    "deepnote_cell_type": "code"
   },
   "source": "def mse_gradient(X: np.ndarray, y: np.ndarray, w: np.ndarray) -> np.ndarray:\n\n    N = y.shape[0]\n    grad = (2/N) * X.T @ (X @ w - y)\n\n    return grad",
   "execution_count": null,
   "outputs": []
  },
  {
   "cell_type": "code",
   "metadata": {
    "tags": [],
    "cell_id": "00014-3a2cbeed-de4d-4be6-be4e-e4e505648015",
    "deepnote_to_be_reexecuted": false,
    "source_hash": "be656663",
    "execution_start": 1621064100702,
    "execution_millis": 1,
    "deepnote_cell_type": "code"
   },
   "source": "def gradient_descent(X: np.ndarray, y: np.ndarray, w: np.ndarray, alpha: float, max_iters: int) -> (np.ndarray, np.ndarray):\n  \n    losses = np.zeros(max_iters)\n    \n    for n_iter in range(max_iters):\n        w = w - alpha * mse_gradient(X, y, w)   \n        loss = mse_loss(X, y, w)\n        \n        losses[n_iter] = loss\n        \n        if n_iter % (max_iters / 20) == 0:\n            if w.shape[0] == 7: \n                print(f\"Iteration {n_iter}: loss={loss:.5f}, w0={w[0]:.3f}, w1={w[1]:.3f}, w2={w[2]:.3f}, w3={w[3]:.3f}, w4={w[4]:.3f}, w5 ={w[5]:.3f}, w6 ={w[6]:.3f}\")\n            else:\n                print(f\"Iteration {n_iter}: loss={loss:.5f}\")\n\n    return w, losses",
   "execution_count": null,
   "outputs": []
  },
  {
   "cell_type": "code",
   "metadata": {
    "tags": [],
    "cell_id": "00015-3622bdc3-cafd-4856-9055-a0395707f99a",
    "deepnote_to_be_reexecuted": false,
    "source_hash": "eb5a597d",
    "execution_start": 1621064239597,
    "execution_millis": 1,
    "deepnote_cell_type": "code"
   },
   "source": "alpha = 0.001\niters = 10000\nw = np.zeros((X_train.shape[1], ))\n",
   "execution_count": null,
   "outputs": []
  },
  {
   "cell_type": "code",
   "metadata": {
    "tags": [],
    "cell_id": "00016-967e3d46-26fb-409d-839b-dbfc349a64d5",
    "deepnote_to_be_reexecuted": false,
    "source_hash": "3ae4eece",
    "execution_start": 1621064240061,
    "execution_millis": 4598,
    "deepnote_cell_type": "code"
   },
   "source": "w, loss = gradient_descent(X_train, y_train, w, alpha, iters)\n",
   "execution_count": null,
   "outputs": [
    {
     "name": "stdout",
     "text": "Iteration 0: loss=2.01108, w0=0.003, w1=0.000, w2=0.000, w3=-0.000, w4=-0.000, w5 =-0.000, w6 =0.000\nIteration 500: loss=0.46035, w0=0.827, w1=0.033, w2=-0.001, w3=-0.092, w4=-0.095, w5 =-0.032, w6 =0.128\nIteration 1000: loss=0.25071, w0=1.130, w1=0.047, w2=-0.003, w3=-0.111, w4=-0.118, w5 =-0.061, w6 =0.186\nIteration 1500: loss=0.22127, w0=1.241, w1=0.059, w2=-0.001, w3=-0.116, w4=-0.126, w5 =-0.083, w6 =0.210\nIteration 2000: loss=0.21654, w0=1.282, w1=0.069, w2=0.004, w3=-0.116, w4=-0.129, w5 =-0.101, w6 =0.219\nIteration 2500: loss=0.21529, w0=1.297, w1=0.078, w2=0.010, w3=-0.115, w4=-0.131, w5 =-0.117, w6 =0.222\nIteration 3000: loss=0.21461, w0=1.303, w1=0.086, w2=0.016, w3=-0.113, w4=-0.132, w5 =-0.131, w6 =0.223\nIteration 3500: loss=0.21407, w0=1.305, w1=0.093, w2=0.022, w3=-0.111, w4=-0.133, w5 =-0.144, w6 =0.223\nIteration 4000: loss=0.21363, w0=1.306, w1=0.100, w2=0.028, w3=-0.109, w4=-0.133, w5 =-0.156, w6 =0.222\nIteration 4500: loss=0.21324, w0=1.306, w1=0.105, w2=0.033, w3=-0.108, w4=-0.134, w5 =-0.167, w6 =0.221\nIteration 5000: loss=0.21291, w0=1.306, w1=0.111, w2=0.038, w3=-0.106, w4=-0.135, w5 =-0.178, w6 =0.221\nIteration 5500: loss=0.21263, w0=1.306, w1=0.116, w2=0.043, w3=-0.104, w4=-0.136, w5 =-0.187, w6 =0.220\nIteration 6000: loss=0.21239, w0=1.306, w1=0.120, w2=0.048, w3=-0.103, w4=-0.136, w5 =-0.196, w6 =0.220\nIteration 6500: loss=0.21218, w0=1.306, w1=0.124, w2=0.052, w3=-0.101, w4=-0.137, w5 =-0.204, w6 =0.219\nIteration 7000: loss=0.21200, w0=1.306, w1=0.128, w2=0.056, w3=-0.100, w4=-0.138, w5 =-0.212, w6 =0.219\nIteration 7500: loss=0.21184, w0=1.306, w1=0.131, w2=0.060, w3=-0.099, w4=-0.138, w5 =-0.219, w6 =0.218\nIteration 8000: loss=0.21171, w0=1.306, w1=0.134, w2=0.064, w3=-0.097, w4=-0.139, w5 =-0.225, w6 =0.218\nIteration 8500: loss=0.21159, w0=1.306, w1=0.137, w2=0.067, w3=-0.096, w4=-0.140, w5 =-0.231, w6 =0.218\nIteration 9000: loss=0.21149, w0=1.306, w1=0.139, w2=0.071, w3=-0.095, w4=-0.140, w5 =-0.237, w6 =0.217\nIteration 9500: loss=0.21140, w0=1.306, w1=0.141, w2=0.074, w3=-0.094, w4=-0.141, w5 =-0.242, w6 =0.217\n",
     "output_type": "stream"
    }
   ]
  },
  {
   "cell_type": "code",
   "metadata": {
    "tags": [],
    "cell_id": "00017-c00c84a3-5d48-459b-9861-2c527a4e3d56",
    "deepnote_to_be_reexecuted": false,
    "source_hash": "d45c79c8",
    "execution_start": 1621064254942,
    "execution_millis": 5,
    "deepnote_cell_type": "code"
   },
   "source": "train_loss = mse_loss(X_train, y_train, w)\nval_loss = mse_loss(X_val, y_val, w)\nprint(f\"Train loss: {train_loss:.5f}\")\nprint(f\"Val loss: {val_loss:.5f}\")",
   "execution_count": null,
   "outputs": [
    {
     "name": "stdout",
     "text": "Train loss: 0.21133\nVal loss: 0.20266\n",
     "output_type": "stream"
    }
   ]
  },
  {
   "cell_type": "code",
   "metadata": {
    "tags": [],
    "cell_id": "00020-e12412d6-8f73-4bb9-a88b-99d1a4115ce5",
    "deepnote_to_be_reexecuted": false,
    "source_hash": "d3b3cb2f",
    "execution_start": 1621064256933,
    "execution_millis": 161,
    "deepnote_cell_type": "code"
   },
   "source": "def plot_loss(loss_list):\n    plt.figure(figsize=(6, 6))\n    step = np.arange(1, len(loss_list) + 1)\n    plt.plot(step, loss_list)\n    plt.title(\"Evolution of the loss during the training\")\n    plt.xlabel(\"iteration\")\n    plt.ylabel(\"Loss\")\n    plt.show()\n\nplot_loss(loss)",
   "execution_count": null,
   "outputs": [
    {
     "data": {
      "text/plain": "<Figure size 432x432 with 1 Axes>",
      "image/png": "[encoded data removed]"
     },
     "metadata": {
      "needs_background": "light",
      "image/png": {
       "width": 393,
       "height": 387
      }
     },
     "output_type": "display_data"
    }
   ]
  },
  {
   "cell_type": "code",
   "metadata": {
    "tags": [],
    "cell_id": "00021-e0dbfb32-707f-4c40-aa69-29cf955dff59",
    "deepnote_to_be_reexecuted": false,
    "source_hash": "d27e6044",
    "execution_start": 1621064299658,
    "execution_millis": 3,
    "deepnote_cell_type": "code"
   },
   "source": "def predict(X, w):\n  \n    y_hat = X @ w\n  \n    return y_hat\n    ",
   "execution_count": null,
   "outputs": []
  },
  {
   "cell_type": "code",
   "metadata": {
    "tags": [],
    "cell_id": "00022-eb0f89b8-de39-4478-b643-872c2eee111c",
    "deepnote_to_be_reexecuted": false,
    "source_hash": "5ffc01f3",
    "execution_start": 1621064398898,
    "execution_millis": 11,
    "deepnote_cell_type": "code"
   },
   "source": "expected_value = predict(X_train, w)\nprint(expected_value)\n",
   "execution_count": null,
   "outputs": [
    {
     "name": "stdout",
     "text": "[1.28583578 1.37751686 1.65672264 ... 1.22980284 1.48790299 1.35228815]\n",
     "output_type": "stream"
    }
   ]
  },
  {
   "cell_type": "markdown",
   "source": "### K-Folding Stuff",
   "metadata": {
    "tags": [],
    "cell_id": "00023-ac43e785-78d9-492d-9bec-8beb778b6b31",
    "deepnote_cell_type": "text-cell-h3"
   }
  },
  {
   "cell_type": "code",
   "metadata": {
    "tags": [],
    "cell_id": "00023-1fca300c-9ff3-4976-9f34-7897041a1188",
    "deepnote_to_be_reexecuted": false,
    "source_hash": "55cde77d",
    "execution_start": 1621064404408,
    "execution_millis": 1,
    "deepnote_cell_type": "code"
   },
   "source": "def k_fold_indices(num_examples: int, k: int = 4) -> List[Tuple[np.ndarray, np.ndarray]]:\n    indices = np.arange(num_examples)\n    split_size = num_examples // k\n    val_indices = [indices[k * split_size : (k + 1) * split_size] for k in range(k)]\n    both_indices = [(np.delete(indices, val_ind), val_ind) for val_ind in val_indices]\n    return both_indices\n",
   "execution_count": null,
   "outputs": []
  },
  {
   "cell_type": "code",
   "metadata": {
    "tags": [],
    "cell_id": "00024-3ffbd76e-435a-4c65-97cc-7cd5fe5ad492",
    "deepnote_to_be_reexecuted": true,
    "source_hash": "f97e1881",
    "execution_start": 1621006817732,
    "execution_millis": 893451,
    "deepnote_cell_type": "code"
   },
   "source": "def cross_val_penalized_logistic_regression(X: np.ndarray,\n                                            y: np.ndarray,\n                                            lambd: float = 0,\n                                            max_iters: int = 1001,\n                                            lr: float = 0.5,\n                                            loss_freq: int = 0,\n                                            k: int = 4) -> float:\n  \n    val_accs = []\n\n    for train_index, val_index in k_fold_indices(X.shape[0] , k):\n        w, b, _ = train_penalized_logistic_regression(X[train_index], y[train_index], lambd, max_iters, lr, loss_freq)\n        y_hat = logistic_output(X[val_index], w, b)\n        val_accs.append(accuracy(y[val_index], classify(y_hat)))\n\n    return np.mean(val_accs)",
   "execution_count": null,
   "outputs": []
  },
  {
   "cell_type": "code",
   "metadata": {
    "tags": [],
    "cell_id": "00026-76591b8c-80a7-4e71-88c4-8f047a424e46",
    "deepnote_to_be_reexecuted": true,
    "source_hash": "5d579389",
    "execution_start": 1621006817732,
    "execution_millis": 7,
    "deepnote_cell_type": "code"
   },
   "source": "mean_cv_acc = cross_val_penalized_logistic_regression(X_train, y_train)\nprint(f\"Mean CV acc for default settings: {mean_cv_acc}\")",
   "execution_count": null,
   "outputs": [
    {
     "output_type": "error",
     "ename": "NameError",
     "evalue": "name 'train_penalized_logistic_regression' is not defined",
     "traceback": [
      "\u001b[0;31m---------------------------------------------------------------------------\u001b[0m",
      "\u001b[0;31mNameError\u001b[0m                                 Traceback (most recent call last)",
      "\u001b[0;32m<ipython-input-33-7353d5e5845c>\u001b[0m in \u001b[0;36m<module>\u001b[0;34m\u001b[0m\n\u001b[0;32m----> 1\u001b[0;31m \u001b[0mmean_cv_acc\u001b[0m \u001b[0;34m=\u001b[0m \u001b[0mcross_val_penalized_logistic_regression\u001b[0m\u001b[0;34m(\u001b[0m\u001b[0mX_train\u001b[0m\u001b[0;34m,\u001b[0m \u001b[0my_train\u001b[0m\u001b[0;34m)\u001b[0m\u001b[0;34m\u001b[0m\u001b[0;34m\u001b[0m\u001b[0m\n\u001b[0m\u001b[1;32m      2\u001b[0m \u001b[0mprint\u001b[0m\u001b[0;34m(\u001b[0m\u001b[0;34mf\"Mean CV acc for default settings: {mean_cv_acc}\"\u001b[0m\u001b[0;34m)\u001b[0m\u001b[0;34m\u001b[0m\u001b[0;34m\u001b[0m\u001b[0m\n",
      "\u001b[0;32m<ipython-input-32-ab35c0c497c3>\u001b[0m in \u001b[0;36mcross_val_penalized_logistic_regression\u001b[0;34m(X, y, lambd, max_iters, lr, loss_freq, k)\u001b[0m\n\u001b[1;32m     10\u001b[0m \u001b[0;34m\u001b[0m\u001b[0m\n\u001b[1;32m     11\u001b[0m     \u001b[0;32mfor\u001b[0m \u001b[0mtrain_index\u001b[0m\u001b[0;34m,\u001b[0m \u001b[0mval_index\u001b[0m \u001b[0;32min\u001b[0m \u001b[0mk_fold_indices\u001b[0m\u001b[0;34m(\u001b[0m\u001b[0mX\u001b[0m\u001b[0;34m.\u001b[0m\u001b[0mshape\u001b[0m\u001b[0;34m[\u001b[0m\u001b[0;36m0\u001b[0m\u001b[0;34m]\u001b[0m \u001b[0;34m,\u001b[0m \u001b[0mk\u001b[0m\u001b[0;34m)\u001b[0m\u001b[0;34m:\u001b[0m\u001b[0;34m\u001b[0m\u001b[0;34m\u001b[0m\u001b[0m\n\u001b[0;32m---> 12\u001b[0;31m         \u001b[0mw\u001b[0m\u001b[0;34m,\u001b[0m \u001b[0mb\u001b[0m\u001b[0;34m,\u001b[0m \u001b[0m_\u001b[0m \u001b[0;34m=\u001b[0m \u001b[0mtrain_penalized_logistic_regression\u001b[0m\u001b[0;34m(\u001b[0m\u001b[0mX\u001b[0m\u001b[0;34m[\u001b[0m\u001b[0mtrain_index\u001b[0m\u001b[0;34m]\u001b[0m\u001b[0;34m,\u001b[0m \u001b[0my\u001b[0m\u001b[0;34m[\u001b[0m\u001b[0mtrain_index\u001b[0m\u001b[0;34m]\u001b[0m\u001b[0;34m,\u001b[0m \u001b[0mlambd\u001b[0m\u001b[0;34m,\u001b[0m \u001b[0mmax_iters\u001b[0m\u001b[0;34m,\u001b[0m \u001b[0mlr\u001b[0m\u001b[0;34m,\u001b[0m \u001b[0mloss_freq\u001b[0m\u001b[0;34m)\u001b[0m\u001b[0;34m\u001b[0m\u001b[0;34m\u001b[0m\u001b[0m\n\u001b[0m\u001b[1;32m     13\u001b[0m         \u001b[0my_hat\u001b[0m \u001b[0;34m=\u001b[0m \u001b[0mlogistic_output\u001b[0m\u001b[0;34m(\u001b[0m\u001b[0mX\u001b[0m\u001b[0;34m[\u001b[0m\u001b[0mval_index\u001b[0m\u001b[0;34m]\u001b[0m\u001b[0;34m,\u001b[0m \u001b[0mw\u001b[0m\u001b[0;34m,\u001b[0m \u001b[0mb\u001b[0m\u001b[0;34m)\u001b[0m\u001b[0;34m\u001b[0m\u001b[0;34m\u001b[0m\u001b[0m\n\u001b[1;32m     14\u001b[0m         \u001b[0mval_accs\u001b[0m\u001b[0;34m.\u001b[0m\u001b[0mappend\u001b[0m\u001b[0;34m(\u001b[0m\u001b[0maccuracy\u001b[0m\u001b[0;34m(\u001b[0m\u001b[0my\u001b[0m\u001b[0;34m[\u001b[0m\u001b[0mval_index\u001b[0m\u001b[0;34m]\u001b[0m\u001b[0;34m,\u001b[0m \u001b[0mclassify\u001b[0m\u001b[0;34m(\u001b[0m\u001b[0my_hat\u001b[0m\u001b[0;34m)\u001b[0m\u001b[0;34m)\u001b[0m\u001b[0;34m)\u001b[0m\u001b[0;34m\u001b[0m\u001b[0;34m\u001b[0m\u001b[0m\n",
      "\u001b[0;31mNameError\u001b[0m: name 'train_penalized_logistic_regression' is not defined"
     ]
    }
   ]
  },
  {
   "cell_type": "markdown",
   "source": "helpers.plot_loss(loss)- predict the collapse capacities of a building, given an earthquake, the data which is given to us: - metrics of ground mothing intensity",
   "metadata": {
    "tags": [],
    "cell_id": "00005-fbb9f32f-2393-4cf3-a686-6a562f5828be",
    "deepnote_cell_type": "text-cell-p"
   }
  },
  {
   "cell_type": "markdown",
   "source": "PGA(peak ground acceleration) does not take into account the dynamic response of building- so use Sa(T) (spectral acceleration)- describes what buildings with different periods will experience. =1000 ground motion of earthquakes.",
   "metadata": {
    "tags": [],
    "cell_id": "00008-e677ff4a-b69a-49f1-b2ab-a5146f7400a7",
    "deepnote_cell_type": "text-cell-p"
   }
  },
  {
   "cell_type": "markdown",
   "source": "Collapse capacity: value of the smallest spectral acceleration of a ground motion at the fundamental period of the structure which will cause the structure to collapse.",
   "metadata": {
    "tags": [],
    "cell_id": "00009-60c74495-62a5-4f5e-901c-8b12a476d15f",
    "deepnote_cell_type": "text-cell-p"
   }
  },
  {
   "cell_type": "markdown",
   "source": " w1 * (1.3) + w2*(da5_75) + w3*(da5_95) + w4*(fiv3) + w5*(sa_ratio) = sat1_col",
   "metadata": {
    "tags": [],
    "cell_id": "00010-6c388197-a73e-4318-99d1-30309cd8ce9f",
    "deepnote_cell_type": "text-cell-p"
   }
  },
  {
   "cell_type": "markdown",
   "source": "",
   "metadata": {
    "tags": [],
    "cell_id": "00011-296c3152-e705-4b47-bff0-8495d5988a3a",
    "deepnote_cell_type": "text-cell-p"
   }
  },
  {
   "cell_type": "markdown",
   "source": "<a style='text-decoration:none;line-height:16px;display:flex;color:#5B5B62;padding:10px;justify-content:end;' href='https://deepnote.com?utm_source=created-in-deepnote-cell&projectId=ad5b9508-4536-4617-b060-a55c942dfcf5' target=\"_blank\">\n<img alt='Created in deepnote.com' style='display:inline;max-height:16px;margin:0px;margin-right:7.5px;' src='data:image/svg+xml;base64,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' > </img>\nCreated in <span style='font-weight:600;margin-left:4px;'>Deepnote</span></a>",
   "metadata": {
    "tags": [],
    "created_in_deepnote_cell": true,
    "deepnote_cell_type": "markdown"
   }
  }
 ],
 "nbformat": 4,
 "nbformat_minor": 2,
 "metadata": {
  "orig_nbformat": 2,
  "deepnote": {
   "is_reactive": false
  },
  "deepnote_notebook_id": "e952ad16-6638-4db1-b64c-eb030c19cea1",
  "deepnote_execution_queue": []
 }
}
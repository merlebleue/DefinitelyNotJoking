{
 "cells": [
  {
   "cell_type": "markdown",
   "source": "### Outline\n\n1. Import libraries\n2. Import data (pandas)\n3. Work with data\n * Normalise\n * See if we need to use all the collumns\n4. Define model (e.g. Linear Regression)\n4. Define Loss and gradient\n5. Train\n6. Test on val\n7. Improve\n\n*Tip*\n- you could implement k_fold validation **if you guys want**",
   "metadata": {
    "tags": [],
    "cell_id": "00000-dbbd5ae1-682a-4c48-b4d3-8a10d900e3b8",
    "deepnote_cell_type": "markdown"
   }
  },
  {
   "cell_type": "markdown",
   "source": "",
   "metadata": {
    "tags": [],
    "cell_id": "00001-f0cccbac-2ca6-4650-8768-c675608900c4",
    "deepnote_cell_type": "markdown"
   }
  },
  {
   "cell_type": "code",
   "metadata": {
    "tags": [],
    "cell_id": "00004-22849d56-2161-4ab0-8999-168ace6251dc",
    "deepnote_to_be_reexecuted": false,
    "source_hash": "462037e1",
    "execution_start": 1621280136167,
    "execution_millis": 4,
    "deepnote_cell_type": "code"
   },
   "source": "from typing import Tuple, List\nimport pandas as pd\nimport numpy as np\nimport matplotlib.pyplot as plt\nimport helpers\n\nimport plotly.graph_objects as go\n",
   "execution_count": null,
   "outputs": []
  },
  {
   "cell_type": "code",
   "metadata": {
    "tags": [],
    "cell_id": "00005-ea71c466-00fb-4a22-856a-2dba0a456534",
    "deepnote_to_be_reexecuted": false,
    "source_hash": "7e42e1cc",
    "execution_start": 1621280137576,
    "execution_millis": 1679,
    "deepnote_cell_type": "code"
   },
   "source": "df_train = pd.read_csv('Data/train_set.csv')\ndf_val = pd.read_csv('Data/val_set.csv')\ndf_test = pd.read_csv('Data/test_set.csv')\n\n# Separation so lil brain understands data\ntarget = ['sat1_col']\nnon_period_features = ['sa_avg', 'da5_75', 'da5_95', 'fiv3', 'sa_ratio']\nraw_period_features = [e for e in df_train.columns if e not in non_period_features]\n\n# Data separation\n#X_train = df_train[[\"1.3\"] + non_period_features].to_numpy()\n#y_train = df_train[target].to_numpy()\nX_train = df_train[[\"1.3\" ] + [\"2.6\"] + [\"6.5\"] + non_period_features + target].to_numpy()\nX_val = df_val[[\"1.3\" ] + [\"2.6\"] + [\"6.5\"] + non_period_features + target].to_numpy()\nX_test = df_test[[\"1.3\" ] + [\"2.6\"] + [\"6.5\"] +  non_period_features].to_numpy()\n\n#all of em\n##X_train = df_train.to_numpy()\n#X_val = df_val.to_numpy()\n#X_test = df_test.to_numpy()\n\n\n# Data visualisation\nprint(\"Non period features:\", non_period_features)\nprint(\"Raw period features\", raw_period_features)\n#df_train[[\"1.3\"] + non_period_features + target].head(15)\ndf_train[raw_period_features].head(5)\n",
   "execution_count": null,
   "outputs": [
    {
     "name": "stdout",
     "text": "Non period features: ['sa_avg', 'da5_75', 'da5_95', 'fiv3', 'sa_ratio']\nRaw period features ['0.01', '0.02', '0.022', '0.025', '0.029', '0.03', '0.032', '0.035', '0.036', '0.04', '0.042', '0.044', '0.045', '0.046', '0.048', '0.05', '0.055', '0.06', '0.065', '0.067', '0.07', '0.075', '0.08', '0.085', '0.09', '0.095', '0.1', '0.11', '0.12', '0.13', '0.133', '0.14', '0.15', '0.16', '0.17', '0.18', '0.19', '0.2', '0.22', '0.24', '0.25', '0.26', '0.28', '0.29', '0.3', '0.32', '0.34', '0.35', '0.36', '0.38', '0.4', '0.42', '0.44', '0.45', '0.46', '0.48', '0.5', '0.55', '0.6', '0.65', '0.667', '0.7', '0.75', '0.8', '0.85', '0.9', '0.95', '1.0', '1.1', '1.2', '1.3', '1.4', '1.5', '1.6', '1.7', '1.8', '1.9', '2.0', '2.2', '2.4', '2.5', '2.6', '2.8', '3.0', '3.2', '3.4', '3.5', '3.6', '3.8', '4.0', '4.2', '4.4', '4.6', '4.8', '5.0', '5.5', '6.0', '6.5', '7.0', '7.5', '8.0', '8.5', '9.0', '9.5', '10.0', 'sat1_col']\n",
     "output_type": "stream"
    },
    {
     "output_type": "execute_result",
     "execution_count": 84,
     "data": {
      "application/vnd.deepnote.dataframe.v2+json": {
       "row_count": 5,
       "column_count": 106,
       "columns": [
        {
         "name": "0.01",
         "dtype": "float64",
         "stats": {
          "unique_count": 5,
          "nan_count": 0,
          "min": "0.0110748936972309",
          "max": "0.1553801298694446",
          "histogram": [
           {
            "bin_start": 0.0110748936972309,
            "bin_end": 0.02550541731445227,
            "count": 2
           },
           {
            "bin_start": 0.02550541731445227,
            "bin_end": 0.03993594093167364,
            "count": 1
           },
           {
            "bin_start": 0.03993594093167364,
            "bin_end": 0.054366464548895,
            "count": 0
           },
           {
            "bin_start": 0.054366464548895,
            "bin_end": 0.06879698816611637,
            "count": 1
           },
           {
            "bin_start": 0.06879698816611637,
            "bin_end": 0.08322751178333775,
            "count": 0
           },
           {
            "bin_start": 0.08322751178333775,
            "bin_end": 0.0976580354005591,
            "count": 0
           },
           {
            "bin_start": 0.0976580354005591,
            "bin_end": 0.11208855901778048,
            "count": 0
           },
           {
            "bin_start": 0.11208855901778048,
            "bin_end": 0.12651908263500183,
            "count": 0
           },
           {
            "bin_start": 0.12651908263500183,
            "bin_end": 0.1409496062522232,
            "count": 0
           },
           {
            "bin_start": 0.1409496062522232,
            "bin_end": 0.1553801298694446,
            "count": 1
           }
          ]
         }
        },
        {
         "name": "0.02",
         "dtype": "float64",
         "stats": {
          "unique_count": 5,
          "nan_count": 0,
          "min": "0.0111066385955081",
          "max": "0.1530504290117747",
          "histogram": [
           {
            "bin_start": 0.0111066385955081,
            "bin_end": 0.025301017637134764,
            "count": 2
           },
           {
            "bin_start": 0.025301017637134764,
            "bin_end": 0.039495396678761424,
            "count": 1
           },
           {
            "bin_start": 0.039495396678761424,
            "bin_end": 0.05368977572038809,
            "count": 0
           },
           {
            "bin_start": 0.05368977572038809,
            "bin_end": 0.06788415476201475,
            "count": 1
           },
           {
            "bin_start": 0.06788415476201475,
            "bin_end": 0.08207853380364141,
            "count": 0
           },
           {
            "bin_start": 0.08207853380364141,
            "bin_end": 0.09627291284526808,
            "count": 0
           },
           {
            "bin_start": 0.09627291284526808,
            "bin_end": 0.11046729188689473,
            "count": 0
           },
           {
            "bin_start": 0.11046729188689473,
            "bin_end": 0.1246616709285214,
            "count": 0
           },
           {
            "bin_start": 0.1246616709285214,
            "bin_end": 0.13885604997014805,
            "count": 0
           },
           {
            "bin_start": 0.13885604997014805,
            "bin_end": 0.1530504290117747,
            "count": 1
           }
          ]
         }
        },
        {
         "name": "0.022",
         "dtype": "float64",
         "stats": {
          "unique_count": 5,
          "nan_count": 0,
          "min": "0.0111315214623544",
          "max": "0.1545904842930367",
          "histogram": [
           {
            "bin_start": 0.0111315214623544,
            "bin_end": 0.02547741774542263,
            "count": 2
           },
           {
            "bin_start": 0.02547741774542263,
            "bin_end": 0.03982331402849086,
            "count": 1
           },
           {
            "bin_start": 0.03982331402849086,
            "bin_end": 0.05416921031155908,
            "count": 0
           },
           {
            "bin_start": 0.05416921031155908,
            "bin_end": 0.06851510659462731,
            "count": 1
           },
           {
            "bin_start": 0.06851510659462731,
            "bin_end": 0.08286100287769554,
            "count": 0
           },
           {
            "bin_start": 0.08286100287769554,
            "bin_end": 0.09720689916076376,
            "count": 0
           },
           {
            "bin_start": 0.09720689916076376,
            "bin_end": 0.111552795443832,
            "count": 0
           },
           {
            "bin_start": 0.111552795443832,
            "bin_end": 0.12589869172690024,
            "count": 0
           },
           {
            "bin_start": 0.12589869172690024,
            "bin_end": 0.14024458800996847,
            "count": 0
           },
           {
            "bin_start": 0.14024458800996847,
            "bin_end": 0.1545904842930367,
            "count": 1
           }
          ]
         }
        },
        {
         "name": "0.025",
         "dtype": "float64",
         "stats": {
          "unique_count": 5,
          "nan_count": 0,
          "min": "0.0111755079685477",
          "max": "0.1562812633744469",
          "histogram": [
           {
            "bin_start": 0.0111755079685477,
            "bin_end": 0.02568608350913762,
            "count": 2
           },
           {
            "bin_start": 0.02568608350913762,
            "bin_end": 0.040196659049727544,
            "count": 1
           },
           {
            "bin_start": 0.040196659049727544,
            "bin_end": 0.05470723459031747,
            "count": 0
           },
           {
            "bin_start": 0.05470723459031747,
            "bin_end": 0.06921781013090739,
            "count": 1
           },
           {
            "bin_start": 0.06921781013090739,
            "bin_end": 0.0837283856714973,
            "count": 0
           },
           {
            "bin_start": 0.0837283856714973,
            "bin_end": 0.09823896121208724,
            "count": 0
           },
           {
            "bin_start": 0.09823896121208724,
            "bin_end": 0.11274953675267715,
            "count": 0
           },
           {
            "bin_start": 0.11274953675267715,
            "bin_end": 0.12726011229326706,
            "count": 0
           },
           {
            "bin_start": 0.12726011229326706,
            "bin_end": 0.141770687833857,
            "count": 0
           },
           {
            "bin_start": 0.141770687833857,
            "bin_end": 0.1562812633744469,
            "count": 1
           }
          ]
         }
        },
        {
         "name": "0.029",
         "dtype": "float64",
         "stats": {
          "unique_count": 5,
          "nan_count": 0,
          "min": "0.0112739158812656",
          "max": "0.1610381382069531",
          "histogram": [
           {
            "bin_start": 0.0112739158812656,
            "bin_end": 0.02625033811383435,
            "count": 2
           },
           {
            "bin_start": 0.02625033811383435,
            "bin_end": 0.041226760346403095,
            "count": 1
           },
           {
            "bin_start": 0.041226760346403095,
            "bin_end": 0.05620318257897185,
            "count": 0
           },
           {
            "bin_start": 0.05620318257897185,
            "bin_end": 0.07117960481154059,
            "count": 1
           },
           {
            "bin_start": 0.07117960481154059,
            "bin_end": 0.08615602704410934,
            "count": 0
           },
           {
            "bin_start": 0.08615602704410934,
            "bin_end": 0.1011324492766781,
            "count": 0
           },
           {
            "bin_start": 0.1011324492766781,
            "bin_end": 0.11610887150924684,
            "count": 0
           },
           {
            "bin_start": 0.11610887150924684,
            "bin_end": 0.1310852937418156,
            "count": 0
           },
           {
            "bin_start": 0.1310852937418156,
            "bin_end": 0.14606171597438436,
            "count": 0
           },
           {
            "bin_start": 0.14606171597438436,
            "bin_end": 0.1610381382069531,
            "count": 1
           }
          ]
         }
        },
        {
         "name": "0.03",
         "dtype": "float64",
         "stats": {
          "unique_count": 5,
          "nan_count": 0,
          "min": "0.0112882122176129",
          "max": "0.1601714667000794",
          "histogram": [
           {
            "bin_start": 0.0112882122176129,
            "bin_end": 0.02617653766585955,
            "count": 2
           },
           {
            "bin_start": 0.02617653766585955,
            "bin_end": 0.041064863114106204,
            "count": 1
           },
           {
            "bin_start": 0.041064863114106204,
            "bin_end": 0.05595318856235285,
            "count": 0
           },
           {
            "bin_start": 0.05595318856235285,
            "bin_end": 0.0708415140105995,
            "count": 1
           },
           {
            "bin_start": 0.0708415140105995,
            "bin_end": 0.08572983945884616,
            "count": 0
           },
           {
            "bin_start": 0.08572983945884616,
            "bin_end": 0.10061816490709281,
            "count": 0
           },
           {
            "bin_start": 0.10061816490709281,
            "bin_end": 0.11550649035533946,
            "count": 0
           },
           {
            "bin_start": 0.11550649035533946,
            "bin_end": 0.1303948158035861,
            "count": 0
           },
           {
            "bin_start": 0.1303948158035861,
            "bin_end": 0.14528314125183275,
            "count": 0
           },
           {
            "bin_start": 0.14528314125183275,
            "bin_end": 0.1601714667000794,
            "count": 1
           }
          ]
         }
        },
        {
         "name": "0.032",
         "dtype": "float64",
         "stats": {
          "unique_count": 5,
          "nan_count": 0,
          "min": "0.0113406955574226",
          "max": "0.1597653237327585",
          "histogram": [
           {
            "bin_start": 0.0113406955574226,
            "bin_end": 0.026183158374956193,
            "count": 2
           },
           {
            "bin_start": 0.026183158374956193,
            "bin_end": 0.041025621192489786,
            "count": 1
           },
           {
            "bin_start": 0.041025621192489786,
            "bin_end": 0.055868084010023376,
            "count": 0
           },
           {
            "bin_start": 0.055868084010023376,
            "bin_end": 0.07071054682755697,
            "count": 1
           },
           {
            "bin_start": 0.07071054682755697,
            "bin_end": 0.08555300964509056,
            "count": 0
           },
           {
            "bin_start": 0.08555300964509056,
            "bin_end": 0.10039547246262416,
            "count": 0
           },
           {
            "bin_start": 0.10039547246262416,
            "bin_end": 0.11523793528015774,
            "count": 0
           },
           {
            "bin_start": 0.11523793528015774,
            "bin_end": 0.13008039809769134,
            "count": 0
           },
           {
            "bin_start": 0.13008039809769134,
            "bin_end": 0.1449228609152249,
            "count": 0
           },
           {
            "bin_start": 0.1449228609152249,
            "bin_end": 0.1597653237327585,
            "count": 1
           }
          ]
         }
        },
        {
         "name": "0.035",
         "dtype": "float64",
         "stats": {
          "unique_count": 5,
          "nan_count": 0,
          "min": "0.0113771058191323",
          "max": "0.1661644594739884",
          "histogram": [
           {
            "bin_start": 0.0113771058191323,
            "bin_end": 0.02685584118461791,
            "count": 2
           },
           {
            "bin_start": 0.02685584118461791,
            "bin_end": 0.042334576550103524,
            "count": 1
           },
           {
            "bin_start": 0.042334576550103524,
            "bin_end": 0.05781331191558914,
            "count": 0
           },
           {
            "bin_start": 0.05781331191558914,
            "bin_end": 0.07329204728107475,
            "count": 1
           },
           {
            "bin_start": 0.07329204728107475,
            "bin_end": 0.08877078264656035,
            "count": 0
           },
           {
            "bin_start": 0.08877078264656035,
            "bin_end": 0.10424951801204597,
            "count": 0
           },
           {
            "bin_start": 0.10424951801204597,
            "bin_end": 0.11972825337753158,
            "count": 0
           },
           {
            "bin_start": 0.11972825337753158,
            "bin_end": 0.13520698874301718,
            "count": 0
           },
           {
            "bin_start": 0.13520698874301718,
            "bin_end": 0.15068572410850278,
            "count": 0
           },
           {
            "bin_start": 0.15068572410850278,
            "bin_end": 0.1661644594739884,
            "count": 1
           }
          ]
         }
        },
        {
         "name": "0.036",
         "dtype": "float64",
         "stats": {
          "unique_count": 5,
          "nan_count": 0,
          "min": "0.0114219158560199",
          "max": "0.1736431924800949",
          "histogram": [
           {
            "bin_start": 0.0114219158560199,
            "bin_end": 0.0276440435184274,
            "count": 2
           },
           {
            "bin_start": 0.0276440435184274,
            "bin_end": 0.0438661711808349,
            "count": 1
           },
           {
            "bin_start": 0.0438661711808349,
            "bin_end": 0.0600882988432424,
            "count": 0
           },
           {
            "bin_start": 0.0600882988432424,
            "bin_end": 0.0763104265056499,
            "count": 1
           },
           {
            "bin_start": 0.0763104265056499,
            "bin_end": 0.09253255416805739,
            "count": 0
           },
           {
            "bin_start": 0.09253255416805739,
            "bin_end": 0.1087546818304649,
            "count": 0
           },
           {
            "bin_start": 0.1087546818304649,
            "bin_end": 0.1249768094928724,
            "count": 0
           },
           {
            "bin_start": 0.1249768094928724,
            "bin_end": 0.1411989371552799,
            "count": 0
           },
           {
            "bin_start": 0.1411989371552799,
            "bin_end": 0.1574210648176874,
            "count": 0
           },
           {
            "bin_start": 0.1574210648176874,
            "bin_end": 0.1736431924800949,
            "count": 1
           }
          ]
         }
        },
        {
         "name": "0.04",
         "dtype": "float64",
         "stats": {
          "unique_count": 5,
          "nan_count": 0,
          "min": "0.0115668000802074",
          "max": "0.1747084995978276",
          "histogram": [
           {
            "bin_start": 0.0115668000802074,
            "bin_end": 0.027880970031969418,
            "count": 2
           },
           {
            "bin_start": 0.027880970031969418,
            "bin_end": 0.04419513998373144,
            "count": 1
           },
           {
            "bin_start": 0.04419513998373144,
            "bin_end": 0.06050930993549346,
            "count": 0
           },
           {
            "bin_start": 0.06050930993549346,
            "bin_end": 0.07682347988725548,
            "count": 1
           },
           {
            "bin_start": 0.07682347988725548,
            "bin_end": 0.0931376498390175,
            "count": 0
           },
           {
            "bin_start": 0.0931376498390175,
            "bin_end": 0.10945181979077952,
            "count": 0
           },
           {
            "bin_start": 0.10945181979077952,
            "bin_end": 0.12576598974254155,
            "count": 0
           },
           {
            "bin_start": 0.12576598974254155,
            "bin_end": 0.14208015969430357,
            "count": 0
           },
           {
            "bin_start": 0.14208015969430357,
            "bin_end": 0.1583943296460656,
            "count": 0
           },
           {
            "bin_start": 0.1583943296460656,
            "bin_end": 0.1747084995978276,
            "count": 1
           }
          ]
         }
        },
        {
         "name": "0.042",
         "dtype": "float64",
         "stats": {
          "unique_count": 5,
          "nan_count": 0,
          "min": "0.0116103909221113",
          "max": "0.1917931591515732",
          "histogram": [
           {
            "bin_start": 0.0116103909221113,
            "bin_end": 0.029628667745057492,
            "count": 2
           },
           {
            "bin_start": 0.029628667745057492,
            "bin_end": 0.04764694456800368,
            "count": 1
           },
           {
            "bin_start": 0.04764694456800368,
            "bin_end": 0.06566522139094987,
            "count": 1
           },
           {
            "bin_start": 0.06566522139094987,
            "bin_end": 0.08368349821389606,
            "count": 0
           },
           {
            "bin_start": 0.08368349821389606,
            "bin_end": 0.10170177503684225,
            "count": 0
           },
           {
            "bin_start": 0.10170177503684225,
            "bin_end": 0.11972005185978844,
            "count": 0
           },
           {
            "bin_start": 0.11972005185978844,
            "bin_end": 0.13773832868273464,
            "count": 0
           },
           {
            "bin_start": 0.13773832868273464,
            "bin_end": 0.15575660550568082,
            "count": 0
           },
           {
            "bin_start": 0.15575660550568082,
            "bin_end": 0.173774882328627,
            "count": 0
           },
           {
            "bin_start": 0.173774882328627,
            "bin_end": 0.1917931591515732,
            "count": 1
           }
          ]
         }
        },
        {
         "name": "0.044",
         "dtype": "float64",
         "stats": {
          "unique_count": 5,
          "nan_count": 0,
          "min": "0.0116105233608147",
          "max": "0.2105029373425809",
          "histogram": [
           {
            "bin_start": 0.0116105233608147,
            "bin_end": 0.03149976475899132,
            "count": 3
           },
           {
            "bin_start": 0.03149976475899132,
            "bin_end": 0.051389006157167946,
            "count": 0
           },
           {
            "bin_start": 0.051389006157167946,
            "bin_end": 0.07127824755534456,
            "count": 1
           },
           {
            "bin_start": 0.07127824755534456,
            "bin_end": 0.09116748895352118,
            "count": 0
           },
           {
            "bin_start": 0.09116748895352118,
            "bin_end": 0.1110567303516978,
            "count": 0
           },
           {
            "bin_start": 0.1110567303516978,
            "bin_end": 0.13094597174987443,
            "count": 0
           },
           {
            "bin_start": 0.13094597174987443,
            "bin_end": 0.15083521314805104,
            "count": 0
           },
           {
            "bin_start": 0.15083521314805104,
            "bin_end": 0.17072445454622767,
            "count": 0
           },
           {
            "bin_start": 0.17072445454622767,
            "bin_end": 0.1906136959444043,
            "count": 0
           },
           {
            "bin_start": 0.1906136959444043,
            "bin_end": 0.2105029373425809,
            "count": 1
           }
          ]
         }
        },
        {
         "name": "0.045",
         "dtype": "float64",
         "stats": {
          "unique_count": 5,
          "nan_count": 0,
          "min": "0.0115951439267724",
          "max": "0.2223478018759573",
          "histogram": [
           {
            "bin_start": 0.0115951439267724,
            "bin_end": 0.032670409721690885,
            "count": 3
           },
           {
            "bin_start": 0.032670409721690885,
            "bin_end": 0.05374567551660937,
            "count": 0
           },
           {
            "bin_start": 0.05374567551660937,
            "bin_end": 0.07482094131152786,
            "count": 1
           },
           {
            "bin_start": 0.07482094131152786,
            "bin_end": 0.09589620710644635,
            "count": 0
           },
           {
            "bin_start": 0.09589620710644635,
            "bin_end": 0.11697147290136484,
            "count": 0
           },
           {
            "bin_start": 0.11697147290136484,
            "bin_end": 0.13804673869628334,
            "count": 0
           },
           {
            "bin_start": 0.13804673869628334,
            "bin_end": 0.15912200449120184,
            "count": 0
           },
           {
            "bin_start": 0.15912200449120184,
            "bin_end": 0.18019727028612031,
            "count": 0
           },
           {
            "bin_start": 0.18019727028612031,
            "bin_end": 0.2012725360810388,
            "count": 0
           },
           {
            "bin_start": 0.2012725360810388,
            "bin_end": 0.2223478018759573,
            "count": 1
           }
          ]
         }
        },
        {
         "name": "0.046",
         "dtype": "float64",
         "stats": {
          "unique_count": 5,
          "nan_count": 0,
          "min": "0.011602752485571",
          "max": "0.2306712093617889",
          "histogram": [
           {
            "bin_start": 0.011602752485571,
            "bin_end": 0.03350959817319279,
            "count": 3
           },
           {
            "bin_start": 0.03350959817319279,
            "bin_end": 0.05541644386081458,
            "count": 0
           },
           {
            "bin_start": 0.05541644386081458,
            "bin_end": 0.07732328954843637,
            "count": 1
           },
           {
            "bin_start": 0.07732328954843637,
            "bin_end": 0.09923013523605816,
            "count": 0
           },
           {
            "bin_start": 0.09923013523605816,
            "bin_end": 0.12113698092367994,
            "count": 0
           },
           {
            "bin_start": 0.12113698092367994,
            "bin_end": 0.14304382661130174,
            "count": 0
           },
           {
            "bin_start": 0.14304382661130174,
            "bin_end": 0.16495067229892352,
            "count": 0
           },
           {
            "bin_start": 0.16495067229892352,
            "bin_end": 0.18685751798654532,
            "count": 0
           },
           {
            "bin_start": 0.18685751798654532,
            "bin_end": 0.20876436367416712,
            "count": 0
           },
           {
            "bin_start": 0.20876436367416712,
            "bin_end": 0.2306712093617889,
            "count": 1
           }
          ]
         }
        },
        {
         "name": "0.048",
         "dtype": "float64",
         "stats": {
          "unique_count": 5,
          "nan_count": 0,
          "min": "0.0116251616498202",
          "max": "0.2285101195124787",
          "histogram": [
           {
            "bin_start": 0.0116251616498202,
            "bin_end": 0.03331365743608605,
            "count": 3
           },
           {
            "bin_start": 0.03331365743608605,
            "bin_end": 0.055002153222351906,
            "count": 0
           },
           {
            "bin_start": 0.055002153222351906,
            "bin_end": 0.07669064900861775,
            "count": 1
           },
           {
            "bin_start": 0.07669064900861775,
            "bin_end": 0.0983791447948836,
            "count": 0
           },
           {
            "bin_start": 0.0983791447948836,
            "bin_end": 0.12006764058114947,
            "count": 0
           },
           {
            "bin_start": 0.12006764058114947,
            "bin_end": 0.1417561363674153,
            "count": 0
           },
           {
            "bin_start": 0.1417561363674153,
            "bin_end": 0.16344463215368116,
            "count": 0
           },
           {
            "bin_start": 0.16344463215368116,
            "bin_end": 0.18513312793994702,
            "count": 0
           },
           {
            "bin_start": 0.18513312793994702,
            "bin_end": 0.20682162372621288,
            "count": 0
           },
           {
            "bin_start": 0.20682162372621288,
            "bin_end": 0.2285101195124787,
            "count": 1
           }
          ]
         }
        },
        {
         "name": "0.05",
         "dtype": "float64",
         "stats": {
          "unique_count": 5,
          "nan_count": 0,
          "min": "0.0116251397318392",
          "max": "0.2236273618245118",
          "histogram": [
           {
            "bin_start": 0.0116251397318392,
            "bin_end": 0.032825361941106454,
            "count": 3
           },
           {
            "bin_start": 0.032825361941106454,
            "bin_end": 0.054025584150373715,
            "count": 0
           },
           {
            "bin_start": 0.054025584150373715,
            "bin_end": 0.07522580635964096,
            "count": 1
           },
           {
            "bin_start": 0.07522580635964096,
            "bin_end": 0.09642602856890822,
            "count": 0
           },
           {
            "bin_start": 0.09642602856890822,
            "bin_end": 0.11762625077817548,
            "count": 0
           },
           {
            "bin_start": 0.11762625077817548,
            "bin_end": 0.13882647298744274,
            "count": 0
           },
           {
            "bin_start": 0.13882647298744274,
            "bin_end": 0.16002669519671,
            "count": 0
           },
           {
            "bin_start": 0.16002669519671,
            "bin_end": 0.18122691740597727,
            "count": 0
           },
           {
            "bin_start": 0.18122691740597727,
            "bin_end": 0.20242713961524453,
            "count": 0
           },
           {
            "bin_start": 0.20242713961524453,
            "bin_end": 0.2236273618245118,
            "count": 1
           }
          ]
         }
        },
        {
         "name": "0.055",
         "dtype": "float64",
         "stats": {
          "unique_count": 5,
          "nan_count": 0,
          "min": "0.0114143145065411",
          "max": "0.2671673767872911",
          "histogram": [
           {
            "bin_start": 0.0114143145065411,
            "bin_end": 0.0369896207346161,
            "count": 3
           },
           {
            "bin_start": 0.0369896207346161,
            "bin_end": 0.06256492696269109,
            "count": 1
           },
           {
            "bin_start": 0.06256492696269109,
            "bin_end": 0.08814023319076608,
            "count": 0
           },
           {
            "bin_start": 0.08814023319076608,
            "bin_end": 0.11371553941884108,
            "count": 0
           },
           {
            "bin_start": 0.11371553941884108,
            "bin_end": 0.13929084564691607,
            "count": 0
           },
           {
            "bin_start": 0.13929084564691607,
            "bin_end": 0.16486615187499107,
            "count": 0
           },
           {
            "bin_start": 0.16486615187499107,
            "bin_end": 0.19044145810306606,
            "count": 0
           },
           {
            "bin_start": 0.19044145810306606,
            "bin_end": 0.21601676433114106,
            "count": 0
           },
           {
            "bin_start": 0.21601676433114106,
            "bin_end": 0.24159207055921605,
            "count": 0
           },
           {
            "bin_start": 0.24159207055921605,
            "bin_end": 0.2671673767872911,
            "count": 1
           }
          ]
         }
        },
        {
         "name": "0.06",
         "dtype": "float64",
         "stats": {
          "unique_count": 5,
          "nan_count": 0,
          "min": "0.0115299400581958",
          "max": "0.320193617959872",
          "histogram": [
           {
            "bin_start": 0.0115299400581958,
            "bin_end": 0.04239630784836342,
            "count": 3
           },
           {
            "bin_start": 0.04239630784836342,
            "bin_end": 0.07326267563853105,
            "count": 1
           },
           {
            "bin_start": 0.07326267563853105,
            "bin_end": 0.10412904342869866,
            "count": 0
           },
           {
            "bin_start": 0.10412904342869866,
            "bin_end": 0.1349954112188663,
            "count": 0
           },
           {
            "bin_start": 0.1349954112188663,
            "bin_end": 0.1658617790090339,
            "count": 0
           },
           {
            "bin_start": 0.1658617790090339,
            "bin_end": 0.19672814679920153,
            "count": 0
           },
           {
            "bin_start": 0.19672814679920153,
            "bin_end": 0.22759451458936913,
            "count": 0
           },
           {
            "bin_start": 0.22759451458936913,
            "bin_end": 0.2584608823795368,
            "count": 0
           },
           {
            "bin_start": 0.2584608823795368,
            "bin_end": 0.2893272501697044,
            "count": 0
           },
           {
            "bin_start": 0.2893272501697044,
            "bin_end": 0.320193617959872,
            "count": 1
           }
          ]
         }
        },
        {
         "name": "0.065",
         "dtype": "float64",
         "stats": {
          "unique_count": 5,
          "nan_count": 0,
          "min": "0.0119361467335832",
          "max": "0.4033537416975923",
          "histogram": [
           {
            "bin_start": 0.0119361467335832,
            "bin_end": 0.05107790622998411,
            "count": 3
           },
           {
            "bin_start": 0.05107790622998411,
            "bin_end": 0.09021966572638503,
            "count": 1
           },
           {
            "bin_start": 0.09021966572638503,
            "bin_end": 0.12936142522278593,
            "count": 0
           },
           {
            "bin_start": 0.12936142522278593,
            "bin_end": 0.16850318471918685,
            "count": 0
           },
           {
            "bin_start": 0.16850318471918685,
            "bin_end": 0.20764494421558777,
            "count": 0
           },
           {
            "bin_start": 0.20764494421558777,
            "bin_end": 0.24678670371198866,
            "count": 0
           },
           {
            "bin_start": 0.24678670371198866,
            "bin_end": 0.28592846320838955,
            "count": 0
           },
           {
            "bin_start": 0.28592846320838955,
            "bin_end": 0.32507022270479047,
            "count": 0
           },
           {
            "bin_start": 0.32507022270479047,
            "bin_end": 0.3642119822011914,
            "count": 0
           },
           {
            "bin_start": 0.3642119822011914,
            "bin_end": 0.4033537416975923,
            "count": 1
           }
          ]
         }
        },
        {
         "name": "0.067",
         "dtype": "float64",
         "stats": {
          "unique_count": 5,
          "nan_count": 0,
          "min": "0.0120529480839139",
          "max": "0.418119826016042",
          "histogram": [
           {
            "bin_start": 0.0120529480839139,
            "bin_end": 0.05265963587712671,
            "count": 3
           },
           {
            "bin_start": 0.05265963587712671,
            "bin_end": 0.09326632367033952,
            "count": 1
           },
           {
            "bin_start": 0.09326632367033952,
            "bin_end": 0.13387301146355235,
            "count": 0
           },
           {
            "bin_start": 0.13387301146355235,
            "bin_end": 0.17447969925676515,
            "count": 0
           },
           {
            "bin_start": 0.17447969925676515,
            "bin_end": 0.21508638704997796,
            "count": 0
           },
           {
            "bin_start": 0.21508638704997796,
            "bin_end": 0.25569307484319076,
            "count": 0
           },
           {
            "bin_start": 0.25569307484319076,
            "bin_end": 0.29629976263640356,
            "count": 0
           },
           {
            "bin_start": 0.29629976263640356,
            "bin_end": 0.33690645042961637,
            "count": 0
           },
           {
            "bin_start": 0.33690645042961637,
            "bin_end": 0.37751313822282917,
            "count": 0
           },
           {
            "bin_start": 0.37751313822282917,
            "bin_end": 0.418119826016042,
            "count": 1
           }
          ]
         }
        },
        {
         "name": "0.07",
         "dtype": "float64",
         "stats": {
          "unique_count": 5,
          "nan_count": 0,
          "min": "0.0120753084752095",
          "max": "0.4607881996377441",
          "histogram": [
           {
            "bin_start": 0.0120753084752095,
            "bin_end": 0.056946597591462964,
            "count": 3
           },
           {
            "bin_start": 0.056946597591462964,
            "bin_end": 0.10181788670771642,
            "count": 1
           },
           {
            "bin_start": 0.10181788670771642,
            "bin_end": 0.14668917582396987,
            "count": 0
           },
           {
            "bin_start": 0.14668917582396987,
            "bin_end": 0.19156046494022333,
            "count": 0
           },
           {
            "bin_start": 0.19156046494022333,
            "bin_end": 0.2364317540564768,
            "count": 0
           },
           {
            "bin_start": 0.2364317540564768,
            "bin_end": 0.28130304317273025,
            "count": 0
           },
           {
            "bin_start": 0.28130304317273025,
            "bin_end": 0.3261743322889837,
            "count": 0
           },
           {
            "bin_start": 0.3261743322889837,
            "bin_end": 0.37104562140523717,
            "count": 0
           },
           {
            "bin_start": 0.37104562140523717,
            "bin_end": 0.41591691052149066,
            "count": 0
           },
           {
            "bin_start": 0.41591691052149066,
            "bin_end": 0.4607881996377441,
            "count": 1
           }
          ]
         }
        },
        {
         "name": "0.075",
         "dtype": "float64",
         "stats": {
          "unique_count": 5,
          "nan_count": 0,
          "min": "0.0128133130463407",
          "max": "0.7201024958938483",
          "histogram": [
           {
            "bin_start": 0.0128133130463407,
            "bin_end": 0.08354223133109147,
            "count": 4
           },
           {
            "bin_start": 0.08354223133109147,
            "bin_end": 0.15427114961584223,
            "count": 0
           },
           {
            "bin_start": 0.15427114961584223,
            "bin_end": 0.22500006790059301,
            "count": 0
           },
           {
            "bin_start": 0.22500006790059301,
            "bin_end": 0.29572898618534377,
            "count": 0
           },
           {
            "bin_start": 0.29572898618534377,
            "bin_end": 0.3664579044700945,
            "count": 0
           },
           {
            "bin_start": 0.3664579044700945,
            "bin_end": 0.43718682275484533,
            "count": 0
           },
           {
            "bin_start": 0.43718682275484533,
            "bin_end": 0.507915741039596,
            "count": 0
           },
           {
            "bin_start": 0.507915741039596,
            "bin_end": 0.5786446593243468,
            "count": 0
           },
           {
            "bin_start": 0.5786446593243468,
            "bin_end": 0.6493735776090976,
            "count": 0
           },
           {
            "bin_start": 0.6493735776090976,
            "bin_end": 0.7201024958938483,
            "count": 1
           }
          ]
         }
        },
        {
         "name": "0.08",
         "dtype": "float64",
         "stats": {
          "unique_count": 5,
          "nan_count": 0,
          "min": "0.0138782569299738",
          "max": "0.7771735836371358",
          "histogram": [
           {
            "bin_start": 0.0138782569299738,
            "bin_end": 0.09020778960069001,
            "count": 4
           },
           {
            "bin_start": 0.09020778960069001,
            "bin_end": 0.16653732227140622,
            "count": 0
           },
           {
            "bin_start": 0.16653732227140622,
            "bin_end": 0.24286685494212243,
            "count": 0
           },
           {
            "bin_start": 0.24286685494212243,
            "bin_end": 0.31919638761283864,
            "count": 0
           },
           {
            "bin_start": 0.31919638761283864,
            "bin_end": 0.3955259202835548,
            "count": 0
           },
           {
            "bin_start": 0.3955259202835548,
            "bin_end": 0.47185545295427106,
            "count": 0
           },
           {
            "bin_start": 0.47185545295427106,
            "bin_end": 0.5481849856249873,
            "count": 0
           },
           {
            "bin_start": 0.5481849856249873,
            "bin_end": 0.6245145182957035,
            "count": 0
           },
           {
            "bin_start": 0.6245145182957035,
            "bin_end": 0.7008440509664197,
            "count": 0
           },
           {
            "bin_start": 0.7008440509664197,
            "bin_end": 0.7771735836371358,
            "count": 1
           }
          ]
         }
        },
        {
         "name": "0.085",
         "dtype": "float64",
         "stats": {
          "unique_count": 5,
          "nan_count": 0,
          "min": "0.0146614694932001",
          "max": "0.5285879736643574",
          "histogram": [
           {
            "bin_start": 0.0146614694932001,
            "bin_end": 0.06605411991031583,
            "count": 4
           },
           {
            "bin_start": 0.06605411991031583,
            "bin_end": 0.11744677032743156,
            "count": 0
           },
           {
            "bin_start": 0.11744677032743156,
            "bin_end": 0.1688394207445473,
            "count": 0
           },
           {
            "bin_start": 0.1688394207445473,
            "bin_end": 0.22023207116166302,
            "count": 0
           },
           {
            "bin_start": 0.22023207116166302,
            "bin_end": 0.2716247215787787,
            "count": 0
           },
           {
            "bin_start": 0.2716247215787787,
            "bin_end": 0.3230173719958945,
            "count": 0
           },
           {
            "bin_start": 0.3230173719958945,
            "bin_end": 0.3744100224130102,
            "count": 0
           },
           {
            "bin_start": 0.3744100224130102,
            "bin_end": 0.4258026728301259,
            "count": 0
           },
           {
            "bin_start": 0.4258026728301259,
            "bin_end": 0.4771953232472416,
            "count": 0
           },
           {
            "bin_start": 0.4771953232472416,
            "bin_end": 0.5285879736643574,
            "count": 1
           }
          ]
         }
        },
        {
         "name": "0.09",
         "dtype": "float64",
         "stats": {
          "unique_count": 5,
          "nan_count": 0,
          "min": "0.0154042593357484",
          "max": "0.4869595648234077",
          "histogram": [
           {
            "bin_start": 0.0154042593357484,
            "bin_end": 0.06255978988451433,
            "count": 3
           },
           {
            "bin_start": 0.06255978988451433,
            "bin_end": 0.10971532043328026,
            "count": 1
           },
           {
            "bin_start": 0.10971532043328026,
            "bin_end": 0.1568708509820462,
            "count": 0
           },
           {
            "bin_start": 0.1568708509820462,
            "bin_end": 0.20402638153081212,
            "count": 0
           },
           {
            "bin_start": 0.20402638153081212,
            "bin_end": 0.251181912079578,
            "count": 0
           },
           {
            "bin_start": 0.251181912079578,
            "bin_end": 0.298337442628344,
            "count": 0
           },
           {
            "bin_start": 0.298337442628344,
            "bin_end": 0.3454929731771099,
            "count": 0
           },
           {
            "bin_start": 0.3454929731771099,
            "bin_end": 0.39264850372587584,
            "count": 0
           },
           {
            "bin_start": 0.39264850372587584,
            "bin_end": 0.43980403427464176,
            "count": 0
           },
           {
            "bin_start": 0.43980403427464176,
            "bin_end": 0.4869595648234077,
            "count": 1
           }
          ]
         }
        },
        {
         "name": "0.095",
         "dtype": "float64",
         "stats": {
          "unique_count": 5,
          "nan_count": 0,
          "min": "0.0159003997129265",
          "max": "0.4248690477835966",
          "histogram": [
           {
            "bin_start": 0.0159003997129265,
            "bin_end": 0.05679726451999351,
            "count": 3
           },
           {
            "bin_start": 0.05679726451999351,
            "bin_end": 0.09769412932706052,
            "count": 1
           },
           {
            "bin_start": 0.09769412932706052,
            "bin_end": 0.13859099413412754,
            "count": 0
           },
           {
            "bin_start": 0.13859099413412754,
            "bin_end": 0.17948785894119454,
            "count": 0
           },
           {
            "bin_start": 0.17948785894119454,
            "bin_end": 0.22038472374826154,
            "count": 0
           },
           {
            "bin_start": 0.22038472374826154,
            "bin_end": 0.26128158855532857,
            "count": 0
           },
           {
            "bin_start": 0.26128158855532857,
            "bin_end": 0.30217845336239557,
            "count": 0
           },
           {
            "bin_start": 0.30217845336239557,
            "bin_end": 0.3430753181694626,
            "count": 0
           },
           {
            "bin_start": 0.3430753181694626,
            "bin_end": 0.3839721829765296,
            "count": 0
           },
           {
            "bin_start": 0.3839721829765296,
            "bin_end": 0.4248690477835966,
            "count": 1
           }
          ]
         }
        },
        {
         "name": "0.1",
         "dtype": "float64",
         "stats": {
          "unique_count": 5,
          "nan_count": 0,
          "min": "0.016896119615438",
          "max": "0.4592813958897901",
          "histogram": [
           {
            "bin_start": 0.016896119615438,
            "bin_end": 0.06113464724287321,
            "count": 3
           },
           {
            "bin_start": 0.06113464724287321,
            "bin_end": 0.10537317487030842,
            "count": 1
           },
           {
            "bin_start": 0.10537317487030842,
            "bin_end": 0.1496117024977436,
            "count": 0
           },
           {
            "bin_start": 0.1496117024977436,
            "bin_end": 0.19385023012517882,
            "count": 0
           },
           {
            "bin_start": 0.19385023012517882,
            "bin_end": 0.23808875775261404,
            "count": 0
           },
           {
            "bin_start": 0.23808875775261404,
            "bin_end": 0.28232728538004925,
            "count": 0
           },
           {
            "bin_start": 0.28232728538004925,
            "bin_end": 0.3265658130074845,
            "count": 0
           },
           {
            "bin_start": 0.3265658130074845,
            "bin_end": 0.3708043406349197,
            "count": 0
           },
           {
            "bin_start": 0.3708043406349197,
            "bin_end": 0.41504286826235487,
            "count": 0
           },
           {
            "bin_start": 0.41504286826235487,
            "bin_end": 0.4592813958897901,
            "count": 1
           }
          ]
         }
        },
        {
         "name": "0.11",
         "dtype": "float64",
         "stats": {
          "unique_count": 5,
          "nan_count": 0,
          "min": "0.0193447727660188",
          "max": "0.3673170909765867",
          "histogram": [
           {
            "bin_start": 0.0193447727660188,
            "bin_end": 0.05414200458707559,
            "count": 3
           },
           {
            "bin_start": 0.05414200458707559,
            "bin_end": 0.08893923640813238,
            "count": 1
           },
           {
            "bin_start": 0.08893923640813238,
            "bin_end": 0.12373646822918917,
            "count": 0
           },
           {
            "bin_start": 0.12373646822918917,
            "bin_end": 0.15853370005024597,
            "count": 0
           },
           {
            "bin_start": 0.15853370005024597,
            "bin_end": 0.19333093187130274,
            "count": 0
           },
           {
            "bin_start": 0.19333093187130274,
            "bin_end": 0.22812816369235955,
            "count": 0
           },
           {
            "bin_start": 0.22812816369235955,
            "bin_end": 0.2629253955134163,
            "count": 0
           },
           {
            "bin_start": 0.2629253955134163,
            "bin_end": 0.29772262733447313,
            "count": 0
           },
           {
            "bin_start": 0.29772262733447313,
            "bin_end": 0.3325198591555299,
            "count": 0
           },
           {
            "bin_start": 0.3325198591555299,
            "bin_end": 0.3673170909765867,
            "count": 1
           }
          ]
         }
        },
        {
         "name": "0.12",
         "dtype": "float64",
         "stats": {
          "unique_count": 5,
          "nan_count": 0,
          "min": "0.0173416548805842",
          "max": "0.3082355792074275",
          "histogram": [
           {
            "bin_start": 0.0173416548805842,
            "bin_end": 0.04643104731326853,
            "count": 3
           },
           {
            "bin_start": 0.04643104731326853,
            "bin_end": 0.07552043974595286,
            "count": 1
           },
           {
            "bin_start": 0.07552043974595286,
            "bin_end": 0.1046098321786372,
            "count": 0
           },
           {
            "bin_start": 0.1046098321786372,
            "bin_end": 0.13369922461132153,
            "count": 0
           },
           {
            "bin_start": 0.13369922461132153,
            "bin_end": 0.16278861704400585,
            "count": 0
           },
           {
            "bin_start": 0.16278861704400585,
            "bin_end": 0.1918780094766902,
            "count": 0
           },
           {
            "bin_start": 0.1918780094766902,
            "bin_end": 0.22096740190937453,
            "count": 0
           },
           {
            "bin_start": 0.22096740190937453,
            "bin_end": 0.25005679434205885,
            "count": 0
           },
           {
            "bin_start": 0.25005679434205885,
            "bin_end": 0.2791461867747432,
            "count": 0
           },
           {
            "bin_start": 0.2791461867747432,
            "bin_end": 0.3082355792074275,
            "count": 1
           }
          ]
         }
        },
        {
         "name": "0.13",
         "dtype": "float64",
         "stats": {
          "unique_count": 5,
          "nan_count": 0,
          "min": "0.0174380587747489",
          "max": "0.2958014496983495",
          "histogram": [
           {
            "bin_start": 0.0174380587747489,
            "bin_end": 0.04527439786710896,
            "count": 3
           },
           {
            "bin_start": 0.04527439786710896,
            "bin_end": 0.07311073695946901,
            "count": 1
           },
           {
            "bin_start": 0.07311073695946901,
            "bin_end": 0.10094707605182908,
            "count": 0
           },
           {
            "bin_start": 0.10094707605182908,
            "bin_end": 0.12878341514418915,
            "count": 0
           },
           {
            "bin_start": 0.12878341514418915,
            "bin_end": 0.1566197542365492,
            "count": 0
           },
           {
            "bin_start": 0.1566197542365492,
            "bin_end": 0.18445609332890928,
            "count": 0
           },
           {
            "bin_start": 0.18445609332890928,
            "bin_end": 0.21229243242126933,
            "count": 0
           },
           {
            "bin_start": 0.21229243242126933,
            "bin_end": 0.24012877151362938,
            "count": 0
           },
           {
            "bin_start": 0.24012877151362938,
            "bin_end": 0.26796511060598943,
            "count": 0
           },
           {
            "bin_start": 0.26796511060598943,
            "bin_end": 0.2958014496983495,
            "count": 1
           }
          ]
         }
        },
        {
         "name": "0.133",
         "dtype": "float64",
         "stats": {
          "unique_count": 5,
          "nan_count": 0,
          "min": "0.0174929301511869",
          "max": "0.332975181774284",
          "histogram": [
           {
            "bin_start": 0.0174929301511869,
            "bin_end": 0.04904115531349661,
            "count": 3
           },
           {
            "bin_start": 0.04904115531349661,
            "bin_end": 0.08058938047580631,
            "count": 1
           },
           {
            "bin_start": 0.08058938047580631,
            "bin_end": 0.11213760563811602,
            "count": 0
           },
           {
            "bin_start": 0.11213760563811602,
            "bin_end": 0.14368583080042574,
            "count": 0
           },
           {
            "bin_start": 0.14368583080042574,
            "bin_end": 0.17523405596273545,
            "count": 0
           },
           {
            "bin_start": 0.17523405596273545,
            "bin_end": 0.20678228112504515,
            "count": 0
           },
           {
            "bin_start": 0.20678228112504515,
            "bin_end": 0.23833050628735486,
            "count": 0
           },
           {
            "bin_start": 0.23833050628735486,
            "bin_end": 0.26987873144966457,
            "count": 0
           },
           {
            "bin_start": 0.26987873144966457,
            "bin_end": 0.3014269566119743,
            "count": 0
           },
           {
            "bin_start": 0.3014269566119743,
            "bin_end": 0.332975181774284,
            "count": 1
           }
          ]
         }
        },
        {
         "name": "0.14",
         "dtype": "float64",
         "stats": {
          "unique_count": 5,
          "nan_count": 0,
          "min": "0.0200399027056096",
          "max": "0.3727616605473265",
          "histogram": [
           {
            "bin_start": 0.0200399027056096,
            "bin_end": 0.055312078489781286,
            "count": 3
           },
           {
            "bin_start": 0.055312078489781286,
            "bin_end": 0.09058425427395297,
            "count": 1
           },
           {
            "bin_start": 0.09058425427395297,
            "bin_end": 0.12585643005812466,
            "count": 0
           },
           {
            "bin_start": 0.12585643005812466,
            "bin_end": 0.16112860584229635,
            "count": 0
           },
           {
            "bin_start": 0.16112860584229635,
            "bin_end": 0.19640078162646804,
            "count": 0
           },
           {
            "bin_start": 0.19640078162646804,
            "bin_end": 0.23167295741063973,
            "count": 0
           },
           {
            "bin_start": 0.23167295741063973,
            "bin_end": 0.26694513319481145,
            "count": 0
           },
           {
            "bin_start": 0.26694513319481145,
            "bin_end": 0.30221730897898313,
            "count": 0
           },
           {
            "bin_start": 0.30221730897898313,
            "bin_end": 0.3374894847631548,
            "count": 0
           },
           {
            "bin_start": 0.3374894847631548,
            "bin_end": 0.3727616605473265,
            "count": 1
           }
          ]
         }
        },
        {
         "name": "0.15",
         "dtype": "float64",
         "stats": {
          "unique_count": 5,
          "nan_count": 0,
          "min": "0.0207123679481881",
          "max": "0.4098066358758644",
          "histogram": [
           {
            "bin_start": 0.0207123679481881,
            "bin_end": 0.05962179474095573,
            "count": 3
           },
           {
            "bin_start": 0.05962179474095573,
            "bin_end": 0.09853122153372337,
            "count": 1
           },
           {
            "bin_start": 0.09853122153372337,
            "bin_end": 0.137440648326491,
            "count": 0
           },
           {
            "bin_start": 0.137440648326491,
            "bin_end": 0.17635007511925863,
            "count": 0
           },
           {
            "bin_start": 0.17635007511925863,
            "bin_end": 0.21525950191202625,
            "count": 0
           },
           {
            "bin_start": 0.21525950191202625,
            "bin_end": 0.2541689287047939,
            "count": 0
           },
           {
            "bin_start": 0.2541689287047939,
            "bin_end": 0.2930783554975615,
            "count": 0
           },
           {
            "bin_start": 0.2930783554975615,
            "bin_end": 0.33198778229032916,
            "count": 0
           },
           {
            "bin_start": 0.33198778229032916,
            "bin_end": 0.3708972090830968,
            "count": 0
           },
           {
            "bin_start": 0.3708972090830968,
            "bin_end": 0.4098066358758644,
            "count": 1
           }
          ]
         }
        },
        {
         "name": "0.16",
         "dtype": "float64",
         "stats": {
          "unique_count": 5,
          "nan_count": 0,
          "min": "0.0264098333707847",
          "max": "0.438455663014216",
          "histogram": [
           {
            "bin_start": 0.0264098333707847,
            "bin_end": 0.06761441633512784,
            "count": 3
           },
           {
            "bin_start": 0.06761441633512784,
            "bin_end": 0.10881899929947098,
            "count": 1
           },
           {
            "bin_start": 0.10881899929947098,
            "bin_end": 0.1500235822638141,
            "count": 0
           },
           {
            "bin_start": 0.1500235822638141,
            "bin_end": 0.19122816522815725,
            "count": 0
           },
           {
            "bin_start": 0.19122816522815725,
            "bin_end": 0.2324327481925004,
            "count": 0
           },
           {
            "bin_start": 0.2324327481925004,
            "bin_end": 0.2736373311568435,
            "count": 0
           },
           {
            "bin_start": 0.2736373311568435,
            "bin_end": 0.3148419141211866,
            "count": 0
           },
           {
            "bin_start": 0.3148419141211866,
            "bin_end": 0.35604649708552977,
            "count": 0
           },
           {
            "bin_start": 0.35604649708552977,
            "bin_end": 0.3972510800498729,
            "count": 0
           },
           {
            "bin_start": 0.3972510800498729,
            "bin_end": 0.438455663014216,
            "count": 1
           }
          ]
         }
        },
        {
         "name": "0.17",
         "dtype": "float64",
         "stats": {
          "unique_count": 5,
          "nan_count": 0,
          "min": "0.0246994884787201",
          "max": "0.4355332679136487",
          "histogram": [
           {
            "bin_start": 0.0246994884787201,
            "bin_end": 0.06578286642221295,
            "count": 3
           },
           {
            "bin_start": 0.06578286642221295,
            "bin_end": 0.10686624436570581,
            "count": 1
           },
           {
            "bin_start": 0.10686624436570581,
            "bin_end": 0.14794962230919867,
            "count": 0
           },
           {
            "bin_start": 0.14794962230919867,
            "bin_end": 0.18903300025269154,
            "count": 0
           },
           {
            "bin_start": 0.18903300025269154,
            "bin_end": 0.2301163781961844,
            "count": 0
           },
           {
            "bin_start": 0.2301163781961844,
            "bin_end": 0.27119975613967723,
            "count": 0
           },
           {
            "bin_start": 0.27119975613967723,
            "bin_end": 0.3122831340831701,
            "count": 0
           },
           {
            "bin_start": 0.3122831340831701,
            "bin_end": 0.35336651202666297,
            "count": 0
           },
           {
            "bin_start": 0.35336651202666297,
            "bin_end": 0.39444988997015584,
            "count": 0
           },
           {
            "bin_start": 0.39444988997015584,
            "bin_end": 0.4355332679136487,
            "count": 1
           }
          ]
         }
        },
        {
         "name": "0.18",
         "dtype": "float64",
         "stats": {
          "unique_count": 5,
          "nan_count": 0,
          "min": "0.0257024399721512",
          "max": "0.4166957069172091",
          "histogram": [
           {
            "bin_start": 0.0257024399721512,
            "bin_end": 0.06480176666665699,
            "count": 3
           },
           {
            "bin_start": 0.06480176666665699,
            "bin_end": 0.10390109336116278,
            "count": 1
           },
           {
            "bin_start": 0.10390109336116278,
            "bin_end": 0.14300042005566857,
            "count": 0
           },
           {
            "bin_start": 0.14300042005566857,
            "bin_end": 0.18209974675017437,
            "count": 0
           },
           {
            "bin_start": 0.18209974675017437,
            "bin_end": 0.22119907344468015,
            "count": 0
           },
           {
            "bin_start": 0.22119907344468015,
            "bin_end": 0.2602984001391859,
            "count": 0
           },
           {
            "bin_start": 0.2602984001391859,
            "bin_end": 0.29939772683369176,
            "count": 0
           },
           {
            "bin_start": 0.29939772683369176,
            "bin_end": 0.33849705352819753,
            "count": 0
           },
           {
            "bin_start": 0.33849705352819753,
            "bin_end": 0.3775963802227033,
            "count": 0
           },
           {
            "bin_start": 0.3775963802227033,
            "bin_end": 0.4166957069172091,
            "count": 1
           }
          ]
         }
        },
        {
         "name": "0.19",
         "dtype": "float64",
         "stats": {
          "unique_count": 5,
          "nan_count": 0,
          "min": "0.0292397500504301",
          "max": "0.3503595487980238",
          "histogram": [
           {
            "bin_start": 0.0292397500504301,
            "bin_end": 0.06135172992518947,
            "count": 2
           },
           {
            "bin_start": 0.06135172992518947,
            "bin_end": 0.09346370979994884,
            "count": 2
           },
           {
            "bin_start": 0.09346370979994884,
            "bin_end": 0.12557568967470822,
            "count": 0
           },
           {
            "bin_start": 0.12557568967470822,
            "bin_end": 0.15768766954946756,
            "count": 0
           },
           {
            "bin_start": 0.15768766954946756,
            "bin_end": 0.18979964942422695,
            "count": 0
           },
           {
            "bin_start": 0.18979964942422695,
            "bin_end": 0.22191162929898633,
            "count": 0
           },
           {
            "bin_start": 0.22191162929898633,
            "bin_end": 0.25402360917374567,
            "count": 0
           },
           {
            "bin_start": 0.25402360917374567,
            "bin_end": 0.28613558904850506,
            "count": 0
           },
           {
            "bin_start": 0.28613558904850506,
            "bin_end": 0.31824756892326445,
            "count": 0
           },
           {
            "bin_start": 0.31824756892326445,
            "bin_end": 0.3503595487980238,
            "count": 1
           }
          ]
         }
        },
        {
         "name": "0.2",
         "dtype": "float64",
         "stats": {
          "unique_count": 5,
          "nan_count": 0,
          "min": "0.0314222446662522",
          "max": "0.2507278385231296",
          "histogram": [
           {
            "bin_start": 0.0314222446662522,
            "bin_end": 0.05335280405193994,
            "count": 2
           },
           {
            "bin_start": 0.05335280405193994,
            "bin_end": 0.07528336343762768,
            "count": 2
           },
           {
            "bin_start": 0.07528336343762768,
            "bin_end": 0.09721392282331542,
            "count": 0
           },
           {
            "bin_start": 0.09721392282331542,
            "bin_end": 0.11914448220900314,
            "count": 0
           },
           {
            "bin_start": 0.11914448220900314,
            "bin_end": 0.1410750415946909,
            "count": 0
           },
           {
            "bin_start": 0.1410750415946909,
            "bin_end": 0.16300560098037864,
            "count": 0
           },
           {
            "bin_start": 0.16300560098037864,
            "bin_end": 0.18493616036606636,
            "count": 0
           },
           {
            "bin_start": 0.18493616036606636,
            "bin_end": 0.2068667197517541,
            "count": 0
           },
           {
            "bin_start": 0.2068667197517541,
            "bin_end": 0.22879727913744186,
            "count": 0
           },
           {
            "bin_start": 0.22879727913744186,
            "bin_end": 0.2507278385231296,
            "count": 1
           }
          ]
         }
        },
        {
         "name": "0.22",
         "dtype": "float64",
         "stats": {
          "unique_count": 5,
          "nan_count": 0,
          "min": "0.0295839843705958",
          "max": "0.2090859564996622",
          "histogram": [
           {
            "bin_start": 0.0295839843705958,
            "bin_end": 0.047534181583502436,
            "count": 2
           },
           {
            "bin_start": 0.047534181583502436,
            "bin_end": 0.06548437879640907,
            "count": 0
           },
           {
            "bin_start": 0.06548437879640907,
            "bin_end": 0.08343457600931571,
            "count": 2
           },
           {
            "bin_start": 0.08343457600931571,
            "bin_end": 0.10138477322222235,
            "count": 0
           },
           {
            "bin_start": 0.10138477322222235,
            "bin_end": 0.11933497043512899,
            "count": 0
           },
           {
            "bin_start": 0.11933497043512899,
            "bin_end": 0.13728516764803564,
            "count": 0
           },
           {
            "bin_start": 0.13728516764803564,
            "bin_end": 0.15523536486094228,
            "count": 0
           },
           {
            "bin_start": 0.15523536486094228,
            "bin_end": 0.17318556207384891,
            "count": 0
           },
           {
            "bin_start": 0.17318556207384891,
            "bin_end": 0.19113575928675555,
            "count": 0
           },
           {
            "bin_start": 0.19113575928675555,
            "bin_end": 0.2090859564996622,
            "count": 1
           }
          ]
         }
        },
        {
         "name": "0.24",
         "dtype": "float64",
         "stats": {
          "unique_count": 5,
          "nan_count": 0,
          "min": "0.0318532560038371",
          "max": "0.1923491179802387",
          "histogram": [
           {
            "bin_start": 0.0318532560038371,
            "bin_end": 0.047902842201477266,
            "count": 2
           },
           {
            "bin_start": 0.047902842201477266,
            "bin_end": 0.06395242839911743,
            "count": 0
           },
           {
            "bin_start": 0.06395242839911743,
            "bin_end": 0.0800020145967576,
            "count": 0
           },
           {
            "bin_start": 0.0800020145967576,
            "bin_end": 0.09605160079439776,
            "count": 2
           },
           {
            "bin_start": 0.09605160079439776,
            "bin_end": 0.11210118699203792,
            "count": 0
           },
           {
            "bin_start": 0.11210118699203792,
            "bin_end": 0.12815077318967807,
            "count": 0
           },
           {
            "bin_start": 0.12815077318967807,
            "bin_end": 0.14420035938731823,
            "count": 0
           },
           {
            "bin_start": 0.14420035938731823,
            "bin_end": 0.1602499455849584,
            "count": 0
           },
           {
            "bin_start": 0.1602499455849584,
            "bin_end": 0.17629953178259855,
            "count": 0
           },
           {
            "bin_start": 0.17629953178259855,
            "bin_end": 0.1923491179802387,
            "count": 1
           }
          ]
         }
        },
        {
         "name": "0.25",
         "dtype": "float64",
         "stats": {
          "unique_count": 5,
          "nan_count": 0,
          "min": "0.0337287636429722",
          "max": "0.16936844871423",
          "histogram": [
           {
            "bin_start": 0.0337287636429722,
            "bin_end": 0.04729273215009798,
            "count": 1
           },
           {
            "bin_start": 0.04729273215009798,
            "bin_end": 0.06085670065722376,
            "count": 1
           },
           {
            "bin_start": 0.06085670065722376,
            "bin_end": 0.07442066916434954,
            "count": 0
           },
           {
            "bin_start": 0.07442066916434954,
            "bin_end": 0.08798463767147532,
            "count": 1
           },
           {
            "bin_start": 0.08798463767147532,
            "bin_end": 0.1015486061786011,
            "count": 1
           },
           {
            "bin_start": 0.1015486061786011,
            "bin_end": 0.11511257468572689,
            "count": 0
           },
           {
            "bin_start": 0.11511257468572689,
            "bin_end": 0.12867654319285265,
            "count": 0
           },
           {
            "bin_start": 0.12867654319285265,
            "bin_end": 0.14224051169997845,
            "count": 0
           },
           {
            "bin_start": 0.14224051169997845,
            "bin_end": 0.15580448020710425,
            "count": 0
           },
           {
            "bin_start": 0.15580448020710425,
            "bin_end": 0.16936844871423,
            "count": 1
           }
          ]
         }
        },
        {
         "name": "0.26",
         "dtype": "float64",
         "stats": {
          "unique_count": 5,
          "nan_count": 0,
          "min": "0.0339352684315561",
          "max": "0.147096925512237",
          "histogram": [
           {
            "bin_start": 0.0339352684315561,
            "bin_end": 0.045251434139624194,
            "count": 1
           },
           {
            "bin_start": 0.045251434139624194,
            "bin_end": 0.05656759984769228,
            "count": 1
           },
           {
            "bin_start": 0.05656759984769228,
            "bin_end": 0.06788376555576037,
            "count": 0
           },
           {
            "bin_start": 0.06788376555576037,
            "bin_end": 0.07919993126382846,
            "count": 0
           },
           {
            "bin_start": 0.07919993126382846,
            "bin_end": 0.09051609697189655,
            "count": 1
           },
           {
            "bin_start": 0.09051609697189655,
            "bin_end": 0.10183226267996463,
            "count": 0
           },
           {
            "bin_start": 0.10183226267996463,
            "bin_end": 0.11314842838803273,
            "count": 1
           },
           {
            "bin_start": 0.11314842838803273,
            "bin_end": 0.12446459409610082,
            "count": 0
           },
           {
            "bin_start": 0.12446459409610082,
            "bin_end": 0.13578075980416893,
            "count": 0
           },
           {
            "bin_start": 0.13578075980416893,
            "bin_end": 0.147096925512237,
            "count": 1
           }
          ]
         }
        },
        {
         "name": "0.28",
         "dtype": "float64",
         "stats": {
          "unique_count": 5,
          "nan_count": 0,
          "min": "0.0337859546530171",
          "max": "0.1193179701895206",
          "histogram": [
           {
            "bin_start": 0.0337859546530171,
            "bin_end": 0.04233915620666745,
            "count": 1
           },
           {
            "bin_start": 0.04233915620666745,
            "bin_end": 0.050892357760317794,
            "count": 0
           },
           {
            "bin_start": 0.050892357760317794,
            "bin_end": 0.059445559313968145,
            "count": 1
           },
           {
            "bin_start": 0.059445559313968145,
            "bin_end": 0.0679987608676185,
            "count": 0
           },
           {
            "bin_start": 0.0679987608676185,
            "bin_end": 0.07655196242126885,
            "count": 0
           },
           {
            "bin_start": 0.07655196242126885,
            "bin_end": 0.08510516397491918,
            "count": 1
           },
           {
            "bin_start": 0.08510516397491918,
            "bin_end": 0.09365836552856954,
            "count": 1
           },
           {
            "bin_start": 0.09365836552856954,
            "bin_end": 0.1022115670822199,
            "count": 0
           },
           {
            "bin_start": 0.1022115670822199,
            "bin_end": 0.11076476863587023,
            "count": 0
           },
           {
            "bin_start": 0.11076476863587023,
            "bin_end": 0.1193179701895206,
            "count": 1
           }
          ]
         }
        },
        {
         "name": "0.29",
         "dtype": "float64",
         "stats": {
          "unique_count": 5,
          "nan_count": 0,
          "min": "0.0371489639157852",
          "max": "0.1158057864490509",
          "histogram": [
           {
            "bin_start": 0.0371489639157852,
            "bin_end": 0.04501464616911177,
            "count": 1
           },
           {
            "bin_start": 0.04501464616911177,
            "bin_end": 0.05288032842243834,
            "count": 1
           },
           {
            "bin_start": 0.05288032842243834,
            "bin_end": 0.060746010675764905,
            "count": 0
           },
           {
            "bin_start": 0.060746010675764905,
            "bin_end": 0.06861169292909147,
            "count": 0
           },
           {
            "bin_start": 0.06861169292909147,
            "bin_end": 0.07647737518241804,
            "count": 1
           },
           {
            "bin_start": 0.07647737518241804,
            "bin_end": 0.08434305743574462,
            "count": 0
           },
           {
            "bin_start": 0.08434305743574462,
            "bin_end": 0.0922087396890712,
            "count": 0
           },
           {
            "bin_start": 0.0922087396890712,
            "bin_end": 0.10007442194239777,
            "count": 1
           },
           {
            "bin_start": 0.10007442194239777,
            "bin_end": 0.10794010419572433,
            "count": 0
           },
           {
            "bin_start": 0.10794010419572433,
            "bin_end": 0.1158057864490509,
            "count": 1
           }
          ]
         }
        },
        {
         "name": "0.3",
         "dtype": "float64",
         "stats": {
          "unique_count": 5,
          "nan_count": 0,
          "min": "0.0420185873306138",
          "max": "0.1170561336550183",
          "histogram": [
           {
            "bin_start": 0.0420185873306138,
            "bin_end": 0.04952234196305425,
            "count": 2
           },
           {
            "bin_start": 0.04952234196305425,
            "bin_end": 0.0570260965954947,
            "count": 0
           },
           {
            "bin_start": 0.0570260965954947,
            "bin_end": 0.06452985122793514,
            "count": 0
           },
           {
            "bin_start": 0.06452985122793514,
            "bin_end": 0.0720336058603756,
            "count": 1
           },
           {
            "bin_start": 0.0720336058603756,
            "bin_end": 0.07953736049281604,
            "count": 0
           },
           {
            "bin_start": 0.07953736049281604,
            "bin_end": 0.0870411151252565,
            "count": 0
           },
           {
            "bin_start": 0.0870411151252565,
            "bin_end": 0.09454486975769694,
            "count": 0
           },
           {
            "bin_start": 0.09454486975769694,
            "bin_end": 0.1020486243901374,
            "count": 1
           },
           {
            "bin_start": 0.1020486243901374,
            "bin_end": 0.10955237902257783,
            "count": 0
           },
           {
            "bin_start": 0.10955237902257783,
            "bin_end": 0.1170561336550183,
            "count": 1
           }
          ]
         }
        },
        {
         "name": "0.32",
         "dtype": "float64",
         "stats": {
          "unique_count": 5,
          "nan_count": 0,
          "min": "0.0387438311504232",
          "max": "0.1108197393825456",
          "histogram": [
           {
            "bin_start": 0.0387438311504232,
            "bin_end": 0.04595142197363544,
            "count": 1
           },
           {
            "bin_start": 0.04595142197363544,
            "bin_end": 0.05315901279684768,
            "count": 1
           },
           {
            "bin_start": 0.05315901279684768,
            "bin_end": 0.06036660362005992,
            "count": 0
           },
           {
            "bin_start": 0.06036660362005992,
            "bin_end": 0.06757419444327216,
            "count": 1
           },
           {
            "bin_start": 0.06757419444327216,
            "bin_end": 0.07478178526648441,
            "count": 0
           },
           {
            "bin_start": 0.07478178526648441,
            "bin_end": 0.08198937608969664,
            "count": 0
           },
           {
            "bin_start": 0.08198937608969664,
            "bin_end": 0.08919696691290888,
            "count": 0
           },
           {
            "bin_start": 0.08919696691290888,
            "bin_end": 0.09640455773612111,
            "count": 1
           },
           {
            "bin_start": 0.09640455773612111,
            "bin_end": 0.10361214855933334,
            "count": 0
           },
           {
            "bin_start": 0.10361214855933334,
            "bin_end": 0.1108197393825456,
            "count": 1
           }
          ]
         }
        },
        {
         "name": "0.34",
         "dtype": "float64",
         "stats": {
          "unique_count": 5,
          "nan_count": 0,
          "min": "0.0348538762227967",
          "max": "0.1320730407247498",
          "histogram": [
           {
            "bin_start": 0.0348538762227967,
            "bin_end": 0.044575792672992005,
            "count": 1
           },
           {
            "bin_start": 0.044575792672992005,
            "bin_end": 0.054297709123187314,
            "count": 1
           },
           {
            "bin_start": 0.054297709123187314,
            "bin_end": 0.06401962557338262,
            "count": 0
           },
           {
            "bin_start": 0.06401962557338262,
            "bin_end": 0.07374154202357794,
            "count": 1
           },
           {
            "bin_start": 0.07374154202357794,
            "bin_end": 0.08346345847377323,
            "count": 0
           },
           {
            "bin_start": 0.08346345847377323,
            "bin_end": 0.09318537492396856,
            "count": 0
           },
           {
            "bin_start": 0.09318537492396856,
            "bin_end": 0.10290729137416385,
            "count": 1
           },
           {
            "bin_start": 0.10290729137416385,
            "bin_end": 0.11262920782435917,
            "count": 0
           },
           {
            "bin_start": 0.11262920782435917,
            "bin_end": 0.12235112427455447,
            "count": 0
           },
           {
            "bin_start": 0.12235112427455447,
            "bin_end": 0.1320730407247498,
            "count": 1
           }
          ]
         }
        },
        {
         "name": "0.35",
         "dtype": "float64",
         "stats": {
          "unique_count": 5,
          "nan_count": 0,
          "min": "0.0339840009623911",
          "max": "0.1248890584175599",
          "histogram": [
           {
            "bin_start": 0.0339840009623911,
            "bin_end": 0.04307450670790798,
            "count": 1
           },
           {
            "bin_start": 0.04307450670790798,
            "bin_end": 0.05216501245342486,
            "count": 1
           },
           {
            "bin_start": 0.05216501245342486,
            "bin_end": 0.06125551819894173,
            "count": 0
           },
           {
            "bin_start": 0.06125551819894173,
            "bin_end": 0.07034602394445862,
            "count": 0
           },
           {
            "bin_start": 0.07034602394445862,
            "bin_end": 0.0794365296899755,
            "count": 1
           },
           {
            "bin_start": 0.0794365296899755,
            "bin_end": 0.08852703543549237,
            "count": 0
           },
           {
            "bin_start": 0.08852703543549237,
            "bin_end": 0.09761754118100925,
            "count": 0
           },
           {
            "bin_start": 0.09761754118100925,
            "bin_end": 0.10670804692652613,
            "count": 1
           },
           {
            "bin_start": 0.10670804692652613,
            "bin_end": 0.11579855267204302,
            "count": 0
           },
           {
            "bin_start": 0.11579855267204302,
            "bin_end": 0.1248890584175599,
            "count": 1
           }
          ]
         }
        },
        {
         "name": "0.36",
         "dtype": "float64",
         "stats": {
          "unique_count": 5,
          "nan_count": 0,
          "min": "0.034297785159998",
          "max": "0.1140139962745573",
          "histogram": [
           {
            "bin_start": 0.034297785159998,
            "bin_end": 0.042269406271453924,
            "count": 1
           },
           {
            "bin_start": 0.042269406271453924,
            "bin_end": 0.05024102738290986,
            "count": 1
           },
           {
            "bin_start": 0.05024102738290986,
            "bin_end": 0.05821264849436579,
            "count": 0
           },
           {
            "bin_start": 0.05821264849436579,
            "bin_end": 0.06618426960582172,
            "count": 0
           },
           {
            "bin_start": 0.06618426960582172,
            "bin_end": 0.07415589071727764,
            "count": 0
           },
           {
            "bin_start": 0.07415589071727764,
            "bin_end": 0.08212751182873357,
            "count": 0
           },
           {
            "bin_start": 0.08212751182873357,
            "bin_end": 0.09009913294018951,
            "count": 1
           },
           {
            "bin_start": 0.09009913294018951,
            "bin_end": 0.09807075405164543,
            "count": 0
           },
           {
            "bin_start": 0.09807075405164543,
            "bin_end": 0.10604237516310136,
            "count": 0
           },
           {
            "bin_start": 0.10604237516310136,
            "bin_end": 0.1140139962745573,
            "count": 2
           }
          ]
         }
        },
        {
         "name": "0.38",
         "dtype": "float64",
         "stats": {
          "unique_count": 5,
          "nan_count": 0,
          "min": "0.0376600595566501",
          "max": "0.1285081837633606",
          "histogram": [
           {
            "bin_start": 0.0376600595566501,
            "bin_end": 0.04674487197732115,
            "count": 1
           },
           {
            "bin_start": 0.04674487197732115,
            "bin_end": 0.0558296843979922,
            "count": 1
           },
           {
            "bin_start": 0.0558296843979922,
            "bin_end": 0.06491449681866324,
            "count": 0
           },
           {
            "bin_start": 0.06491449681866324,
            "bin_end": 0.07399930923933429,
            "count": 0
           },
           {
            "bin_start": 0.07399930923933429,
            "bin_end": 0.08308412166000534,
            "count": 0
           },
           {
            "bin_start": 0.08308412166000534,
            "bin_end": 0.09216893408067639,
            "count": 1
           },
           {
            "bin_start": 0.09216893408067639,
            "bin_end": 0.10125374650134744,
            "count": 1
           },
           {
            "bin_start": 0.10125374650134744,
            "bin_end": 0.11033855892201849,
            "count": 0
           },
           {
            "bin_start": 0.11033855892201849,
            "bin_end": 0.11942337134268954,
            "count": 0
           },
           {
            "bin_start": 0.11942337134268954,
            "bin_end": 0.1285081837633606,
            "count": 1
           }
          ]
         }
        },
        {
         "name": "0.4",
         "dtype": "float64",
         "stats": {
          "unique_count": 5,
          "nan_count": 0,
          "min": "0.0379038947570124",
          "max": "0.1410814499279081",
          "histogram": [
           {
            "bin_start": 0.0379038947570124,
            "bin_end": 0.04822165027410197,
            "count": 2
           },
           {
            "bin_start": 0.04822165027410197,
            "bin_end": 0.058539405791191546,
            "count": 0
           },
           {
            "bin_start": 0.058539405791191546,
            "bin_end": 0.06885716130828112,
            "count": 0
           },
           {
            "bin_start": 0.06885716130828112,
            "bin_end": 0.07917491682537069,
            "count": 1
           },
           {
            "bin_start": 0.07917491682537069,
            "bin_end": 0.08949267234246025,
            "count": 1
           },
           {
            "bin_start": 0.08949267234246025,
            "bin_end": 0.09981042785954983,
            "count": 0
           },
           {
            "bin_start": 0.09981042785954983,
            "bin_end": 0.1101281833766394,
            "count": 0
           },
           {
            "bin_start": 0.1101281833766394,
            "bin_end": 0.12044593889372898,
            "count": 0
           },
           {
            "bin_start": 0.12044593889372898,
            "bin_end": 0.13076369441081856,
            "count": 0
           },
           {
            "bin_start": 0.13076369441081856,
            "bin_end": 0.1410814499279081,
            "count": 1
           }
          ]
         }
        },
        {
         "name": "0.42",
         "dtype": "float64",
         "stats": {
          "unique_count": 5,
          "nan_count": 0,
          "min": "0.0351457720222904",
          "max": "0.1376563766003376",
          "histogram": [
           {
            "bin_start": 0.0351457720222904,
            "bin_end": 0.045396832480095115,
            "count": 2
           },
           {
            "bin_start": 0.045396832480095115,
            "bin_end": 0.05564789293789984,
            "count": 0
           },
           {
            "bin_start": 0.05564789293789984,
            "bin_end": 0.06589895339570456,
            "count": 1
           },
           {
            "bin_start": 0.06589895339570456,
            "bin_end": 0.07615001385350928,
            "count": 1
           },
           {
            "bin_start": 0.07615001385350928,
            "bin_end": 0.086401074311314,
            "count": 0
           },
           {
            "bin_start": 0.086401074311314,
            "bin_end": 0.09665213476911871,
            "count": 0
           },
           {
            "bin_start": 0.09665213476911871,
            "bin_end": 0.10690319522692344,
            "count": 0
           },
           {
            "bin_start": 0.10690319522692344,
            "bin_end": 0.11715425568472816,
            "count": 0
           },
           {
            "bin_start": 0.11715425568472816,
            "bin_end": 0.12740531614253287,
            "count": 0
           },
           {
            "bin_start": 0.12740531614253287,
            "bin_end": 0.1376563766003376,
            "count": 1
           }
          ]
         }
        },
        {
         "name": "0.44",
         "dtype": "float64",
         "stats": {
          "unique_count": 5,
          "nan_count": 0,
          "min": "0.0344685156933861",
          "max": "0.1143511631582949",
          "histogram": [
           {
            "bin_start": 0.0344685156933861,
            "bin_end": 0.04245678043987698,
            "count": 2
           },
           {
            "bin_start": 0.04245678043987698,
            "bin_end": 0.05044504518636786,
            "count": 0
           },
           {
            "bin_start": 0.05044504518636786,
            "bin_end": 0.05843330993285874,
            "count": 0
           },
           {
            "bin_start": 0.05843330993285874,
            "bin_end": 0.06642157467934962,
            "count": 1
           },
           {
            "bin_start": 0.06642157467934962,
            "bin_end": 0.07440983942584051,
            "count": 1
           },
           {
            "bin_start": 0.07440983942584051,
            "bin_end": 0.08239810417233139,
            "count": 0
           },
           {
            "bin_start": 0.08239810417233139,
            "bin_end": 0.09038636891882226,
            "count": 0
           },
           {
            "bin_start": 0.09038636891882226,
            "bin_end": 0.09837463366531315,
            "count": 0
           },
           {
            "bin_start": 0.09837463366531315,
            "bin_end": 0.10636289841180402,
            "count": 0
           },
           {
            "bin_start": 0.10636289841180402,
            "bin_end": 0.1143511631582949,
            "count": 1
           }
          ]
         }
        },
        {
         "name": "0.45",
         "dtype": "float64",
         "stats": {
          "unique_count": 5,
          "nan_count": 0,
          "min": "0.03486674555005",
          "max": "0.1275610296636185",
          "histogram": [
           {
            "bin_start": 0.03486674555005,
            "bin_end": 0.04413617396140686,
            "count": 2
           },
           {
            "bin_start": 0.04413617396140686,
            "bin_end": 0.053405602372763705,
            "count": 0
           },
           {
            "bin_start": 0.053405602372763705,
            "bin_end": 0.06267503078412055,
            "count": 1
           },
           {
            "bin_start": 0.06267503078412055,
            "bin_end": 0.0719444591954774,
            "count": 1
           },
           {
            "bin_start": 0.0719444591954774,
            "bin_end": 0.08121388760683426,
            "count": 0
           },
           {
            "bin_start": 0.08121388760683426,
            "bin_end": 0.09048331601819111,
            "count": 0
           },
           {
            "bin_start": 0.09048331601819111,
            "bin_end": 0.09975274442954796,
            "count": 0
           },
           {
            "bin_start": 0.09975274442954796,
            "bin_end": 0.10902217284090482,
            "count": 0
           },
           {
            "bin_start": 0.10902217284090482,
            "bin_end": 0.11829160125226165,
            "count": 0
           },
           {
            "bin_start": 0.11829160125226165,
            "bin_end": 0.1275610296636185,
            "count": 1
           }
          ]
         }
        },
        {
         "name": "0.46",
         "dtype": "float64",
         "stats": {
          "unique_count": 5,
          "nan_count": 0,
          "min": "0.0356765881397172",
          "max": "0.1420421227761111",
          "histogram": [
           {
            "bin_start": 0.0356765881397172,
            "bin_end": 0.04631314160335659,
            "count": 2
           },
           {
            "bin_start": 0.04631314160335659,
            "bin_end": 0.05694969506699599,
            "count": 0
           },
           {
            "bin_start": 0.05694969506699599,
            "bin_end": 0.06758624853063538,
            "count": 1
           },
           {
            "bin_start": 0.06758624853063538,
            "bin_end": 0.07822280199427477,
            "count": 1
           },
           {
            "bin_start": 0.07822280199427477,
            "bin_end": 0.08885935545791415,
            "count": 0
           },
           {
            "bin_start": 0.08885935545791415,
            "bin_end": 0.09949590892155355,
            "count": 0
           },
           {
            "bin_start": 0.09949590892155355,
            "bin_end": 0.11013246238519295,
            "count": 0
           },
           {
            "bin_start": 0.11013246238519295,
            "bin_end": 0.12076901584883235,
            "count": 0
           },
           {
            "bin_start": 0.12076901584883235,
            "bin_end": 0.13140556931247174,
            "count": 0
           },
           {
            "bin_start": 0.13140556931247174,
            "bin_end": 0.1420421227761111,
            "count": 1
           }
          ]
         }
        },
        {
         "name": "0.48",
         "dtype": "float64",
         "stats": {
          "unique_count": 5,
          "nan_count": 0,
          "min": "0.034484632672688",
          "max": "0.1634918321749359",
          "histogram": [
           {
            "bin_start": 0.034484632672688,
            "bin_end": 0.04738535262291278,
            "count": 2
           },
           {
            "bin_start": 0.04738535262291278,
            "bin_end": 0.060286072573137575,
            "count": 0
           },
           {
            "bin_start": 0.060286072573137575,
            "bin_end": 0.07318679252336235,
            "count": 2
           },
           {
            "bin_start": 0.07318679252336235,
            "bin_end": 0.08608751247358715,
            "count": 0
           },
           {
            "bin_start": 0.08608751247358715,
            "bin_end": 0.09898823242381194,
            "count": 0
           },
           {
            "bin_start": 0.09898823242381194,
            "bin_end": 0.11188895237403673,
            "count": 0
           },
           {
            "bin_start": 0.11188895237403673,
            "bin_end": 0.12478967232426152,
            "count": 0
           },
           {
            "bin_start": 0.12478967232426152,
            "bin_end": 0.13769039227448632,
            "count": 0
           },
           {
            "bin_start": 0.13769039227448632,
            "bin_end": 0.1505911122247111,
            "count": 0
           },
           {
            "bin_start": 0.1505911122247111,
            "bin_end": 0.1634918321749359,
            "count": 1
           }
          ]
         }
        },
        {
         "name": "0.5",
         "dtype": "float64",
         "stats": {
          "unique_count": 5,
          "nan_count": 0,
          "min": "0.0289664785260319",
          "max": "0.1635169644412949",
          "histogram": [
           {
            "bin_start": 0.0289664785260319,
            "bin_end": 0.0424215271175582,
            "count": 2
           },
           {
            "bin_start": 0.0424215271175582,
            "bin_end": 0.0558765757090845,
            "count": 0
           },
           {
            "bin_start": 0.0558765757090845,
            "bin_end": 0.06933162430061081,
            "count": 0
           },
           {
            "bin_start": 0.06933162430061081,
            "bin_end": 0.0827866728921371,
            "count": 2
           },
           {
            "bin_start": 0.0827866728921371,
            "bin_end": 0.0962417214836634,
            "count": 0
           },
           {
            "bin_start": 0.0962417214836634,
            "bin_end": 0.10969677007518971,
            "count": 0
           },
           {
            "bin_start": 0.10969677007518971,
            "bin_end": 0.12315181866671601,
            "count": 0
           },
           {
            "bin_start": 0.12315181866671601,
            "bin_end": 0.1366068672582423,
            "count": 0
           },
           {
            "bin_start": 0.1366068672582423,
            "bin_end": 0.1500619158497686,
            "count": 0
           },
           {
            "bin_start": 0.1500619158497686,
            "bin_end": 0.1635169644412949,
            "count": 1
           }
          ]
         }
        },
        {
         "name": "0.55",
         "dtype": "float64",
         "stats": {
          "unique_count": 5,
          "nan_count": 0,
          "min": "0.0311985783589428",
          "max": "0.1394601559383565",
          "histogram": [
           {
            "bin_start": 0.0311985783589428,
            "bin_end": 0.04202473611688417,
            "count": 1
           },
           {
            "bin_start": 0.04202473611688417,
            "bin_end": 0.05285089387482554,
            "count": 2
           },
           {
            "bin_start": 0.05285089387482554,
            "bin_end": 0.0636770516327669,
            "count": 0
           },
           {
            "bin_start": 0.0636770516327669,
            "bin_end": 0.07450320939070829,
            "count": 0
           },
           {
            "bin_start": 0.07450320939070829,
            "bin_end": 0.08532936714864965,
            "count": 1
           },
           {
            "bin_start": 0.08532936714864965,
            "bin_end": 0.09615552490659102,
            "count": 0
           },
           {
            "bin_start": 0.09615552490659102,
            "bin_end": 0.1069816826645324,
            "count": 0
           },
           {
            "bin_start": 0.1069816826645324,
            "bin_end": 0.11780784042247376,
            "count": 0
           },
           {
            "bin_start": 0.11780784042247376,
            "bin_end": 0.12863399818041513,
            "count": 0
           },
           {
            "bin_start": 0.12863399818041513,
            "bin_end": 0.1394601559383565,
            "count": 1
           }
          ]
         }
        },
        {
         "name": "0.6",
         "dtype": "float64",
         "stats": {
          "unique_count": 5,
          "nan_count": 0,
          "min": "0.0280005351528867",
          "max": "0.1429448754782555",
          "histogram": [
           {
            "bin_start": 0.0280005351528867,
            "bin_end": 0.03949496918542358,
            "count": 1
           },
           {
            "bin_start": 0.03949496918542358,
            "bin_end": 0.05098940321796046,
            "count": 1
           },
           {
            "bin_start": 0.05098940321796046,
            "bin_end": 0.06248383725049733,
            "count": 1
           },
           {
            "bin_start": 0.06248383725049733,
            "bin_end": 0.07397827128303422,
            "count": 0
           },
           {
            "bin_start": 0.07397827128303422,
            "bin_end": 0.0854727053155711,
            "count": 0
           },
           {
            "bin_start": 0.0854727053155711,
            "bin_end": 0.09696713934810797,
            "count": 1
           },
           {
            "bin_start": 0.09696713934810797,
            "bin_end": 0.10846157338064485,
            "count": 0
           },
           {
            "bin_start": 0.10846157338064485,
            "bin_end": 0.11995600741318173,
            "count": 0
           },
           {
            "bin_start": 0.11995600741318173,
            "bin_end": 0.1314504414457186,
            "count": 0
           },
           {
            "bin_start": 0.1314504414457186,
            "bin_end": 0.1429448754782555,
            "count": 1
           }
          ]
         }
        },
        {
         "name": "0.65",
         "dtype": "float64",
         "stats": {
          "unique_count": 5,
          "nan_count": 0,
          "min": "0.0249676397584693",
          "max": "0.1496835653061423",
          "histogram": [
           {
            "bin_start": 0.0249676397584693,
            "bin_end": 0.0374392323132366,
            "count": 2
           },
           {
            "bin_start": 0.0374392323132366,
            "bin_end": 0.0499108248680039,
            "count": 1
           },
           {
            "bin_start": 0.0499108248680039,
            "bin_end": 0.0623824174227712,
            "count": 0
           },
           {
            "bin_start": 0.0623824174227712,
            "bin_end": 0.0748540099775385,
            "count": 0
           },
           {
            "bin_start": 0.0748540099775385,
            "bin_end": 0.0873256025323058,
            "count": 0
           },
           {
            "bin_start": 0.0873256025323058,
            "bin_end": 0.0997971950870731,
            "count": 1
           },
           {
            "bin_start": 0.0997971950870731,
            "bin_end": 0.1122687876418404,
            "count": 0
           },
           {
            "bin_start": 0.1122687876418404,
            "bin_end": 0.1247403801966077,
            "count": 0
           },
           {
            "bin_start": 0.1247403801966077,
            "bin_end": 0.137211972751375,
            "count": 0
           },
           {
            "bin_start": 0.137211972751375,
            "bin_end": 0.1496835653061423,
            "count": 1
           }
          ]
         }
        },
        {
         "name": "0.667",
         "dtype": "float64",
         "stats": {
          "unique_count": 5,
          "nan_count": 0,
          "min": "0.0233693552139727",
          "max": "0.1566269101295458",
          "histogram": [
           {
            "bin_start": 0.0233693552139727,
            "bin_end": 0.036695110705530005,
            "count": 2
           },
           {
            "bin_start": 0.036695110705530005,
            "bin_end": 0.050020866197087316,
            "count": 1
           },
           {
            "bin_start": 0.050020866197087316,
            "bin_end": 0.06334662168864462,
            "count": 0
           },
           {
            "bin_start": 0.06334662168864462,
            "bin_end": 0.07667237718020194,
            "count": 0
           },
           {
            "bin_start": 0.07667237718020194,
            "bin_end": 0.08999813267175924,
            "count": 0
           },
           {
            "bin_start": 0.08999813267175924,
            "bin_end": 0.10332388816331654,
            "count": 0
           },
           {
            "bin_start": 0.10332388816331654,
            "bin_end": 0.11664964365487386,
            "count": 1
           },
           {
            "bin_start": 0.11664964365487386,
            "bin_end": 0.12997539914643116,
            "count": 0
           },
           {
            "bin_start": 0.12997539914643116,
            "bin_end": 0.14330115463798848,
            "count": 0
           },
           {
            "bin_start": 0.14330115463798848,
            "bin_end": 0.1566269101295458,
            "count": 1
           }
          ]
         }
        },
        {
         "name": "0.7",
         "dtype": "float64",
         "stats": {
          "unique_count": 5,
          "nan_count": 0,
          "min": "0.0201154119418267",
          "max": "0.167163644617717",
          "histogram": [
           {
            "bin_start": 0.0201154119418267,
            "bin_end": 0.034820235209415726,
            "count": 2
           },
           {
            "bin_start": 0.034820235209415726,
            "bin_end": 0.04952505847700476,
            "count": 1
           },
           {
            "bin_start": 0.04952505847700476,
            "bin_end": 0.06422988174459379,
            "count": 0
           },
           {
            "bin_start": 0.06422988174459379,
            "bin_end": 0.07893470501218282,
            "count": 0
           },
           {
            "bin_start": 0.07893470501218282,
            "bin_end": 0.09363952827977184,
            "count": 0
           },
           {
            "bin_start": 0.09363952827977184,
            "bin_end": 0.10834435154736088,
            "count": 1
           },
           {
            "bin_start": 0.10834435154736088,
            "bin_end": 0.12304917481494991,
            "count": 0
           },
           {
            "bin_start": 0.12304917481494991,
            "bin_end": 0.13775399808253894,
            "count": 0
           },
           {
            "bin_start": 0.13775399808253894,
            "bin_end": 0.15245882135012798,
            "count": 0
           },
           {
            "bin_start": 0.15245882135012798,
            "bin_end": 0.167163644617717,
            "count": 1
           }
          ]
         }
        },
        {
         "name": "0.75",
         "dtype": "float64",
         "stats": {
          "unique_count": 5,
          "nan_count": 0,
          "min": "0.0154615060549481",
          "max": "0.1694018543058086",
          "histogram": [
           {
            "bin_start": 0.0154615060549481,
            "bin_end": 0.03085554088003415,
            "count": 2
           },
           {
            "bin_start": 0.03085554088003415,
            "bin_end": 0.0462495757051202,
            "count": 1
           },
           {
            "bin_start": 0.0462495757051202,
            "bin_end": 0.061643610530206255,
            "count": 0
           },
           {
            "bin_start": 0.061643610530206255,
            "bin_end": 0.0770376453552923,
            "count": 0
           },
           {
            "bin_start": 0.0770376453552923,
            "bin_end": 0.09243168018037835,
            "count": 1
           },
           {
            "bin_start": 0.09243168018037835,
            "bin_end": 0.10782571500546441,
            "count": 0
           },
           {
            "bin_start": 0.10782571500546441,
            "bin_end": 0.12321974983055045,
            "count": 0
           },
           {
            "bin_start": 0.12321974983055045,
            "bin_end": 0.1386137846556365,
            "count": 0
           },
           {
            "bin_start": 0.1386137846556365,
            "bin_end": 0.15400781948072254,
            "count": 0
           },
           {
            "bin_start": 0.15400781948072254,
            "bin_end": 0.1694018543058086,
            "count": 1
           }
          ]
         }
        },
        {
         "name": "0.8",
         "dtype": "float64",
         "stats": {
          "unique_count": 5,
          "nan_count": 0,
          "min": "0.013310053806728",
          "max": "0.1950041539038788",
          "histogram": [
           {
            "bin_start": 0.013310053806728,
            "bin_end": 0.03147946381644308,
            "count": 2
           },
           {
            "bin_start": 0.03147946381644308,
            "bin_end": 0.04964887382615816,
            "count": 1
           },
           {
            "bin_start": 0.04964887382615816,
            "bin_end": 0.06781828383587324,
            "count": 1
           },
           {
            "bin_start": 0.06781828383587324,
            "bin_end": 0.08598769384558833,
            "count": 0
           },
           {
            "bin_start": 0.08598769384558833,
            "bin_end": 0.10415710385530341,
            "count": 0
           },
           {
            "bin_start": 0.10415710385530341,
            "bin_end": 0.12232651386501847,
            "count": 0
           },
           {
            "bin_start": 0.12232651386501847,
            "bin_end": 0.14049592387473356,
            "count": 0
           },
           {
            "bin_start": 0.14049592387473356,
            "bin_end": 0.15866533388444864,
            "count": 0
           },
           {
            "bin_start": 0.15866533388444864,
            "bin_end": 0.17683474389416373,
            "count": 0
           },
           {
            "bin_start": 0.17683474389416373,
            "bin_end": 0.1950041539038788,
            "count": 1
           }
          ]
         }
        },
        {
         "name": "0.85",
         "dtype": "float64",
         "stats": {
          "unique_count": 5,
          "nan_count": 0,
          "min": "0.0105862586429288",
          "max": "0.1954903234709311",
          "histogram": [
           {
            "bin_start": 0.0105862586429288,
            "bin_end": 0.029076665125729026,
            "count": 2
           },
           {
            "bin_start": 0.029076665125729026,
            "bin_end": 0.04756707160852926,
            "count": 1
           },
           {
            "bin_start": 0.04756707160852926,
            "bin_end": 0.06605747809132947,
            "count": 0
           },
           {
            "bin_start": 0.06605747809132947,
            "bin_end": 0.0845478845741297,
            "count": 1
           },
           {
            "bin_start": 0.0845478845741297,
            "bin_end": 0.10303829105692994,
            "count": 0
           },
           {
            "bin_start": 0.10303829105692994,
            "bin_end": 0.12152869753973015,
            "count": 0
           },
           {
            "bin_start": 0.12152869753973015,
            "bin_end": 0.1400191040225304,
            "count": 0
           },
           {
            "bin_start": 0.1400191040225304,
            "bin_end": 0.15850951050533063,
            "count": 0
           },
           {
            "bin_start": 0.15850951050533063,
            "bin_end": 0.17699991698813086,
            "count": 0
           },
           {
            "bin_start": 0.17699991698813086,
            "bin_end": 0.1954903234709311,
            "count": 1
           }
          ]
         }
        },
        {
         "name": "0.9",
         "dtype": "float64",
         "stats": {
          "unique_count": 5,
          "nan_count": 0,
          "min": "0.0097294762278562",
          "max": "0.1695907533858265",
          "histogram": [
           {
            "bin_start": 0.0097294762278562,
            "bin_end": 0.02571560394365323,
            "count": 2
           },
           {
            "bin_start": 0.02571560394365323,
            "bin_end": 0.04170173165945026,
            "count": 0
           },
           {
            "bin_start": 0.04170173165945026,
            "bin_end": 0.057687859375247286,
            "count": 2
           },
           {
            "bin_start": 0.057687859375247286,
            "bin_end": 0.07367398709104431,
            "count": 0
           },
           {
            "bin_start": 0.07367398709104431,
            "bin_end": 0.08966011480684133,
            "count": 0
           },
           {
            "bin_start": 0.08966011480684133,
            "bin_end": 0.10564624252263838,
            "count": 0
           },
           {
            "bin_start": 0.10564624252263838,
            "bin_end": 0.1216323702384354,
            "count": 0
           },
           {
            "bin_start": 0.1216323702384354,
            "bin_end": 0.13761849795423242,
            "count": 0
           },
           {
            "bin_start": 0.13761849795423242,
            "bin_end": 0.15360462567002944,
            "count": 0
           },
           {
            "bin_start": 0.15360462567002944,
            "bin_end": 0.1695907533858265,
            "count": 1
           }
          ]
         }
        },
        {
         "name": "0.95",
         "dtype": "float64",
         "stats": {
          "unique_count": 5,
          "nan_count": 0,
          "min": "0.0092066150851285",
          "max": "0.1782017978994109",
          "histogram": [
           {
            "bin_start": 0.0092066150851285,
            "bin_end": 0.02610613336655674,
            "count": 2
           },
           {
            "bin_start": 0.02610613336655674,
            "bin_end": 0.04300565164798498,
            "count": 1
           },
           {
            "bin_start": 0.04300565164798498,
            "bin_end": 0.05990516992941322,
            "count": 1
           },
           {
            "bin_start": 0.05990516992941322,
            "bin_end": 0.07680468821084147,
            "count": 0
           },
           {
            "bin_start": 0.07680468821084147,
            "bin_end": 0.09370420649226971,
            "count": 0
           },
           {
            "bin_start": 0.09370420649226971,
            "bin_end": 0.11060372477369794,
            "count": 0
           },
           {
            "bin_start": 0.11060372477369794,
            "bin_end": 0.12750324305512617,
            "count": 0
           },
           {
            "bin_start": 0.12750324305512617,
            "bin_end": 0.1444027613365544,
            "count": 0
           },
           {
            "bin_start": 0.1444027613365544,
            "bin_end": 0.16130227961798266,
            "count": 0
           },
           {
            "bin_start": 0.16130227961798266,
            "bin_end": 0.1782017978994109,
            "count": 1
           }
          ]
         }
        },
        {
         "name": "1.0",
         "dtype": "float64",
         "stats": {
          "unique_count": 5,
          "nan_count": 0,
          "min": "0.0104780656449238",
          "max": "0.2041249779335343",
          "histogram": [
           {
            "bin_start": 0.0104780656449238,
            "bin_end": 0.02984275687378485,
            "count": 2
           },
           {
            "bin_start": 0.02984275687378485,
            "bin_end": 0.049207448102645907,
            "count": 1
           },
           {
            "bin_start": 0.049207448102645907,
            "bin_end": 0.06857213933150695,
            "count": 1
           },
           {
            "bin_start": 0.06857213933150695,
            "bin_end": 0.08793683056036801,
            "count": 0
           },
           {
            "bin_start": 0.08793683056036801,
            "bin_end": 0.10730152178922907,
            "count": 0
           },
           {
            "bin_start": 0.10730152178922907,
            "bin_end": 0.1266662130180901,
            "count": 0
           },
           {
            "bin_start": 0.1266662130180901,
            "bin_end": 0.14603090424695114,
            "count": 0
           },
           {
            "bin_start": 0.14603090424695114,
            "bin_end": 0.1653955954758122,
            "count": 0
           },
           {
            "bin_start": 0.1653955954758122,
            "bin_end": 0.18476028670467326,
            "count": 0
           },
           {
            "bin_start": 0.18476028670467326,
            "bin_end": 0.2041249779335343,
            "count": 1
           }
          ]
         }
        },
        {
         "name": "1.1",
         "dtype": "float64",
         "stats": {
          "unique_count": 5,
          "nan_count": 0,
          "min": "0.0083235584336483",
          "max": "0.2549451253333212",
          "histogram": [
           {
            "bin_start": 0.0083235584336483,
            "bin_end": 0.03298571512361559,
            "count": 2
           },
           {
            "bin_start": 0.03298571512361559,
            "bin_end": 0.05764787181358288,
            "count": 2
           },
           {
            "bin_start": 0.05764787181358288,
            "bin_end": 0.08231002850355015,
            "count": 0
           },
           {
            "bin_start": 0.08231002850355015,
            "bin_end": 0.10697218519351745,
            "count": 0
           },
           {
            "bin_start": 0.10697218519351745,
            "bin_end": 0.13163434188348475,
            "count": 0
           },
           {
            "bin_start": 0.13163434188348475,
            "bin_end": 0.15629649857345201,
            "count": 0
           },
           {
            "bin_start": 0.15629649857345201,
            "bin_end": 0.1809586552634193,
            "count": 0
           },
           {
            "bin_start": 0.1809586552634193,
            "bin_end": 0.2056208119533866,
            "count": 0
           },
           {
            "bin_start": 0.2056208119533866,
            "bin_end": 0.2302829686433539,
            "count": 0
           },
           {
            "bin_start": 0.2302829686433539,
            "bin_end": 0.2549451253333212,
            "count": 1
           }
          ]
         }
        },
        {
         "name": "1.2",
         "dtype": "float64",
         "stats": {
          "unique_count": 5,
          "nan_count": 0,
          "min": "0.0083410757170176",
          "max": "0.1965067796925538",
          "histogram": [
           {
            "bin_start": 0.0083410757170176,
            "bin_end": 0.02715764611457122,
            "count": 2
           },
           {
            "bin_start": 0.02715764611457122,
            "bin_end": 0.04597421651212485,
            "count": 1
           },
           {
            "bin_start": 0.04597421651212485,
            "bin_end": 0.06479078690967847,
            "count": 1
           },
           {
            "bin_start": 0.06479078690967847,
            "bin_end": 0.0836073573072321,
            "count": 0
           },
           {
            "bin_start": 0.0836073573072321,
            "bin_end": 0.10242392770478571,
            "count": 0
           },
           {
            "bin_start": 0.10242392770478571,
            "bin_end": 0.12124049810233935,
            "count": 0
           },
           {
            "bin_start": 0.12124049810233935,
            "bin_end": 0.14005706849989294,
            "count": 0
           },
           {
            "bin_start": 0.14005706849989294,
            "bin_end": 0.15887363889744657,
            "count": 0
           },
           {
            "bin_start": 0.15887363889744657,
            "bin_end": 0.1776902092950002,
            "count": 0
           },
           {
            "bin_start": 0.1776902092950002,
            "bin_end": 0.1965067796925538,
            "count": 1
           }
          ]
         }
        },
        {
         "name": "1.3",
         "dtype": "float64",
         "stats": {
          "unique_count": 5,
          "nan_count": 0,
          "min": "0.0089955903980091",
          "max": "0.1710519564927258",
          "histogram": [
           {
            "bin_start": 0.0089955903980091,
            "bin_end": 0.025201227007480773,
            "count": 2
           },
           {
            "bin_start": 0.025201227007480773,
            "bin_end": 0.04140686361695244,
            "count": 1
           },
           {
            "bin_start": 0.04140686361695244,
            "bin_end": 0.05761250022642411,
            "count": 1
           },
           {
            "bin_start": 0.05761250022642411,
            "bin_end": 0.07381813683589578,
            "count": 0
           },
           {
            "bin_start": 0.07381813683589578,
            "bin_end": 0.09002377344536744,
            "count": 0
           },
           {
            "bin_start": 0.09002377344536744,
            "bin_end": 0.10622941005483912,
            "count": 0
           },
           {
            "bin_start": 0.10622941005483912,
            "bin_end": 0.12243504666431079,
            "count": 0
           },
           {
            "bin_start": 0.12243504666431079,
            "bin_end": 0.13864068327378246,
            "count": 0
           },
           {
            "bin_start": 0.13864068327378246,
            "bin_end": 0.15484631988325412,
            "count": 0
           },
           {
            "bin_start": 0.15484631988325412,
            "bin_end": 0.1710519564927258,
            "count": 1
           }
          ]
         }
        },
        {
         "name": "1.4",
         "dtype": "float64",
         "stats": {
          "unique_count": 5,
          "nan_count": 0,
          "min": "0.00930654905487",
          "max": "0.156909483619481",
          "histogram": [
           {
            "bin_start": 0.00930654905487,
            "bin_end": 0.0240668425113311,
            "count": 2
           },
           {
            "bin_start": 0.0240668425113311,
            "bin_end": 0.038827135967792206,
            "count": 1
           },
           {
            "bin_start": 0.038827135967792206,
            "bin_end": 0.05358742942425331,
            "count": 1
           },
           {
            "bin_start": 0.05358742942425331,
            "bin_end": 0.0683477228807144,
            "count": 0
           },
           {
            "bin_start": 0.0683477228807144,
            "bin_end": 0.0831080163371755,
            "count": 0
           },
           {
            "bin_start": 0.0831080163371755,
            "bin_end": 0.09786830979363662,
            "count": 0
           },
           {
            "bin_start": 0.09786830979363662,
            "bin_end": 0.11262860325009771,
            "count": 0
           },
           {
            "bin_start": 0.11262860325009771,
            "bin_end": 0.1273888967065588,
            "count": 0
           },
           {
            "bin_start": 0.1273888967065588,
            "bin_end": 0.1421491901630199,
            "count": 0
           },
           {
            "bin_start": 0.1421491901630199,
            "bin_end": 0.156909483619481,
            "count": 1
           }
          ]
         }
        },
        {
         "name": "1.5",
         "dtype": "float64",
         "stats": {
          "unique_count": 5,
          "nan_count": 0,
          "min": "0.0081424423168048",
          "max": "0.1023488426561226",
          "histogram": [
           {
            "bin_start": 0.0081424423168048,
            "bin_end": 0.01756308235073658,
            "count": 2
           },
           {
            "bin_start": 0.01756308235073658,
            "bin_end": 0.026983722384668354,
            "count": 1
           },
           {
            "bin_start": 0.026983722384668354,
            "bin_end": 0.036404362418600136,
            "count": 0
           },
           {
            "bin_start": 0.036404362418600136,
            "bin_end": 0.04582500245253191,
            "count": 0
           },
           {
            "bin_start": 0.04582500245253191,
            "bin_end": 0.05524564248646369,
            "count": 1
           },
           {
            "bin_start": 0.05524564248646369,
            "bin_end": 0.06466628252039547,
            "count": 0
           },
           {
            "bin_start": 0.06466628252039547,
            "bin_end": 0.07408692255432725,
            "count": 0
           },
           {
            "bin_start": 0.07408692255432725,
            "bin_end": 0.08350756258825903,
            "count": 0
           },
           {
            "bin_start": 0.08350756258825903,
            "bin_end": 0.09292820262219081,
            "count": 0
           },
           {
            "bin_start": 0.09292820262219081,
            "bin_end": 0.1023488426561226,
            "count": 1
           }
          ]
         }
        },
        {
         "name": "1.6",
         "dtype": "float64",
         "stats": {
          "unique_count": 5,
          "nan_count": 0,
          "min": "0.0082271748897881",
          "max": "0.0839728647708245",
          "histogram": [
           {
            "bin_start": 0.0082271748897881,
            "bin_end": 0.01580174387789174,
            "count": 2
           },
           {
            "bin_start": 0.01580174387789174,
            "bin_end": 0.02337631286599538,
            "count": 1
           },
           {
            "bin_start": 0.02337631286599538,
            "bin_end": 0.03095088185409902,
            "count": 0
           },
           {
            "bin_start": 0.03095088185409902,
            "bin_end": 0.03852545084220266,
            "count": 0
           },
           {
            "bin_start": 0.03852545084220266,
            "bin_end": 0.0461000198303063,
            "count": 0
           },
           {
            "bin_start": 0.0461000198303063,
            "bin_end": 0.05367458881840994,
            "count": 1
           },
           {
            "bin_start": 0.05367458881840994,
            "bin_end": 0.061249157806513584,
            "count": 0
           },
           {
            "bin_start": 0.061249157806513584,
            "bin_end": 0.06882372679461722,
            "count": 0
           },
           {
            "bin_start": 0.06882372679461722,
            "bin_end": 0.07639829578272085,
            "count": 0
           },
           {
            "bin_start": 0.07639829578272085,
            "bin_end": 0.0839728647708245,
            "count": 1
           }
          ]
         }
        },
        {
         "name": "1.7",
         "dtype": "float64",
         "stats": {
          "unique_count": 5,
          "nan_count": 0,
          "min": "0.0074202093420768",
          "max": "0.0877419190683105",
          "histogram": [
           {
            "bin_start": 0.0074202093420768,
            "bin_end": 0.01545238031470017,
            "count": 2
           },
           {
            "bin_start": 0.01545238031470017,
            "bin_end": 0.02348455128732354,
            "count": 1
           },
           {
            "bin_start": 0.02348455128732354,
            "bin_end": 0.031516722259946915,
            "count": 0
           },
           {
            "bin_start": 0.031516722259946915,
            "bin_end": 0.039548893232570284,
            "count": 1
           },
           {
            "bin_start": 0.039548893232570284,
            "bin_end": 0.04758106420519365,
            "count": 0
           },
           {
            "bin_start": 0.04758106420519365,
            "bin_end": 0.05561323517781703,
            "count": 0
           },
           {
            "bin_start": 0.05561323517781703,
            "bin_end": 0.0636454061504404,
            "count": 0
           },
           {
            "bin_start": 0.0636454061504404,
            "bin_end": 0.07167757712306376,
            "count": 0
           },
           {
            "bin_start": 0.07167757712306376,
            "bin_end": 0.07970974809568714,
            "count": 0
           },
           {
            "bin_start": 0.07970974809568714,
            "bin_end": 0.0877419190683105,
            "count": 1
           }
          ]
         }
        },
        {
         "name": "1.8",
         "dtype": "float64",
         "stats": {
          "unique_count": 5,
          "nan_count": 0,
          "min": "0.0062971382073653",
          "max": "0.0854536027884366",
          "histogram": [
           {
            "bin_start": 0.0062971382073653,
            "bin_end": 0.01421278466547243,
            "count": 2
           },
           {
            "bin_start": 0.01421278466547243,
            "bin_end": 0.02212843112357956,
            "count": 1
           },
           {
            "bin_start": 0.02212843112357956,
            "bin_end": 0.03004407758168669,
            "count": 1
           },
           {
            "bin_start": 0.03004407758168669,
            "bin_end": 0.03795972403979382,
            "count": 0
           },
           {
            "bin_start": 0.03795972403979382,
            "bin_end": 0.045875370497900955,
            "count": 0
           },
           {
            "bin_start": 0.045875370497900955,
            "bin_end": 0.05379101695600808,
            "count": 0
           },
           {
            "bin_start": 0.05379101695600808,
            "bin_end": 0.06170666341411521,
            "count": 0
           },
           {
            "bin_start": 0.06170666341411521,
            "bin_end": 0.06962230987222234,
            "count": 0
           },
           {
            "bin_start": 0.06962230987222234,
            "bin_end": 0.07753795633032948,
            "count": 0
           },
           {
            "bin_start": 0.07753795633032948,
            "bin_end": 0.0854536027884366,
            "count": 1
           }
          ]
         }
        },
        {
         "name": "1.9",
         "dtype": "float64",
         "stats": {
          "unique_count": 5,
          "nan_count": 0,
          "min": "0.0050782637351141",
          "max": "0.08662558184405",
          "histogram": [
           {
            "bin_start": 0.0050782637351141,
            "bin_end": 0.013232995546007691,
            "count": 2
           },
           {
            "bin_start": 0.013232995546007691,
            "bin_end": 0.02138772735690128,
            "count": 2
           },
           {
            "bin_start": 0.02138772735690128,
            "bin_end": 0.029542459167794872,
            "count": 0
           },
           {
            "bin_start": 0.029542459167794872,
            "bin_end": 0.03769719097868846,
            "count": 0
           },
           {
            "bin_start": 0.03769719097868846,
            "bin_end": 0.04585192278958205,
            "count": 0
           },
           {
            "bin_start": 0.04585192278958205,
            "bin_end": 0.05400665460047564,
            "count": 0
           },
           {
            "bin_start": 0.05400665460047564,
            "bin_end": 0.062161386411369236,
            "count": 0
           },
           {
            "bin_start": 0.062161386411369236,
            "bin_end": 0.07031611822226282,
            "count": 0
           },
           {
            "bin_start": 0.07031611822226282,
            "bin_end": 0.0784708500331564,
            "count": 0
           },
           {
            "bin_start": 0.0784708500331564,
            "bin_end": 0.08662558184405,
            "count": 1
           }
          ]
         }
        },
        {
         "name": "2.0",
         "dtype": "float64",
         "stats": {
          "unique_count": 5,
          "nan_count": 0,
          "min": "0.0047043622053295",
          "max": "0.0739054114851457",
          "histogram": [
           {
            "bin_start": 0.0047043622053295,
            "bin_end": 0.011624467133311122,
            "count": 2
           },
           {
            "bin_start": 0.011624467133311122,
            "bin_end": 0.018544572061292744,
            "count": 2
           },
           {
            "bin_start": 0.018544572061292744,
            "bin_end": 0.025464676989274362,
            "count": 0
           },
           {
            "bin_start": 0.025464676989274362,
            "bin_end": 0.03238478191725598,
            "count": 0
           },
           {
            "bin_start": 0.03238478191725598,
            "bin_end": 0.039304886845237606,
            "count": 0
           },
           {
            "bin_start": 0.039304886845237606,
            "bin_end": 0.046224991773219225,
            "count": 0
           },
           {
            "bin_start": 0.046224991773219225,
            "bin_end": 0.05314509670120085,
            "count": 0
           },
           {
            "bin_start": 0.05314509670120085,
            "bin_end": 0.06006520162918247,
            "count": 0
           },
           {
            "bin_start": 0.06006520162918247,
            "bin_end": 0.06698530655716409,
            "count": 0
           },
           {
            "bin_start": 0.06698530655716409,
            "bin_end": 0.0739054114851457,
            "count": 1
           }
          ]
         }
        },
        {
         "name": "2.2",
         "dtype": "float64",
         "stats": {
          "unique_count": 5,
          "nan_count": 0,
          "min": "0.0042504026908246",
          "max": "0.0600391305911141",
          "histogram": [
           {
            "bin_start": 0.0042504026908246,
            "bin_end": 0.00982927548085355,
            "count": 2
           },
           {
            "bin_start": 0.00982927548085355,
            "bin_end": 0.0154081482708825,
            "count": 2
           },
           {
            "bin_start": 0.0154081482708825,
            "bin_end": 0.020987021060911448,
            "count": 0
           },
           {
            "bin_start": 0.020987021060911448,
            "bin_end": 0.026565893850940398,
            "count": 0
           },
           {
            "bin_start": 0.026565893850940398,
            "bin_end": 0.03214476664096935,
            "count": 0
           },
           {
            "bin_start": 0.03214476664096935,
            "bin_end": 0.037723639430998296,
            "count": 0
           },
           {
            "bin_start": 0.037723639430998296,
            "bin_end": 0.043302512221027246,
            "count": 0
           },
           {
            "bin_start": 0.043302512221027246,
            "bin_end": 0.0488813850110562,
            "count": 0
           },
           {
            "bin_start": 0.0488813850110562,
            "bin_end": 0.05446025780108515,
            "count": 0
           },
           {
            "bin_start": 0.05446025780108515,
            "bin_end": 0.0600391305911141,
            "count": 1
           }
          ]
         }
        },
        {
         "name": "2.4",
         "dtype": "float64",
         "stats": {
          "unique_count": 5,
          "nan_count": 0,
          "min": "0.0041741492657614",
          "max": "0.0524053252418629",
          "histogram": [
           {
            "bin_start": 0.0041741492657614,
            "bin_end": 0.00899726686337155,
            "count": 3
           },
           {
            "bin_start": 0.00899726686337155,
            "bin_end": 0.013820384460981699,
            "count": 1
           },
           {
            "bin_start": 0.013820384460981699,
            "bin_end": 0.01864350205859185,
            "count": 0
           },
           {
            "bin_start": 0.01864350205859185,
            "bin_end": 0.023466619656202,
            "count": 0
           },
           {
            "bin_start": 0.023466619656202,
            "bin_end": 0.02828973725381215,
            "count": 0
           },
           {
            "bin_start": 0.02828973725381215,
            "bin_end": 0.0331128548514223,
            "count": 0
           },
           {
            "bin_start": 0.0331128548514223,
            "bin_end": 0.03793597244903245,
            "count": 0
           },
           {
            "bin_start": 0.03793597244903245,
            "bin_end": 0.0427590900466426,
            "count": 0
           },
           {
            "bin_start": 0.0427590900466426,
            "bin_end": 0.04758220764425275,
            "count": 0
           },
           {
            "bin_start": 0.04758220764425275,
            "bin_end": 0.0524053252418629,
            "count": 1
           }
          ]
         }
        },
        {
         "name": "2.5",
         "dtype": "float64",
         "stats": {
          "unique_count": 5,
          "nan_count": 0,
          "min": "0.0037340710000189",
          "max": "0.0497897590972747",
          "histogram": [
           {
            "bin_start": 0.0037340710000189,
            "bin_end": 0.00833963980974448,
            "count": 3
           },
           {
            "bin_start": 0.00833963980974448,
            "bin_end": 0.01294520861947006,
            "count": 1
           },
           {
            "bin_start": 0.01294520861947006,
            "bin_end": 0.01755077742919564,
            "count": 0
           },
           {
            "bin_start": 0.01755077742919564,
            "bin_end": 0.02215634623892122,
            "count": 0
           },
           {
            "bin_start": 0.02215634623892122,
            "bin_end": 0.0267619150486468,
            "count": 0
           },
           {
            "bin_start": 0.0267619150486468,
            "bin_end": 0.03136748385837238,
            "count": 0
           },
           {
            "bin_start": 0.03136748385837238,
            "bin_end": 0.03597305266809796,
            "count": 0
           },
           {
            "bin_start": 0.03597305266809796,
            "bin_end": 0.04057862147782354,
            "count": 0
           },
           {
            "bin_start": 0.04057862147782354,
            "bin_end": 0.04518419028754912,
            "count": 0
           },
           {
            "bin_start": 0.04518419028754912,
            "bin_end": 0.0497897590972747,
            "count": 1
           }
          ]
         }
        },
        {
         "name": "2.6",
         "dtype": "float64",
         "stats": {
          "unique_count": 5,
          "nan_count": 0,
          "min": "0.0032227828364094",
          "max": "0.0465131334421483",
          "histogram": [
           {
            "bin_start": 0.0032227828364094,
            "bin_end": 0.00755181789698329,
            "count": 2
           },
           {
            "bin_start": 0.00755181789698329,
            "bin_end": 0.01188085295755718,
            "count": 1
           },
           {
            "bin_start": 0.01188085295755718,
            "bin_end": 0.016209888018131068,
            "count": 1
           },
           {
            "bin_start": 0.016209888018131068,
            "bin_end": 0.02053892307870496,
            "count": 0
           },
           {
            "bin_start": 0.02053892307870496,
            "bin_end": 0.024867958139278848,
            "count": 0
           },
           {
            "bin_start": 0.024867958139278848,
            "bin_end": 0.02919699319985274,
            "count": 0
           },
           {
            "bin_start": 0.02919699319985274,
            "bin_end": 0.03352602826042663,
            "count": 0
           },
           {
            "bin_start": 0.03352602826042663,
            "bin_end": 0.03785506332100052,
            "count": 0
           },
           {
            "bin_start": 0.03785506332100052,
            "bin_end": 0.04218409838157441,
            "count": 0
           },
           {
            "bin_start": 0.04218409838157441,
            "bin_end": 0.0465131334421483,
            "count": 1
           }
          ]
         }
        },
        {
         "name": "2.8",
         "dtype": "float64",
         "stats": {
          "unique_count": 5,
          "nan_count": 0,
          "min": "0.0022320613258273",
          "max": "0.0521349866105211",
          "histogram": [
           {
            "bin_start": 0.0022320613258273,
            "bin_end": 0.007222353854296679,
            "count": 2
           },
           {
            "bin_start": 0.007222353854296679,
            "bin_end": 0.012212646382766059,
            "count": 2
           },
           {
            "bin_start": 0.012212646382766059,
            "bin_end": 0.01720293891123544,
            "count": 0
           },
           {
            "bin_start": 0.01720293891123544,
            "bin_end": 0.02219323143970482,
            "count": 0
           },
           {
            "bin_start": 0.02219323143970482,
            "bin_end": 0.027183523968174198,
            "count": 0
           },
           {
            "bin_start": 0.027183523968174198,
            "bin_end": 0.03217381649664358,
            "count": 0
           },
           {
            "bin_start": 0.03217381649664358,
            "bin_end": 0.03716410902511296,
            "count": 0
           },
           {
            "bin_start": 0.03716410902511296,
            "bin_end": 0.04215440155358234,
            "count": 0
           },
           {
            "bin_start": 0.04215440155358234,
            "bin_end": 0.04714469408205172,
            "count": 0
           },
           {
            "bin_start": 0.04714469408205172,
            "bin_end": 0.0521349866105211,
            "count": 1
           }
          ]
         }
        },
        {
         "name": "3.0",
         "dtype": "float64",
         "stats": {
          "unique_count": 5,
          "nan_count": 0,
          "min": "0.0016325740477939",
          "max": "0.0426146887026964",
          "histogram": [
           {
            "bin_start": 0.0016325740477939,
            "bin_end": 0.00573078551328415,
            "count": 2
           },
           {
            "bin_start": 0.00573078551328415,
            "bin_end": 0.0098289969787744,
            "count": 1
           },
           {
            "bin_start": 0.0098289969787744,
            "bin_end": 0.01392720844426465,
            "count": 1
           },
           {
            "bin_start": 0.01392720844426465,
            "bin_end": 0.018025419909754897,
            "count": 0
           },
           {
            "bin_start": 0.018025419909754897,
            "bin_end": 0.022123631375245145,
            "count": 0
           },
           {
            "bin_start": 0.022123631375245145,
            "bin_end": 0.026221842840735397,
            "count": 0
           },
           {
            "bin_start": 0.026221842840735397,
            "bin_end": 0.030320054306225648,
            "count": 0
           },
           {
            "bin_start": 0.030320054306225648,
            "bin_end": 0.034418265771715896,
            "count": 0
           },
           {
            "bin_start": 0.034418265771715896,
            "bin_end": 0.038516477237206144,
            "count": 0
           },
           {
            "bin_start": 0.038516477237206144,
            "bin_end": 0.0426146887026964,
            "count": 1
           }
          ]
         }
        },
        {
         "name": "3.2",
         "dtype": "float64",
         "stats": {
          "unique_count": 5,
          "nan_count": 0,
          "min": "0.0012756714797412",
          "max": "0.0444435127120495",
          "histogram": [
           {
            "bin_start": 0.0012756714797412,
            "bin_end": 0.0055924556029720305,
            "count": 2
           },
           {
            "bin_start": 0.0055924556029720305,
            "bin_end": 0.009909239726202862,
            "count": 2
           },
           {
            "bin_start": 0.009909239726202862,
            "bin_end": 0.014226023849433693,
            "count": 0
           },
           {
            "bin_start": 0.014226023849433693,
            "bin_end": 0.018542807972664523,
            "count": 0
           },
           {
            "bin_start": 0.018542807972664523,
            "bin_end": 0.022859592095895356,
            "count": 0
           },
           {
            "bin_start": 0.022859592095895356,
            "bin_end": 0.027176376219126185,
            "count": 0
           },
           {
            "bin_start": 0.027176376219126185,
            "bin_end": 0.03149316034235701,
            "count": 0
           },
           {
            "bin_start": 0.03149316034235701,
            "bin_end": 0.03580994446558784,
            "count": 0
           },
           {
            "bin_start": 0.03580994446558784,
            "bin_end": 0.040126728588818675,
            "count": 0
           },
           {
            "bin_start": 0.040126728588818675,
            "bin_end": 0.0444435127120495,
            "count": 1
           }
          ]
         }
        },
        {
         "name": "3.4",
         "dtype": "float64",
         "stats": {
          "unique_count": 5,
          "nan_count": 0,
          "min": "0.0011271252642582",
          "max": "0.0511211112384468",
          "histogram": [
           {
            "bin_start": 0.0011271252642582,
            "bin_end": 0.0061265238616770605,
            "count": 2
           },
           {
            "bin_start": 0.0061265238616770605,
            "bin_end": 0.011125922459095921,
            "count": 2
           },
           {
            "bin_start": 0.011125922459095921,
            "bin_end": 0.016125321056514784,
            "count": 0
           },
           {
            "bin_start": 0.016125321056514784,
            "bin_end": 0.021124719653933643,
            "count": 0
           },
           {
            "bin_start": 0.021124719653933643,
            "bin_end": 0.026124118251352503,
            "count": 0
           },
           {
            "bin_start": 0.026124118251352503,
            "bin_end": 0.031123516848771363,
            "count": 0
           },
           {
            "bin_start": 0.031123516848771363,
            "bin_end": 0.03612291544619022,
            "count": 0
           },
           {
            "bin_start": 0.03612291544619022,
            "bin_end": 0.04112231404360908,
            "count": 0
           },
           {
            "bin_start": 0.04112231404360908,
            "bin_end": 0.04612171264102794,
            "count": 0
           },
           {
            "bin_start": 0.04612171264102794,
            "bin_end": 0.0511211112384468,
            "count": 1
           }
          ]
         }
        },
        {
         "name": "3.5",
         "dtype": "float64",
         "stats": {
          "unique_count": 5,
          "nan_count": 0,
          "min": "0.0011784655502887",
          "max": "0.054151730566406",
          "histogram": [
           {
            "bin_start": 0.0011784655502887,
            "bin_end": 0.00647579205190043,
            "count": 2
           },
           {
            "bin_start": 0.00647579205190043,
            "bin_end": 0.01177311855351216,
            "count": 2
           },
           {
            "bin_start": 0.01177311855351216,
            "bin_end": 0.01707044505512389,
            "count": 0
           },
           {
            "bin_start": 0.01707044505512389,
            "bin_end": 0.02236777155673562,
            "count": 0
           },
           {
            "bin_start": 0.02236777155673562,
            "bin_end": 0.02766509805834735,
            "count": 0
           },
           {
            "bin_start": 0.02766509805834735,
            "bin_end": 0.03296242455995908,
            "count": 0
           },
           {
            "bin_start": 0.03296242455995908,
            "bin_end": 0.03825975106157081,
            "count": 0
           },
           {
            "bin_start": 0.03825975106157081,
            "bin_end": 0.04355707756318254,
            "count": 0
           },
           {
            "bin_start": 0.04355707756318254,
            "bin_end": 0.04885440406479427,
            "count": 0
           },
           {
            "bin_start": 0.04885440406479427,
            "bin_end": 0.054151730566406,
            "count": 1
           }
          ]
         }
        },
        {
         "name": "3.6",
         "dtype": "float64",
         "stats": {
          "unique_count": 5,
          "nan_count": 0,
          "min": "0.0011463253160123",
          "max": "0.0579899600915654",
          "histogram": [
           {
            "bin_start": 0.0011463253160123,
            "bin_end": 0.00683068879356761,
            "count": 2
           },
           {
            "bin_start": 0.00683068879356761,
            "bin_end": 0.01251505227112292,
            "count": 2
           },
           {
            "bin_start": 0.01251505227112292,
            "bin_end": 0.01819941574867823,
            "count": 0
           },
           {
            "bin_start": 0.01819941574867823,
            "bin_end": 0.02388377922623354,
            "count": 0
           },
           {
            "bin_start": 0.02388377922623354,
            "bin_end": 0.02956814270378885,
            "count": 0
           },
           {
            "bin_start": 0.02956814270378885,
            "bin_end": 0.035252506181344165,
            "count": 0
           },
           {
            "bin_start": 0.035252506181344165,
            "bin_end": 0.04093686965889947,
            "count": 0
           },
           {
            "bin_start": 0.04093686965889947,
            "bin_end": 0.04662123313645478,
            "count": 0
           },
           {
            "bin_start": 0.04662123313645478,
            "bin_end": 0.052305596614010096,
            "count": 0
           },
           {
            "bin_start": 0.052305596614010096,
            "bin_end": 0.0579899600915654,
            "count": 1
           }
          ]
         }
        },
        {
         "name": "3.8",
         "dtype": "float64",
         "stats": {
          "unique_count": 5,
          "nan_count": 0,
          "min": "0.0011379905386957",
          "max": "0.0578338082591286",
          "histogram": [
           {
            "bin_start": 0.0011379905386957,
            "bin_end": 0.0068075723107389905,
            "count": 2
           },
           {
            "bin_start": 0.0068075723107389905,
            "bin_end": 0.01247715408278228,
            "count": 2
           },
           {
            "bin_start": 0.01247715408278228,
            "bin_end": 0.018146735854825572,
            "count": 0
           },
           {
            "bin_start": 0.018146735854825572,
            "bin_end": 0.023816317626868862,
            "count": 0
           },
           {
            "bin_start": 0.023816317626868862,
            "bin_end": 0.029485899398912153,
            "count": 0
           },
           {
            "bin_start": 0.029485899398912153,
            "bin_end": 0.03515548117095544,
            "count": 0
           },
           {
            "bin_start": 0.03515548117095544,
            "bin_end": 0.04082506294299873,
            "count": 0
           },
           {
            "bin_start": 0.04082506294299873,
            "bin_end": 0.04649464471504202,
            "count": 0
           },
           {
            "bin_start": 0.04649464471504202,
            "bin_end": 0.05216422648708531,
            "count": 0
           },
           {
            "bin_start": 0.05216422648708531,
            "bin_end": 0.0578338082591286,
            "count": 1
           }
          ]
         }
        },
        {
         "name": "4.0",
         "dtype": "float64",
         "stats": {
          "unique_count": 5,
          "nan_count": 0,
          "min": "0.0010929795730711",
          "max": "0.0479935220444683",
          "histogram": [
           {
            "bin_start": 0.0010929795730711,
            "bin_end": 0.00578303382021082,
            "count": 2
           },
           {
            "bin_start": 0.00578303382021082,
            "bin_end": 0.01047308806735054,
            "count": 1
           },
           {
            "bin_start": 0.01047308806735054,
            "bin_end": 0.01516314231449026,
            "count": 1
           },
           {
            "bin_start": 0.01516314231449026,
            "bin_end": 0.01985319656162998,
            "count": 0
           },
           {
            "bin_start": 0.01985319656162998,
            "bin_end": 0.0245432508087697,
            "count": 0
           },
           {
            "bin_start": 0.0245432508087697,
            "bin_end": 0.029233305055909417,
            "count": 0
           },
           {
            "bin_start": 0.029233305055909417,
            "bin_end": 0.03392335930304914,
            "count": 0
           },
           {
            "bin_start": 0.03392335930304914,
            "bin_end": 0.03861341355018886,
            "count": 0
           },
           {
            "bin_start": 0.03861341355018886,
            "bin_end": 0.043303467797328576,
            "count": 0
           },
           {
            "bin_start": 0.043303467797328576,
            "bin_end": 0.0479935220444683,
            "count": 1
           }
          ]
         }
        },
        {
         "name": "4.2",
         "dtype": "float64",
         "stats": {
          "unique_count": 5,
          "nan_count": 0,
          "min": "0.0008993521481322",
          "max": "0.0428524938786049",
          "histogram": [
           {
            "bin_start": 0.0008993521481322,
            "bin_end": 0.0050946663211794705,
            "count": 2
           },
           {
            "bin_start": 0.0050946663211794705,
            "bin_end": 0.009289980494226741,
            "count": 1
           },
           {
            "bin_start": 0.009289980494226741,
            "bin_end": 0.013485294667274012,
            "count": 1
           },
           {
            "bin_start": 0.013485294667274012,
            "bin_end": 0.017680608840321282,
            "count": 0
           },
           {
            "bin_start": 0.017680608840321282,
            "bin_end": 0.02187592301336855,
            "count": 0
           },
           {
            "bin_start": 0.02187592301336855,
            "bin_end": 0.026071237186415824,
            "count": 0
           },
           {
            "bin_start": 0.026071237186415824,
            "bin_end": 0.030266551359463094,
            "count": 0
           },
           {
            "bin_start": 0.030266551359463094,
            "bin_end": 0.03446186553251036,
            "count": 0
           },
           {
            "bin_start": 0.03446186553251036,
            "bin_end": 0.03865717970555763,
            "count": 0
           },
           {
            "bin_start": 0.03865717970555763,
            "bin_end": 0.0428524938786049,
            "count": 1
           }
          ]
         }
        },
        {
         "name": "4.4",
         "dtype": "float64",
         "stats": {
          "unique_count": 5,
          "nan_count": 0,
          "min": "0.0007813409634336",
          "max": "0.0384211360039731",
          "histogram": [
           {
            "bin_start": 0.0007813409634336,
            "bin_end": 0.00454532046748755,
            "count": 2
           },
           {
            "bin_start": 0.00454532046748755,
            "bin_end": 0.0083092999715415,
            "count": 1
           },
           {
            "bin_start": 0.0083092999715415,
            "bin_end": 0.01207327947559545,
            "count": 1
           },
           {
            "bin_start": 0.01207327947559545,
            "bin_end": 0.0158372589796494,
            "count": 0
           },
           {
            "bin_start": 0.0158372589796494,
            "bin_end": 0.019601238483703348,
            "count": 0
           },
           {
            "bin_start": 0.019601238483703348,
            "bin_end": 0.023365217987757297,
            "count": 0
           },
           {
            "bin_start": 0.023365217987757297,
            "bin_end": 0.02712919749181125,
            "count": 0
           },
           {
            "bin_start": 0.02712919749181125,
            "bin_end": 0.030893176995865197,
            "count": 0
           },
           {
            "bin_start": 0.030893176995865197,
            "bin_end": 0.03465715649991915,
            "count": 0
           },
           {
            "bin_start": 0.03465715649991915,
            "bin_end": 0.0384211360039731,
            "count": 1
           }
          ]
         }
        },
        {
         "name": "4.6",
         "dtype": "float64",
         "stats": {
          "unique_count": 5,
          "nan_count": 0,
          "min": "0.0006308246379742",
          "max": "0.0329058431083157",
          "histogram": [
           {
            "bin_start": 0.0006308246379742,
            "bin_end": 0.00385832648500835,
            "count": 2
           },
           {
            "bin_start": 0.00385832648500835,
            "bin_end": 0.007085828332042499,
            "count": 1
           },
           {
            "bin_start": 0.007085828332042499,
            "bin_end": 0.010313330179076648,
            "count": 0
           },
           {
            "bin_start": 0.010313330179076648,
            "bin_end": 0.013540832026110798,
            "count": 1
           },
           {
            "bin_start": 0.013540832026110798,
            "bin_end": 0.01676833387314495,
            "count": 0
           },
           {
            "bin_start": 0.01676833387314495,
            "bin_end": 0.019995835720179097,
            "count": 0
           },
           {
            "bin_start": 0.019995835720179097,
            "bin_end": 0.02322333756721325,
            "count": 0
           },
           {
            "bin_start": 0.02322333756721325,
            "bin_end": 0.026450839414247397,
            "count": 0
           },
           {
            "bin_start": 0.026450839414247397,
            "bin_end": 0.029678341261281545,
            "count": 0
           },
           {
            "bin_start": 0.029678341261281545,
            "bin_end": 0.0329058431083157,
            "count": 1
           }
          ]
         }
        },
        {
         "name": "4.8",
         "dtype": "float64",
         "stats": {
          "unique_count": 5,
          "nan_count": 0,
          "min": "0.0006058931258263",
          "max": "0.0280703079884803",
          "histogram": [
           {
            "bin_start": 0.0006058931258263,
            "bin_end": 0.0033523346120917,
            "count": 2
           },
           {
            "bin_start": 0.0033523346120917,
            "bin_end": 0.0060987760983571004,
            "count": 1
           },
           {
            "bin_start": 0.0060987760983571004,
            "bin_end": 0.0088452175846225,
            "count": 0
           },
           {
            "bin_start": 0.0088452175846225,
            "bin_end": 0.0115916590708879,
            "count": 1
           },
           {
            "bin_start": 0.0115916590708879,
            "bin_end": 0.0143381005571533,
            "count": 0
           },
           {
            "bin_start": 0.0143381005571533,
            "bin_end": 0.0170845420434187,
            "count": 0
           },
           {
            "bin_start": 0.0170845420434187,
            "bin_end": 0.019830983529684102,
            "count": 0
           },
           {
            "bin_start": 0.019830983529684102,
            "bin_end": 0.0225774250159495,
            "count": 0
           },
           {
            "bin_start": 0.0225774250159495,
            "bin_end": 0.0253238665022149,
            "count": 0
           },
           {
            "bin_start": 0.0253238665022149,
            "bin_end": 0.0280703079884803,
            "count": 1
           }
          ]
         }
        },
        {
         "name": "5.0",
         "dtype": "float64",
         "stats": {
          "unique_count": 5,
          "nan_count": 0,
          "min": "0.0006287300569184",
          "max": "0.0254263763430869",
          "histogram": [
           {
            "bin_start": 0.0006287300569184,
            "bin_end": 0.00310849468553525,
            "count": 2
           },
           {
            "bin_start": 0.00310849468553525,
            "bin_end": 0.005588259314152099,
            "count": 1
           },
           {
            "bin_start": 0.005588259314152099,
            "bin_end": 0.008068023942768949,
            "count": 1
           },
           {
            "bin_start": 0.008068023942768949,
            "bin_end": 0.010547788571385799,
            "count": 0
           },
           {
            "bin_start": 0.010547788571385799,
            "bin_end": 0.013027553200002649,
            "count": 0
           },
           {
            "bin_start": 0.013027553200002649,
            "bin_end": 0.015507317828619497,
            "count": 0
           },
           {
            "bin_start": 0.015507317828619497,
            "bin_end": 0.01798708245723635,
            "count": 0
           },
           {
            "bin_start": 0.01798708245723635,
            "bin_end": 0.0204668470858532,
            "count": 0
           },
           {
            "bin_start": 0.0204668470858532,
            "bin_end": 0.022946611714470048,
            "count": 0
           },
           {
            "bin_start": 0.022946611714470048,
            "bin_end": 0.0254263763430869,
            "count": 1
           }
          ]
         }
        },
        {
         "name": "5.5",
         "dtype": "float64",
         "stats": {
          "unique_count": 5,
          "nan_count": 0,
          "min": "0.0004856927156904",
          "max": "0.0261067732922177",
          "histogram": [
           {
            "bin_start": 0.0004856927156904,
            "bin_end": 0.0030478007733431302,
            "count": 2
           },
           {
            "bin_start": 0.0030478007733431302,
            "bin_end": 0.005609908830995861,
            "count": 1
           },
           {
            "bin_start": 0.005609908830995861,
            "bin_end": 0.008172016888648591,
            "count": 1
           },
           {
            "bin_start": 0.008172016888648591,
            "bin_end": 0.010734124946301321,
            "count": 0
           },
           {
            "bin_start": 0.010734124946301321,
            "bin_end": 0.013296233003954052,
            "count": 0
           },
           {
            "bin_start": 0.013296233003954052,
            "bin_end": 0.01585834106160678,
            "count": 0
           },
           {
            "bin_start": 0.01585834106160678,
            "bin_end": 0.01842044911925951,
            "count": 0
           },
           {
            "bin_start": 0.01842044911925951,
            "bin_end": 0.02098255717691224,
            "count": 0
           },
           {
            "bin_start": 0.02098255717691224,
            "bin_end": 0.02354466523456497,
            "count": 0
           },
           {
            "bin_start": 0.02354466523456497,
            "bin_end": 0.0261067732922177,
            "count": 1
           }
          ]
         }
        },
        {
         "name": "6.0",
         "dtype": "float64",
         "stats": {
          "unique_count": 5,
          "nan_count": 0,
          "min": "0.0003886481238679",
          "max": "0.0318444532424868",
          "histogram": [
           {
            "bin_start": 0.0003886481238679,
            "bin_end": 0.0035342286357297904,
            "count": 2
           },
           {
            "bin_start": 0.0035342286357297904,
            "bin_end": 0.00667980914759168,
            "count": 1
           },
           {
            "bin_start": 0.00667980914759168,
            "bin_end": 0.009825389659453572,
            "count": 1
           },
           {
            "bin_start": 0.009825389659453572,
            "bin_end": 0.012970970171315462,
            "count": 0
           },
           {
            "bin_start": 0.012970970171315462,
            "bin_end": 0.016116550683177352,
            "count": 0
           },
           {
            "bin_start": 0.016116550683177352,
            "bin_end": 0.019262131195039243,
            "count": 0
           },
           {
            "bin_start": 0.019262131195039243,
            "bin_end": 0.02240771170690113,
            "count": 0
           },
           {
            "bin_start": 0.02240771170690113,
            "bin_end": 0.025553292218763023,
            "count": 0
           },
           {
            "bin_start": 0.025553292218763023,
            "bin_end": 0.028698872730624915,
            "count": 0
           },
           {
            "bin_start": 0.028698872730624915,
            "bin_end": 0.0318444532424868,
            "count": 1
           }
          ]
         }
        },
        {
         "name": "6.5",
         "dtype": "float64",
         "stats": {
          "unique_count": 5,
          "nan_count": 0,
          "min": "0.0003674086209486",
          "max": "0.0294566530741034",
          "histogram": [
           {
            "bin_start": 0.0003674086209486,
            "bin_end": 0.00327633306626408,
            "count": 2
           },
           {
            "bin_start": 0.00327633306626408,
            "bin_end": 0.00618525751157956,
            "count": 1
           },
           {
            "bin_start": 0.00618525751157956,
            "bin_end": 0.00909418195689504,
            "count": 1
           },
           {
            "bin_start": 0.00909418195689504,
            "bin_end": 0.01200310640221052,
            "count": 0
           },
           {
            "bin_start": 0.01200310640221052,
            "bin_end": 0.014912030847525999,
            "count": 0
           },
           {
            "bin_start": 0.014912030847525999,
            "bin_end": 0.017820955292841483,
            "count": 0
           },
           {
            "bin_start": 0.017820955292841483,
            "bin_end": 0.020729879738156962,
            "count": 0
           },
           {
            "bin_start": 0.020729879738156962,
            "bin_end": 0.02363880418347244,
            "count": 0
           },
           {
            "bin_start": 0.02363880418347244,
            "bin_end": 0.02654772862878792,
            "count": 0
           },
           {
            "bin_start": 0.02654772862878792,
            "bin_end": 0.0294566530741034,
            "count": 1
           }
          ]
         }
        },
        {
         "name": "7.0",
         "dtype": "float64",
         "stats": {
          "unique_count": 5,
          "nan_count": 0,
          "min": "0.0003155819810195",
          "max": "0.0242088341857304",
          "histogram": [
           {
            "bin_start": 0.0003155819810195,
            "bin_end": 0.0027049072014905897,
            "count": 2
           },
           {
            "bin_start": 0.0027049072014905897,
            "bin_end": 0.005094232421961679,
            "count": 1
           },
           {
            "bin_start": 0.005094232421961679,
            "bin_end": 0.0074835576424327685,
            "count": 0
           },
           {
            "bin_start": 0.0074835576424327685,
            "bin_end": 0.009872882862903859,
            "count": 1
           },
           {
            "bin_start": 0.009872882862903859,
            "bin_end": 0.01226220808337495,
            "count": 0
           },
           {
            "bin_start": 0.01226220808337495,
            "bin_end": 0.014651533303846038,
            "count": 0
           },
           {
            "bin_start": 0.014651533303846038,
            "bin_end": 0.017040858524317127,
            "count": 0
           },
           {
            "bin_start": 0.017040858524317127,
            "bin_end": 0.019430183744788217,
            "count": 0
           },
           {
            "bin_start": 0.019430183744788217,
            "bin_end": 0.021819508965259308,
            "count": 0
           },
           {
            "bin_start": 0.021819508965259308,
            "bin_end": 0.0242088341857304,
            "count": 1
           }
          ]
         }
        },
        {
         "name": "7.5",
         "dtype": "float64",
         "stats": {
          "unique_count": 5,
          "nan_count": 0,
          "min": "0.0002621690813361",
          "max": "0.0196639698193984",
          "histogram": [
           {
            "bin_start": 0.0002621690813361,
            "bin_end": 0.0022023491551423297,
            "count": 2
           },
           {
            "bin_start": 0.0022023491551423297,
            "bin_end": 0.00414252922894856,
            "count": 1
           },
           {
            "bin_start": 0.00414252922894856,
            "bin_end": 0.0060827093027547895,
            "count": 0
           },
           {
            "bin_start": 0.0060827093027547895,
            "bin_end": 0.00802288937656102,
            "count": 1
           },
           {
            "bin_start": 0.00802288937656102,
            "bin_end": 0.00996306945036725,
            "count": 0
           },
           {
            "bin_start": 0.00996306945036725,
            "bin_end": 0.01190324952417348,
            "count": 0
           },
           {
            "bin_start": 0.01190324952417348,
            "bin_end": 0.01384342959797971,
            "count": 0
           },
           {
            "bin_start": 0.01384342959797971,
            "bin_end": 0.01578360967178594,
            "count": 0
           },
           {
            "bin_start": 0.01578360967178594,
            "bin_end": 0.01772378974559217,
            "count": 0
           },
           {
            "bin_start": 0.01772378974559217,
            "bin_end": 0.0196639698193984,
            "count": 1
           }
          ]
         }
        },
        {
         "name": "8.0",
         "dtype": "float64",
         "stats": {
          "unique_count": 5,
          "nan_count": 0,
          "min": "0.0002252882034966",
          "max": "0.0159156771383034",
          "histogram": [
           {
            "bin_start": 0.0002252882034966,
            "bin_end": 0.00179432709697728,
            "count": 2
           },
           {
            "bin_start": 0.00179432709697728,
            "bin_end": 0.00336336599045796,
            "count": 1
           },
           {
            "bin_start": 0.00336336599045796,
            "bin_end": 0.004932404883938641,
            "count": 0
           },
           {
            "bin_start": 0.004932404883938641,
            "bin_end": 0.006501443777419321,
            "count": 1
           },
           {
            "bin_start": 0.006501443777419321,
            "bin_end": 0.0080704826709,
            "count": 0
           },
           {
            "bin_start": 0.0080704826709,
            "bin_end": 0.009639521564380681,
            "count": 0
           },
           {
            "bin_start": 0.009639521564380681,
            "bin_end": 0.011208560457861361,
            "count": 0
           },
           {
            "bin_start": 0.011208560457861361,
            "bin_end": 0.012777599351342041,
            "count": 0
           },
           {
            "bin_start": 0.012777599351342041,
            "bin_end": 0.014346638244822721,
            "count": 0
           },
           {
            "bin_start": 0.014346638244822721,
            "bin_end": 0.0159156771383034,
            "count": 1
           }
          ]
         }
        },
        {
         "name": "8.5",
         "dtype": "float64",
         "stats": {
          "unique_count": 5,
          "nan_count": 0,
          "min": "0.0001919302988534",
          "max": "0.0132245968310268",
          "histogram": [
           {
            "bin_start": 0.0001919302988534,
            "bin_end": 0.00149519695207074,
            "count": 2
           },
           {
            "bin_start": 0.00149519695207074,
            "bin_end": 0.00279846360528808,
            "count": 1
           },
           {
            "bin_start": 0.00279846360528808,
            "bin_end": 0.00410173025850542,
            "count": 1
           },
           {
            "bin_start": 0.00410173025850542,
            "bin_end": 0.00540499691172276,
            "count": 0
           },
           {
            "bin_start": 0.00540499691172276,
            "bin_end": 0.006708263564940101,
            "count": 0
           },
           {
            "bin_start": 0.006708263564940101,
            "bin_end": 0.00801153021815744,
            "count": 0
           },
           {
            "bin_start": 0.00801153021815744,
            "bin_end": 0.00931479687137478,
            "count": 0
           },
           {
            "bin_start": 0.00931479687137478,
            "bin_end": 0.01061806352459212,
            "count": 0
           },
           {
            "bin_start": 0.01061806352459212,
            "bin_end": 0.01192133017780946,
            "count": 0
           },
           {
            "bin_start": 0.01192133017780946,
            "bin_end": 0.0132245968310268,
            "count": 1
           }
          ]
         }
        },
        {
         "name": "9.0",
         "dtype": "float64",
         "stats": {
          "unique_count": 5,
          "nan_count": 0,
          "min": "0.0001632728271178",
          "max": "0.0122257277228691",
          "histogram": [
           {
            "bin_start": 0.0001632728271178,
            "bin_end": 0.0013695183166929298,
            "count": 2
           },
           {
            "bin_start": 0.0013695183166929298,
            "bin_end": 0.0025757638062680597,
            "count": 1
           },
           {
            "bin_start": 0.0025757638062680597,
            "bin_end": 0.0037820092958431896,
            "count": 1
           },
           {
            "bin_start": 0.0037820092958431896,
            "bin_end": 0.00498825478541832,
            "count": 0
           },
           {
            "bin_start": 0.00498825478541832,
            "bin_end": 0.00619450027499345,
            "count": 0
           },
           {
            "bin_start": 0.00619450027499345,
            "bin_end": 0.00740074576456858,
            "count": 0
           },
           {
            "bin_start": 0.00740074576456858,
            "bin_end": 0.00860699125414371,
            "count": 0
           },
           {
            "bin_start": 0.00860699125414371,
            "bin_end": 0.00981323674371884,
            "count": 0
           },
           {
            "bin_start": 0.00981323674371884,
            "bin_end": 0.01101948223329397,
            "count": 0
           },
           {
            "bin_start": 0.01101948223329397,
            "bin_end": 0.0122257277228691,
            "count": 1
           }
          ]
         }
        },
        {
         "name": "9.5",
         "dtype": "float64",
         "stats": {
          "unique_count": 5,
          "nan_count": 0,
          "min": "0.0001393512699247",
          "max": "0.0119043609349882",
          "histogram": [
           {
            "bin_start": 0.0001393512699247,
            "bin_end": 0.00131585223643105,
            "count": 2
           },
           {
            "bin_start": 0.00131585223643105,
            "bin_end": 0.0024923532029374,
            "count": 1
           },
           {
            "bin_start": 0.0024923532029374,
            "bin_end": 0.00366885416944375,
            "count": 1
           },
           {
            "bin_start": 0.00366885416944375,
            "bin_end": 0.0048453551359501,
            "count": 0
           },
           {
            "bin_start": 0.0048453551359501,
            "bin_end": 0.00602185610245645,
            "count": 0
           },
           {
            "bin_start": 0.00602185610245645,
            "bin_end": 0.0071983570689628,
            "count": 0
           },
           {
            "bin_start": 0.0071983570689628,
            "bin_end": 0.00837485803546915,
            "count": 0
           },
           {
            "bin_start": 0.00837485803546915,
            "bin_end": 0.0095513590019755,
            "count": 0
           },
           {
            "bin_start": 0.0095513590019755,
            "bin_end": 0.01072785996848185,
            "count": 0
           },
           {
            "bin_start": 0.01072785996848185,
            "bin_end": 0.0119043609349882,
            "count": 1
           }
          ]
         }
        },
        {
         "name": "10.0",
         "dtype": "float64",
         "stats": {
          "unique_count": 5,
          "nan_count": 0,
          "min": "0.0001244586999683",
          "max": "0.0116964473052811",
          "histogram": [
           {
            "bin_start": 0.0001244586999683,
            "bin_end": 0.00128165756049958,
            "count": 2
           },
           {
            "bin_start": 0.00128165756049958,
            "bin_end": 0.00243885642103086,
            "count": 2
           },
           {
            "bin_start": 0.00243885642103086,
            "bin_end": 0.0035960552815621403,
            "count": 0
           },
           {
            "bin_start": 0.0035960552815621403,
            "bin_end": 0.0047532541420934205,
            "count": 0
           },
           {
            "bin_start": 0.0047532541420934205,
            "bin_end": 0.0059104530026247,
            "count": 0
           },
           {
            "bin_start": 0.0059104530026247,
            "bin_end": 0.007067651863155981,
            "count": 0
           },
           {
            "bin_start": 0.007067651863155981,
            "bin_end": 0.00822485072368726,
            "count": 0
           },
           {
            "bin_start": 0.00822485072368726,
            "bin_end": 0.00938204958421854,
            "count": 0
           },
           {
            "bin_start": 0.00938204958421854,
            "bin_end": 0.01053924844474982,
            "count": 0
           },
           {
            "bin_start": 0.01053924844474982,
            "bin_end": 0.0116964473052811,
            "count": 1
           }
          ]
         }
        },
        {
         "name": "sat1_col",
         "dtype": "float64",
         "stats": {
          "unique_count": 5,
          "nan_count": 0,
          "min": "0.78",
          "max": "1.97",
          "histogram": [
           {
            "bin_start": 0.78,
            "bin_end": 0.899,
            "count": 1
           },
           {
            "bin_start": 0.899,
            "bin_end": 1.018,
            "count": 0
           },
           {
            "bin_start": 1.018,
            "bin_end": 1.137,
            "count": 0
           },
           {
            "bin_start": 1.137,
            "bin_end": 1.256,
            "count": 0
           },
           {
            "bin_start": 1.256,
            "bin_end": 1.375,
            "count": 0
           },
           {
            "bin_start": 1.375,
            "bin_end": 1.494,
            "count": 2
           },
           {
            "bin_start": 1.494,
            "bin_end": 1.613,
            "count": 0
           },
           {
            "bin_start": 1.613,
            "bin_end": 1.732,
            "count": 0
           },
           {
            "bin_start": 1.732,
            "bin_end": 1.851,
            "count": 0
           },
           {
            "bin_start": 1.851,
            "bin_end": 1.97,
            "count": 2
           }
          ]
         }
        },
        {
         "name": "_deepnote_index_column",
         "dtype": "int64"
        }
       ],
       "rows_top": [
        {
         "0.01": 0.0110748936972309,
         "0.02": 0.0111066385955081,
         "0.022": 0.0111315214623544,
         "0.025": 0.0111755079685477,
         "0.029": 0.0112739158812656,
         "0.03": 0.0112882122176129,
         "0.032": 0.0113406955574226,
         "0.035": 0.0113771058191323,
         "0.036": 0.0114219158560199,
         "0.04": 0.0115668000802074,
         "0.042": 0.0116103909221113,
         "0.044": 0.0116105233608147,
         "0.045": 0.0115951439267724,
         "0.046": 0.011602752485571,
         "0.048": 0.0116251616498202,
         "0.05": 0.0116251397318392,
         "0.055": 0.0114143145065411,
         "0.06": 0.0115299400581958,
         "0.065": 0.0119361467335832,
         "0.067": 0.0120529480839139,
         "0.07": 0.0120753084752095,
         "0.075": 0.0128133130463407,
         "0.08": 0.0138782569299738,
         "0.085": 0.0146614694932001,
         "0.09": 0.0154042593357484,
         "0.095": 0.0159003997129265,
         "0.1": 0.016896119615438,
         "0.11": 0.0193447727660188,
         "0.12": 0.0173416548805842,
         "0.13": 0.0174380587747489,
         "0.133": 0.0174929301511869,
         "0.14": 0.0200399027056096,
         "0.15": 0.0207123679481881,
         "0.16": 0.0264098333707847,
         "0.17": 0.0246994884787201,
         "0.18": 0.0257024399721512,
         "0.19": 0.0292397500504301,
         "0.2": 0.0314222446662522,
         "0.22": 0.0295839843705958,
         "0.24": 0.0318532560038371,
         "0.25": 0.0337287636429722,
         "0.26": 0.0339352684315561,
         "0.28": 0.0337859546530171,
         "0.29": 0.0371489639157852,
         "0.3": 0.0420185873306138,
         "0.32": 0.0387438311504232,
         "0.34": 0.0348538762227967,
         "0.35": 0.0339840009623911,
         "0.36": 0.034297785159998,
         "0.38": 0.0376600595566501,
         "0.4": 0.0379038947570124,
         "0.42": 0.0351457720222904,
         "0.44": 0.0344685156933861,
         "0.45": 0.0372314793283874,
         "0.46": 0.0403070741195189,
         "0.48": 0.0413222757254667,
         "0.5": 0.041357893949437,
         "0.55": 0.0434410709574006,
         "0.6": 0.0408199168871767,
         "0.65": 0.0342845914947339,
         "0.667": 0.0315202924622629,
         "0.7": 0.0249350237005833,
         "0.75": 0.0192988295851471,
         "0.8": 0.0157371239653718,
         "0.85": 0.0105862586429288,
         "0.9": 0.0097294762278562,
         "0.95": 0.0099639446323876,
         "1.0": 0.0111496776925079,
         "1.1": 0.0101522132750125,
         "1.2": 0.0083410757170176,
         "1.3": 0.0089955903980091,
         "1.4": 0.00930654905487,
         "1.5": 0.0081424423168048,
         "1.6": 0.0082271748897881,
         "1.7": 0.0077395824622439,
         "1.8": 0.0062971382073653,
         "1.9": 0.0050782637351141,
         "2.0": 0.0047043622053295,
         "2.2": 0.0042504026908246,
         "2.4": 0.0047884200952746,
         "2.5": 0.0049403255727654,
         "2.6": 0.0048281244542431,
         "2.8": 0.004151675582455,
         "3.0": 0.0032726181867857,
         "3.2": 0.0026240406495894,
         "3.4": 0.0022375177165521,
         "3.5": 0.002094064910655,
         "3.6": 0.0018857845941789,
         "3.8": 0.0015490509774271,
         "4.0": 0.001283461777371,
         "4.2": 0.0010315828805334,
         "4.4": 0.0008063308766667,
         "4.6": 0.0006308246379742,
         "4.8": 0.0006058931258263,
         "5.0": 0.0006287300569184,
         "5.5": 0.0008127119968469,
         "6.0": 0.0007697981270331,
         "6.5": 0.0006482798573385,
         "7.0": 0.0004719296374629,
         "7.5": 0.0003274108663506,
         "8.0": 0.0002627016223968,
         "8.5": 0.0002465247723556,
         "9.0": 0.0002234134579071,
         "9.5": 0.0002056054199241,
         "10.0": 0.0001903209048104,
         "sat1_col": 0.78,
         "_deepnote_index_column": 0
        },
        {
         "0.01": 0.1553801298694446,
         "0.02": 0.1530504290117747,
         "0.022": 0.1545904842930367,
         "0.025": 0.1562812633744469,
         "0.029": 0.1610381382069531,
         "0.03": 0.1601714667000794,
         "0.032": 0.1597653237327585,
         "0.035": 0.1661644594739884,
         "0.036": 0.1736431924800949,
         "0.04": 0.1747084995978276,
         "0.042": 0.1917931591515732,
         "0.044": 0.2105029373425809,
         "0.045": 0.2223478018759573,
         "0.046": 0.2306712093617889,
         "0.048": 0.2285101195124787,
         "0.05": 0.2236273618245118,
         "0.055": 0.2671673767872911,
         "0.06": 0.320193617959872,
         "0.065": 0.4033537416975923,
         "0.067": 0.418119826016042,
         "0.07": 0.4607881996377441,
         "0.075": 0.7201024958938483,
         "0.08": 0.7771735836371358,
         "0.085": 0.5285879736643574,
         "0.09": 0.4869595648234077,
         "0.095": 0.4248690477835966,
         "0.1": 0.4592813958897901,
         "0.11": 0.3673170909765867,
         "0.12": 0.3082355792074275,
         "0.13": 0.2958014496983495,
         "0.133": 0.332975181774284,
         "0.14": 0.3727616605473265,
         "0.15": 0.4098066358758644,
         "0.16": 0.438455663014216,
         "0.17": 0.4355332679136487,
         "0.18": 0.4166957069172091,
         "0.19": 0.3503595487980238,
         "0.2": 0.2507278385231296,
         "0.22": 0.2090859564996622,
         "0.24": 0.1923491179802387,
         "0.25": 0.16936844871423,
         "0.26": 0.147096925512237,
         "0.28": 0.1193179701895206,
         "0.29": 0.1158057864490509,
         "0.3": 0.1170561336550183,
         "0.32": 0.1108197393825456,
         "0.34": 0.1320730407247498,
         "0.35": 0.1248890584175599,
         "0.36": 0.1140139962745573,
         "0.38": 0.0957741803583803,
         "0.4": 0.0803919245109372,
         "0.42": 0.0706359129921519,
         "0.44": 0.0706755491291763,
         "0.45": 0.0702764091970265,
         "0.46": 0.0709482887781761,
         "0.48": 0.0726678101125864,
         "0.5": 0.0721360408972341,
         "0.55": 0.0519539565450126,
         "0.6": 0.0552327856196202,
         "0.65": 0.0476579234825349,
         "0.667": 0.047186913038782,
         "0.7": 0.0455232700452454,
         "0.75": 0.0444583589812307,
         "0.8": 0.0443426751924249,
         "0.85": 0.0440493425126346,
         "0.9": 0.041934282534623,
         "0.95": 0.0392327174799348,
         "1.0": 0.0415797732408563,
         "1.1": 0.0401609730082166,
         "1.2": 0.0351615960941388,
         "1.3": 0.0298526395365752,
         "1.4": 0.0251002585430248,
         "1.5": 0.0214819284684496,
         "1.6": 0.0185732476848734,
         "1.7": 0.0167628344535435,
         "1.8": 0.01564959080827,
         "1.9": 0.0141199756734683,
         "2.0": 0.0126935721835262,
         "2.2": 0.01023760507231,
         "2.4": 0.0080613437941444,
         "2.5": 0.0076069775653064,
         "2.6": 0.0076364415544746,
         "2.8": 0.0105185021461014,
         "3.0": 0.0107574925922985,
         "3.2": 0.0098017454889168,
         "3.4": 0.0095147532900499,
         "3.5": 0.0090857973720096,
         "3.6": 0.0085575377937449,
         "3.8": 0.0075595516953909,
         "4.0": 0.006558967754348,
         "4.2": 0.0060974574753658,
         "4.4": 0.0059356543977719,
         "4.6": 0.0057538538431775,
         "4.8": 0.005681184098426,
         "5.0": 0.0053862223417967,
         "5.5": 0.0052713207586685,
         "6.0": 0.0049322599089885,
         "6.5": 0.0042199935079378,
         "7.0": 0.0035899554730861,
         "7.5": 0.0031063542350346,
         "8.0": 0.0026407555220093,
         "8.5": 0.0023163886388411,
         "9.0": 0.0022254700181762,
         "9.5": 0.002106375652279,
         "10.0": 0.001997909774294,
         "sat1_col": 1.96,
         "_deepnote_index_column": 1
        },
        {
         "0.01": 0.0607742472246517,
         "0.02": 0.0607827239768009,
         "0.022": 0.060790215361197,
         "0.025": 0.0607953101224599,
         "0.029": 0.0607994911216228,
         "0.03": 0.0607997804368472,
         "0.032": 0.0608038560064087,
         "0.035": 0.0607938036006594,
         "0.036": 0.0607933025624931,
         "0.04": 0.0607980091370839,
         "0.042": 0.0608168425215063,
         "0.044": 0.0608294408230006,
         "0.045": 0.0608394431501228,
         "0.046": 0.0608516086406333,
         "0.048": 0.0608880160672139,
         "0.05": 0.0609183307411461,
         "0.055": 0.0608555639370787,
         "0.06": 0.0608755785354243,
         "0.065": 0.0608169042033579,
         "0.067": 0.0608567042183164,
         "0.07": 0.0608532460854392,
         "0.075": 0.0607453129068407,
         "0.08": 0.0612995533062232,
         "0.085": 0.0622408888016436,
         "0.09": 0.0629059635644357,
         "0.095": 0.063311690854441,
         "0.1": 0.0647301508749053,
         "0.11": 0.0672932410228404,
         "0.12": 0.0667688740735741,
         "0.13": 0.067806237417653,
         "0.133": 0.0648927652793212,
         "0.14": 0.0655361641648025,
         "0.15": 0.0683234759854683,
         "0.16": 0.0723535677530472,
         "0.17": 0.0708081918311286,
         "0.18": 0.0718035008621534,
         "0.19": 0.0649598179534403,
         "0.2": 0.064895793304364,
         "0.22": 0.0789088124011538,
         "0.24": 0.0847814163943321,
         "0.25": 0.0978244035848697,
         "0.26": 0.106613651048093,
         "0.28": 0.0934004409217711,
         "0.29": 0.0991895730552073,
         "0.3": 0.1015426765862111,
         "0.32": 0.0963943388373215,
         "0.34": 0.0982577127825357,
         "0.35": 0.1008675487718506,
         "0.36": 0.1109564767264237,
         "0.38": 0.1285081837633606,
         "0.4": 0.1410814499279081,
         "0.42": 0.1376563766003376,
         "0.44": 0.1143511631582949,
         "0.45": 0.1275610296636185,
         "0.46": 0.1420421227761111,
         "0.48": 0.1634918321749359,
         "0.5": 0.1635169644412949,
         "0.55": 0.1394601559383565,
         "0.6": 0.1429448754782555,
         "0.65": 0.1496835653061423,
         "0.667": 0.1566269101295458,
         "0.7": 0.167163644617717,
         "0.75": 0.1694018543058086,
         "0.8": 0.1950041539038788,
         "0.85": 0.1954903234709311,
         "0.9": 0.1695907533858265,
         "0.95": 0.1782017978994109,
         "1.0": 0.2041249779335343,
         "1.1": 0.2549451253333212,
         "1.2": 0.1965067796925538,
         "1.3": 0.1710519564927258,
         "1.4": 0.156909483619481,
         "1.5": 0.1023488426561226,
         "1.6": 0.0839728647708245,
         "1.7": 0.0877419190683105,
         "1.8": 0.0854536027884366,
         "1.9": 0.08662558184405,
         "2.0": 0.0739054114851457,
         "2.2": 0.0600391305911141,
         "2.4": 0.0524053252418629,
         "2.5": 0.0497897590972747,
         "2.6": 0.0465131334421483,
         "2.8": 0.0521349866105211,
         "3.0": 0.0426146887026964,
         "3.2": 0.0444435127120495,
         "3.4": 0.0511211112384468,
         "3.5": 0.054151730566406,
         "3.6": 0.0579899600915654,
         "3.8": 0.0578338082591286,
         "4.0": 0.0479935220444683,
         "4.2": 0.0428524938786049,
         "4.4": 0.0384211360039731,
         "4.6": 0.0329058431083157,
         "4.8": 0.0280703079884803,
         "5.0": 0.0254263763430869,
         "5.5": 0.0261067732922177,
         "6.0": 0.0318444532424868,
         "6.5": 0.0294566530741034,
         "7.0": 0.0242088341857304,
         "7.5": 0.0196639698193984,
         "8.0": 0.0159156771383034,
         "8.5": 0.0132245968310268,
         "9.0": 0.0122257277228691,
         "9.5": 0.0119043609349882,
         "10.0": 0.0116964473052811,
         "sat1_col": 1.39,
         "_deepnote_index_column": 2
        },
        {
         "0.01": 0.0160161390373322,
         "0.02": 0.0160880764232804,
         "0.022": 0.0161060279734468,
         "0.025": 0.0161347376498031,
         "0.029": 0.0161978515061311,
         "0.03": 0.0162183365213484,
         "0.032": 0.0162628645290624,
         "0.035": 0.0164014128624529,
         "0.036": 0.0164452684913987,
         "0.04": 0.0165954128721047,
         "0.042": 0.0166225342219799,
         "0.044": 0.01672374234637,
         "0.045": 0.0167399107164335,
         "0.046": 0.0167522005080288,
         "0.048": 0.0167838647224233,
         "0.05": 0.0168483101057186,
         "0.055": 0.016825304051379,
         "0.06": 0.0172843394402421,
         "0.065": 0.0181748916389542,
         "0.067": 0.0180881762396191,
         "0.07": 0.0177074394049516,
         "0.075": 0.0186696264980651,
         "0.08": 0.0200364871252694,
         "0.085": 0.0213954886652802,
         "0.09": 0.0224579066526883,
         "0.095": 0.0232598396356798,
         "0.1": 0.0222303640851655,
         "0.11": 0.0218104075027041,
         "0.12": 0.0257380154926209,
         "0.13": 0.0280523618102531,
         "0.133": 0.0263045344460896,
         "0.14": 0.027328074938625,
         "0.15": 0.0319180873835127,
         "0.16": 0.0375355677585784,
         "0.17": 0.0313246331363432,
         "0.18": 0.0337530191493142,
         "0.19": 0.041307758898774,
         "0.2": 0.0474901848549854,
         "0.22": 0.0403129198189567,
         "0.24": 0.045507664076229,
         "0.25": 0.0563364241936087,
         "0.26": 0.055429690043827,
         "0.28": 0.0545236287052447,
         "0.29": 0.0511168415617433,
         "0.3": 0.0465707013580594,
         "0.32": 0.0480597405691277,
         "0.34": 0.0509838178360491,
         "0.35": 0.047625447450233,
         "0.36": 0.0447204553099553,
         "0.38": 0.0474478523890209,
         "0.4": 0.0409096645715772,
         "0.42": 0.0371773896608162,
         "0.44": 0.0347659826191919,
         "0.45": 0.03486674555005,
         "0.46": 0.0356765881397172,
         "0.48": 0.034484632672688,
         "0.5": 0.0289664785260319,
         "0.55": 0.0311985783589428,
         "0.6": 0.0280005351528867,
         "0.65": 0.0249676397584693,
         "0.667": 0.0233693552139727,
         "0.7": 0.0201154119418267,
         "0.75": 0.0154615060549481,
         "0.8": 0.013310053806728,
         "0.85": 0.0108454285613588,
         "0.9": 0.0108017325237564,
         "0.95": 0.0092066150851285,
         "1.0": 0.0104780656449238,
         "1.1": 0.0083235584336483,
         "1.2": 0.0087543438042405,
         "1.3": 0.0101747659687363,
         "1.4": 0.0108595564468049,
         "1.5": 0.0103500321388506,
         "1.6": 0.0085929178806418,
         "1.7": 0.0074202093420768,
         "1.8": 0.0070285297190388,
         "1.9": 0.0062282442756622,
         "2.0": 0.005715528030409,
         "2.2": 0.0048772647027694,
         "2.4": 0.0041741492657614,
         "2.5": 0.0037340710000189,
         "2.6": 0.0032227828364094,
         "2.8": 0.0022320613258273,
         "3.0": 0.0016325740477939,
         "3.2": 0.0012756714797412,
         "3.4": 0.0011271252642582,
         "3.5": 0.0011784655502887,
         "3.6": 0.0011463253160123,
         "3.8": 0.0011379905386957,
         "4.0": 0.0010929795730711,
         "4.2": 0.0008993521481322,
         "4.4": 0.0007813409634336,
         "4.6": 0.0007679351690531,
         "4.8": 0.0007442735694843,
         "5.0": 0.0006932712816367,
         "5.5": 0.0004856927156904,
         "6.0": 0.0003886481238679,
         "6.5": 0.0003674086209486,
         "7.0": 0.0003155819810195,
         "7.5": 0.0002621690813361,
         "8.0": 0.0002252882034966,
         "8.5": 0.0001919302988534,
         "9.0": 0.0001632728271178,
         "9.5": 0.0001393512699247,
         "10.0": 0.0001244586999683,
         "sat1_col": 1.97,
         "_deepnote_index_column": 3
        },
        {
         "0.01": 0.0306318973685385,
         "0.02": 0.0306989172626288,
         "0.022": 0.0307244968020769,
         "0.025": 0.0307379687492832,
         "0.029": 0.0307853792203991,
         "0.03": 0.0308091494519874,
         "0.032": 0.0308109120188647,
         "0.035": 0.0308183244852732,
         "0.036": 0.0308557082296232,
         "0.04": 0.0310137287560835,
         "0.042": 0.0310661173048786,
         "0.044": 0.0310829177018333,
         "0.045": 0.0310863029069728,
         "0.046": 0.0310812380651463,
         "0.048": 0.0310228451778541,
         "0.05": 0.0309674928534723,
         "0.055": 0.0314105372890607,
         "0.06": 0.0316844878947155,
         "0.065": 0.0316479254614853,
         "0.067": 0.0315924283765694,
         "0.07": 0.0318145928459196,
         "0.075": 0.0317076759699844,
         "0.08": 0.031598747237255,
         "0.085": 0.0327686629907673,
         "0.09": 0.0342550454534904,
         "0.095": 0.0363341005259248,
         "0.1": 0.0384893262987015,
         "0.11": 0.0389220434110106,
         "0.12": 0.0443157983374604,
         "0.13": 0.0387503978533543,
         "0.133": 0.0392034894441233,
         "0.14": 0.0428713182580095,
         "0.15": 0.0475422426638632,
         "0.16": 0.0557632277524899,
         "0.17": 0.0533151836644841,
         "0.18": 0.0600288624500801,
         "0.19": 0.0731852896075769,
         "0.2": 0.0706998307324405,
         "0.22": 0.0706260590736498,
         "0.24": 0.0841476962304976,
         "0.25": 0.0824497691785194,
         "0.26": 0.0840760620008618,
         "0.28": 0.0806094678314023,
         "0.29": 0.0686961418405733,
         "0.3": 0.0659489814732055,
         "0.32": 0.06344611181531,
         "0.34": 0.0723725385155662,
         "0.35": 0.0794078667757299,
         "0.36": 0.0842725313666335,
         "0.38": 0.0860814131126165,
         "0.4": 0.0730613118769812,
         "0.42": 0.0583827676919694,
         "0.44": 0.058768230275525,
         "0.45": 0.0572521163613361,
         "0.46": 0.0579503125576192,
         "0.48": 0.0643492190082924,
         "0.5": 0.0736690554910936,
         "0.55": 0.0802353177082845,
         "0.6": 0.0969609068226436,
         "0.65": 0.0963834356112258,
         "0.667": 0.1117665707931989,
         "0.7": 0.108056020560344,
         "0.75": 0.0828814519880619,
         "0.8": 0.0648479025409369,
         "0.85": 0.0694341648876034,
         "0.9": 0.0571190340048987,
         "0.95": 0.0554186255237233,
         "1.0": 0.0581292526391254,
         "1.1": 0.0504971384117262,
         "1.2": 0.0542332792044613,
         "1.3": 0.0512526799502457,
         "1.4": 0.0449980754516657,
         "1.5": 0.0492047483989837,
         "1.6": 0.0486393542631818,
         "1.7": 0.0372119550972248,
         "1.8": 0.0253899421511593,
         "1.9": 0.0181758199422017,
         "2.0": 0.0154591270221605,
         "2.2": 0.0151366821969465,
         "2.4": 0.0128191199091732,
         "2.5": 0.0127684742083404,
         "2.6": 0.0125841834795865,
         "2.8": 0.0105452289596922,
         "3.0": 0.0071606168580129,
         "3.2": 0.0088238778398201,
         "3.4": 0.009484771115752,
         "3.5": 0.0095114438886782,
         "3.6": 0.0091394833519428,
         "3.8": 0.0114358225885282,
         "4.0": 0.0122801320766076,
         "4.2": 0.0119912518621797,
         "4.4": 0.0109800457675422,
         "4.6": 0.010650719262092,
         "4.8": 0.0096754792757353,
         "5.0": 0.0078924954780442,
         "5.5": 0.0070263415380379,
         "6.0": 0.0071075919918,
         "6.5": 0.0079511377137317,
         "7.0": 0.0079529159645006,
         "7.5": 0.0065373320767217,
         "8.0": 0.0051229217628157,
         "8.5": 0.0040940390714335,
         "9.0": 0.0033504456568709,
         "9.5": 0.0026378626770691,
         "10.0": 0.0022235698148399,
         "sat1_col": 1.43,
         "_deepnote_index_column": 4
        }
       ],
       "rows_bottom": null
      },
      "text/plain": "       0.01      0.02     0.022     0.025     0.029      0.03     0.032  \\\n0  0.011075  0.011107  0.011132  0.011176  0.011274  0.011288  0.011341   \n1  0.155380  0.153050  0.154590  0.156281  0.161038  0.160171  0.159765   \n2  0.060774  0.060783  0.060790  0.060795  0.060799  0.060800  0.060804   \n3  0.016016  0.016088  0.016106  0.016135  0.016198  0.016218  0.016263   \n4  0.030632  0.030699  0.030724  0.030738  0.030785  0.030809  0.030811   \n\n      0.035     0.036      0.04  ...       6.0       6.5       7.0       7.5  \\\n0  0.011377  0.011422  0.011567  ...  0.000770  0.000648  0.000472  0.000327   \n1  0.166164  0.173643  0.174708  ...  0.004932  0.004220  0.003590  0.003106   \n2  0.060794  0.060793  0.060798  ...  0.031844  0.029457  0.024209  0.019664   \n3  0.016401  0.016445  0.016595  ...  0.000389  0.000367  0.000316  0.000262   \n4  0.030818  0.030856  0.031014  ...  0.007108  0.007951  0.007953  0.006537   \n\n        8.0       8.5       9.0       9.5      10.0  sat1_col  \n0  0.000263  0.000247  0.000223  0.000206  0.000190      0.78  \n1  0.002641  0.002316  0.002225  0.002106  0.001998      1.96  \n2  0.015916  0.013225  0.012226  0.011904  0.011696      1.39  \n3  0.000225  0.000192  0.000163  0.000139  0.000124      1.97  \n4  0.005123  0.004094  0.003350  0.002638  0.002224      1.43  \n\n[5 rows x 106 columns]",
      "text/html": "<div>\n<style scoped>\n    .dataframe tbody tr th:only-of-type {\n        vertical-align: middle;\n    }\n\n    .dataframe tbody tr th {\n        vertical-align: top;\n    }\n\n    .dataframe thead th {\n        text-align: right;\n    }\n</style>\n<table border=\"1\" class=\"dataframe\">\n  <thead>\n    <tr style=\"text-align: right;\">\n      <th></th>\n      <th>0.01</th>\n      <th>0.02</th>\n      <th>0.022</th>\n      <th>0.025</th>\n      <th>0.029</th>\n      <th>0.03</th>\n      <th>0.032</th>\n      <th>0.035</th>\n      <th>0.036</th>\n      <th>0.04</th>\n      <th>...</th>\n      <th>6.0</th>\n      <th>6.5</th>\n      <th>7.0</th>\n      <th>7.5</th>\n      <th>8.0</th>\n      <th>8.5</th>\n      <th>9.0</th>\n      <th>9.5</th>\n      <th>10.0</th>\n      <th>sat1_col</th>\n    </tr>\n  </thead>\n  <tbody>\n    <tr>\n      <th>0</th>\n      <td>0.011075</td>\n      <td>0.011107</td>\n      <td>0.011132</td>\n      <td>0.011176</td>\n      <td>0.011274</td>\n      <td>0.011288</td>\n      <td>0.011341</td>\n      <td>0.011377</td>\n      <td>0.011422</td>\n      <td>0.011567</td>\n      <td>...</td>\n      <td>0.000770</td>\n      <td>0.000648</td>\n      <td>0.000472</td>\n      <td>0.000327</td>\n      <td>0.000263</td>\n      <td>0.000247</td>\n      <td>0.000223</td>\n      <td>0.000206</td>\n      <td>0.000190</td>\n      <td>0.78</td>\n    </tr>\n    <tr>\n      <th>1</th>\n      <td>0.155380</td>\n      <td>0.153050</td>\n      <td>0.154590</td>\n      <td>0.156281</td>\n      <td>0.161038</td>\n      <td>0.160171</td>\n      <td>0.159765</td>\n      <td>0.166164</td>\n      <td>0.173643</td>\n      <td>0.174708</td>\n      <td>...</td>\n      <td>0.004932</td>\n      <td>0.004220</td>\n      <td>0.003590</td>\n      <td>0.003106</td>\n      <td>0.002641</td>\n      <td>0.002316</td>\n      <td>0.002225</td>\n      <td>0.002106</td>\n      <td>0.001998</td>\n      <td>1.96</td>\n    </tr>\n    <tr>\n      <th>2</th>\n      <td>0.060774</td>\n      <td>0.060783</td>\n      <td>0.060790</td>\n      <td>0.060795</td>\n      <td>0.060799</td>\n      <td>0.060800</td>\n      <td>0.060804</td>\n      <td>0.060794</td>\n      <td>0.060793</td>\n      <td>0.060798</td>\n      <td>...</td>\n      <td>0.031844</td>\n      <td>0.029457</td>\n      <td>0.024209</td>\n      <td>0.019664</td>\n      <td>0.015916</td>\n      <td>0.013225</td>\n      <td>0.012226</td>\n      <td>0.011904</td>\n      <td>0.011696</td>\n      <td>1.39</td>\n    </tr>\n    <tr>\n      <th>3</th>\n      <td>0.016016</td>\n      <td>0.016088</td>\n      <td>0.016106</td>\n      <td>0.016135</td>\n      <td>0.016198</td>\n      <td>0.016218</td>\n      <td>0.016263</td>\n      <td>0.016401</td>\n      <td>0.016445</td>\n      <td>0.016595</td>\n      <td>...</td>\n      <td>0.000389</td>\n      <td>0.000367</td>\n      <td>0.000316</td>\n      <td>0.000262</td>\n      <td>0.000225</td>\n      <td>0.000192</td>\n      <td>0.000163</td>\n      <td>0.000139</td>\n      <td>0.000124</td>\n      <td>1.97</td>\n    </tr>\n    <tr>\n      <th>4</th>\n      <td>0.030632</td>\n      <td>0.030699</td>\n      <td>0.030724</td>\n      <td>0.030738</td>\n      <td>0.030785</td>\n      <td>0.030809</td>\n      <td>0.030811</td>\n      <td>0.030818</td>\n      <td>0.030856</td>\n      <td>0.031014</td>\n      <td>...</td>\n      <td>0.007108</td>\n      <td>0.007951</td>\n      <td>0.007953</td>\n      <td>0.006537</td>\n      <td>0.005123</td>\n      <td>0.004094</td>\n      <td>0.003350</td>\n      <td>0.002638</td>\n      <td>0.002224</td>\n      <td>1.43</td>\n    </tr>\n  </tbody>\n</table>\n<p>5 rows × 106 columns</p>\n</div>"
     },
     "metadata": {}
    }
   ]
  },
  {
   "cell_type": "code",
   "metadata": {
    "tags": [],
    "cell_id": "00004-3c084b27-3beb-4486-ac06-90986eee3a18",
    "deepnote_to_be_reexecuted": false,
    "source_hash": "908bfceb",
    "execution_start": 1621280141052,
    "execution_millis": 21,
    "deepnote_cell_type": "code"
   },
   "source": "# X_train\ny_train = X_train[:,-1]\nX_train = np.delete(X_train, -1, axis=1)\nprint('Actual Training set shape:')\nprint(X_train.shape)\nprint('Training answer shape:')\nprint(y_train.shape)\n\n# X_val\ny_val = X_val[:,-1]\nX_val = np.delete(X_val, -1, axis=1)\nprint('Validation set shape:')\nprint(X_val.shape)\nprint('Validation answer shape:')\nprint(y_val.shape)",
   "execution_count": null,
   "outputs": [
    {
     "name": "stdout",
     "text": "Actual Training set shape:\n(12646, 8)\nTraining answer shape:\n(12646,)\nValidation set shape:\n(1500, 8)\nValidation answer shape:\n(1500,)\n",
     "output_type": "stream"
    }
   ]
  },
  {
   "cell_type": "markdown",
   "source": "### Normalise",
   "metadata": {
    "tags": [],
    "cell_id": "00004-eea1e707-7b4c-407a-b2e0-664e39829821",
    "deepnote_cell_type": "text-cell-h3"
   }
  },
  {
   "cell_type": "code",
   "metadata": {
    "tags": [],
    "cell_id": "00004-b8b8968b-58a6-4405-b17c-8c50fe17779f",
    "deepnote_to_be_reexecuted": false,
    "source_hash": "cf38f7c3",
    "execution_start": 1621280142710,
    "execution_millis": 9,
    "deepnote_cell_type": "code"
   },
   "source": "mean = X_train.mean(axis=0)\nstd = X_train.std(axis=0)\n\ndef normalise(X, mean, std):\n    return (X-mean)/std\n\nX_train = normalise(X_train, mean, std)\nX_val = normalise(X_val, mean, std)\nX_test = normalise(X_test, mean, std)",
   "execution_count": null,
   "outputs": []
  },
  {
   "cell_type": "markdown",
   "source": "## Adding constant",
   "metadata": {
    "tags": [],
    "cell_id": "00007-73f38cd7-53a7-4861-94e9-a264e3d6a599",
    "deepnote_cell_type": "text-cell-h2"
   }
  },
  {
   "cell_type": "code",
   "metadata": {
    "tags": [],
    "cell_id": "00007-29e54db1-c46c-4a58-b3e9-ce14eeaa6cef",
    "deepnote_to_be_reexecuted": false,
    "source_hash": "5009fdbb",
    "execution_start": 1621280144354,
    "execution_millis": 4,
    "deepnote_cell_type": "code"
   },
   "source": "def add_constant(X: np.ndarray) -> np.ndarray:\n    X_with_offset = np.insert(X, 0, 1, axis=1)\n\n    return X_with_offset\n\nX_train = add_constant(X_train)\nX_val = add_constant(X_val)\n",
   "execution_count": null,
   "outputs": []
  },
  {
   "cell_type": "code",
   "metadata": {
    "tags": [],
    "cell_id": "00009-8c894ef2-f6b8-4889-92dc-e5750b8e1b62",
    "deepnote_to_be_reexecuted": false,
    "source_hash": "85580b8e",
    "execution_start": 1621280145651,
    "execution_millis": 25,
    "deepnote_cell_type": "code"
   },
   "source": "print('Training set features:')\nprint(f'X_train: \\n {X_train[:10]}')\n\nprint('\\nTraining set labels:')\nprint(f'y_train: \\n {y_train[:10]}')\n\n\nprint('Actual Training set shape:')\nprint(X_train.shape)\n\nprint('Training answer shape:')\nprint(y_train.shape)\n\n# y_val\nprint('Validation set shape:')\nprint(X_val.shape)\n\nprint('Validation answer shape:')\nprint(y_val.shape)",
   "execution_count": null,
   "outputs": [
    {
     "name": "stdout",
     "text": "Training set features:\nX_train: \n [[ 1.         -0.40479176 -0.33847381 -0.36594219 -0.41729232 -0.12981772\n  -0.37117896 -0.40883928 -0.44135078]\n [ 1.         -0.19453931 -0.2822992  -0.15283327 -0.17709485 -0.13332457\n  -0.48275726 -0.2503362  -0.13648569]\n [ 1.          1.22884046  0.49534912  1.35293057  0.62276833  0.01409295\n   0.11432497  0.90097239  1.69233555]\n [ 1.         -0.39290491 -0.37058537 -0.38270058 -0.42488665 -0.59505963\n  -0.51467731 -0.41823549 -0.04480963]\n [ 1.          0.02118684 -0.18332979  0.06978819 -0.10193634  0.74825819\n   0.34592265 -0.12405858  0.82868801]\n [ 1.         -0.28451741 -0.37816771 -0.38728065 -0.31893393 -0.72234524\n  -0.44267987 -0.34818539  0.17993413]\n [ 1.         -0.47823001 -0.43038988 -0.4021971  -0.5129723  -0.68208143\n  -0.68793224 -0.49333323 -0.9359588 ]\n [ 1.         -0.45177716 -0.42371487 -0.39401439 -0.50081138  1.00120587\n   0.44132813 -0.48171633  0.3044849 ]\n [ 1.         -0.20883903 -0.01506614  1.117525    0.00414925 -0.25931135\n  -0.41129182  0.30491258 -0.95557934]\n [ 1.         -0.44151221 -0.42216591 -0.39881118 -0.47925592 -0.39536409\n  -0.51591864 -0.4721956  -0.14563049]]\n\nTraining set labels:\ny_train: \n [0.78 1.96 1.39 1.97 1.43 1.18 1.57 1.45 0.64 0.93]\nActual Training set shape:\n(12646, 9)\nTraining answer shape:\n(12646,)\nValidation set shape:\n(1500, 9)\nValidation answer shape:\n(1500,)\n",
     "output_type": "stream"
    }
   ]
  },
  {
   "cell_type": "markdown",
   "source": "## MSE Loss Function",
   "metadata": {
    "tags": [],
    "cell_id": "00010-086de9ac-90ff-4bb0-bf34-272586b76778",
    "deepnote_cell_type": "text-cell-h2"
   }
  },
  {
   "cell_type": "code",
   "metadata": {
    "tags": [],
    "cell_id": "00010-d3e6e315-3553-4511-b9f1-5422e02a55ba",
    "deepnote_to_be_reexecuted": false,
    "source_hash": "95d95f86",
    "execution_start": 1621280148994,
    "execution_millis": 4,
    "deepnote_cell_type": "code"
   },
   "source": "def mse_loss(X: np.ndarray, y: np.ndarray, w: np.ndarray) -> np.ndarray:\n    \n    N = y.shape[0]\n    y_hat = X @ w\n    loss = (1/ N) * ((y_hat - y).T @ (y_hat - y))\n    return loss\n",
   "execution_count": null,
   "outputs": []
  },
  {
   "cell_type": "code",
   "metadata": {
    "tags": [],
    "cell_id": "00011-eabbad2d-e49b-4035-bd2d-3370b05b292b",
    "deepnote_to_be_reexecuted": false,
    "source_hash": "d69c081d",
    "execution_start": 1621280150293,
    "execution_millis": 13,
    "deepnote_cell_type": "code"
   },
   "source": "zero_weights = np.zeros(X_train.shape[1])\nprint(zero_weights.shape)",
   "execution_count": null,
   "outputs": [
    {
     "name": "stdout",
     "text": "(9,)\n",
     "output_type": "stream"
    }
   ]
  },
  {
   "cell_type": "code",
   "metadata": {
    "tags": [],
    "cell_id": "00012-560053a4-8bf8-4bb9-83a5-2f1cfcf510b7",
    "deepnote_to_be_reexecuted": false,
    "source_hash": "6fc2dc2c",
    "execution_start": 1621280151434,
    "execution_millis": 20,
    "deepnote_cell_type": "code"
   },
   "source": "train_loss = mse_loss(X_train, y_train, zero_weights)\nval_loss = mse_loss(X_val, y_val, zero_weights)\nprint(f\"Train loss: {train_loss:.5f}\")\nprint(f\"Val loss: {val_loss:.5f}\")",
   "execution_count": null,
   "outputs": [
    {
     "name": "stdout",
     "text": "Train loss: 2.01835\nVal loss: 1.93480\n",
     "output_type": "stream"
    }
   ]
  },
  {
   "cell_type": "markdown",
   "source": "### Gradient Descent",
   "metadata": {
    "tags": [],
    "cell_id": "00014-2e612156-d7b5-4f9e-8b3d-9eebb8ff88ed",
    "deepnote_cell_type": "text-cell-h3"
   }
  },
  {
   "cell_type": "code",
   "metadata": {
    "tags": [],
    "cell_id": "00013-586134e8-a5ad-4cf4-8e96-72b658f3accb",
    "deepnote_to_be_reexecuted": false,
    "source_hash": "3d5768bf",
    "execution_start": 1621280153715,
    "execution_millis": 10,
    "deepnote_cell_type": "code"
   },
   "source": "def mse_gradient(X: np.ndarray, y: np.ndarray, w: np.ndarray) -> np.ndarray:\n\n    N = y.shape[0]\n    grad = (2/N) * X.T @ (X @ w - y)\n\n    return grad",
   "execution_count": null,
   "outputs": []
  },
  {
   "cell_type": "code",
   "metadata": {
    "tags": [],
    "cell_id": "00014-3a2cbeed-de4d-4be6-be4e-e4e505648015",
    "deepnote_to_be_reexecuted": false,
    "source_hash": "c1f42815",
    "execution_start": 1621280155492,
    "execution_millis": 4,
    "deepnote_cell_type": "code"
   },
   "source": "def gradient_descent(X: np.ndarray, y: np.ndarray, w: np.ndarray, alpha: float, max_iters: int) -> (np.ndarray, np.ndarray):\n  \n    losses = np.zeros(max_iters)\n    \n    for n_iter in range(max_iters):\n        w = w - alpha * mse_gradient(X, y, w)   \n        loss = mse_loss(X, y, w)\n        \n        losses[n_iter] = loss\n        \n        if n_iter % (max_iters / 20) == 0:\n            if w.shape[0] == 9: \n                print(f\"Iteration {n_iter}: loss={loss:.5f},\\t\\t w0={w[0]:.3f}, w1={w[1]:.3f}, w2={w[2]:.3f}, w3={w[3]:.3f}, w4={w[4]:.3f}, w5 ={w[5]:.3f}, w6 ={w[6]:.3f}\")\n            else:\n                print(f\"Iteration {n_iter}: loss={loss:.5f}\")\n\n    return w, losses",
   "execution_count": null,
   "outputs": []
  },
  {
   "cell_type": "code",
   "metadata": {
    "tags": [],
    "cell_id": "00015-3622bdc3-cafd-4856-9055-a0395707f99a",
    "deepnote_to_be_reexecuted": false,
    "source_hash": "cd84cdbf",
    "execution_start": 1621280193045,
    "execution_millis": 4,
    "deepnote_cell_type": "code"
   },
   "source": "alpha = 0.0001\niters = 100000\nw = np.zeros((X_train.shape[1], ))\n",
   "execution_count": null,
   "outputs": []
  },
  {
   "cell_type": "code",
   "metadata": {
    "tags": [],
    "cell_id": "00016-967e3d46-26fb-409d-839b-dbfc349a64d5",
    "deepnote_to_be_reexecuted": false,
    "source_hash": "3ae4eece",
    "execution_start": 1621280195372,
    "execution_millis": 80551,
    "deepnote_cell_type": "code"
   },
   "source": "w, loss = gradient_descent(X_train, y_train, w, alpha, iters)\n",
   "execution_count": null,
   "outputs": [
    {
     "name": "stdout",
     "text": "Iteration 0: loss=2.01762,\t\t w0=0.000, w1=0.000, w2=-0.000, w3=-0.000, w4=0.000, w5 =-0.000, w6 =-0.000\nIteration 5000: loss=0.45734,\t\t w0=0.826, w1=0.044, w2=-0.028, w3=-0.042, w4=0.012, w5 =-0.090, w6 =-0.094\nIteration 10000: loss=0.24774,\t\t w0=1.129, w1=0.063, w2=-0.045, w3=-0.052, w4=0.019, w5 =-0.106, w6 =-0.114\nIteration 15000: loss=0.21886,\t\t w0=1.241, w1=0.073, w2=-0.057, w3=-0.053, w4=0.025, w5 =-0.109, w6 =-0.121\nIteration 20000: loss=0.21459,\t\t w0=1.282, w1=0.080, w2=-0.065, w3=-0.050, w4=0.031, w5 =-0.109, w6 =-0.124\nIteration 25000: loss=0.21375,\t\t w0=1.297, w1=0.086, w2=-0.071, w3=-0.047, w4=0.036, w5 =-0.108, w6 =-0.126\nIteration 30000: loss=0.21343,\t\t w0=1.303, w1=0.090, w2=-0.075, w3=-0.044, w4=0.041, w5 =-0.106, w6 =-0.128\nIteration 35000: loss=0.21323,\t\t w0=1.305, w1=0.093, w2=-0.079, w3=-0.041, w4=0.045, w5 =-0.104, w6 =-0.129\nIteration 40000: loss=0.21307,\t\t w0=1.306, w1=0.096, w2=-0.081, w3=-0.039, w4=0.049, w5 =-0.103, w6 =-0.131\nIteration 45000: loss=0.21294,\t\t w0=1.306, w1=0.099, w2=-0.083, w3=-0.037, w4=0.053, w5 =-0.101, w6 =-0.132\nIteration 50000: loss=0.21283,\t\t w0=1.306, w1=0.101, w2=-0.084, w3=-0.035, w4=0.056, w5 =-0.100, w6 =-0.133\nIteration 55000: loss=0.21273,\t\t w0=1.306, w1=0.103, w2=-0.084, w3=-0.034, w4=0.059, w5 =-0.098, w6 =-0.134\nIteration 60000: loss=0.21264,\t\t w0=1.306, w1=0.105, w2=-0.085, w3=-0.032, w4=0.062, w5 =-0.097, w6 =-0.135\nIteration 65000: loss=0.21256,\t\t w0=1.306, w1=0.107, w2=-0.084, w3=-0.031, w4=0.065, w5 =-0.096, w6 =-0.137\nIteration 70000: loss=0.21249,\t\t w0=1.306, w1=0.108, w2=-0.084, w3=-0.030, w4=0.067, w5 =-0.095, w6 =-0.138\nIteration 75000: loss=0.21243,\t\t w0=1.306, w1=0.109, w2=-0.083, w3=-0.029, w4=0.069, w5 =-0.094, w6 =-0.138\nIteration 80000: loss=0.21236,\t\t w0=1.306, w1=0.110, w2=-0.082, w3=-0.028, w4=0.072, w5 =-0.092, w6 =-0.139\nIteration 85000: loss=0.21231,\t\t w0=1.306, w1=0.111, w2=-0.081, w3=-0.027, w4=0.073, w5 =-0.092, w6 =-0.140\nIteration 90000: loss=0.21225,\t\t w0=1.306, w1=0.112, w2=-0.080, w3=-0.026, w4=0.075, w5 =-0.091, w6 =-0.141\nIteration 95000: loss=0.21220,\t\t w0=1.306, w1=0.113, w2=-0.078, w3=-0.026, w4=0.077, w5 =-0.090, w6 =-0.142\n",
     "output_type": "stream"
    }
   ]
  },
  {
   "cell_type": "code",
   "metadata": {
    "tags": [],
    "cell_id": "00017-c00c84a3-5d48-459b-9861-2c527a4e3d56",
    "deepnote_to_be_reexecuted": false,
    "source_hash": "d45c79c8",
    "execution_start": 1621280278435,
    "execution_millis": 14,
    "deepnote_cell_type": "code"
   },
   "source": "train_loss = mse_loss(X_train, y_train, w)\nval_loss = mse_loss(X_val, y_val, w)\nprint(f\"Train loss: {train_loss:.5f}\")\nprint(f\"Val loss: {val_loss:.5f}\")",
   "execution_count": null,
   "outputs": [
    {
     "name": "stdout",
     "text": "Train loss: 0.21215\nVal loss: 0.20378\n",
     "output_type": "stream"
    }
   ]
  },
  {
   "cell_type": "code",
   "metadata": {
    "tags": [],
    "cell_id": "00020-f876330f-1c42-433f-a8f9-55ec2e4ac6bc",
    "deepnote_to_be_reexecuted": false,
    "source_hash": "28af9749",
    "execution_start": 1621280316182,
    "execution_millis": 44,
    "deepnote_cell_type": "code"
   },
   "source": "X_test=add_constant(X_test)[:,-9:]\ny_hat = X_test @ w\ndf_out = pd.DataFrame(y_hat)\ndf_out.columns = ['sat1_col']\ndf_out.to_csv(\"submission_DefinitelyNot.csv\")",
   "execution_count": null,
   "outputs": []
  },
  {
   "cell_type": "code",
   "metadata": {
    "tags": [],
    "cell_id": "00021-b69bffdf-f2a8-4643-82c7-8d04359cabd7",
    "deepnote_to_be_reexecuted": false,
    "source_hash": "a389dd5b",
    "execution_start": 1621280325938,
    "execution_millis": 0,
    "deepnote_cell_type": "code"
   },
   "source": "\nX_test\n",
   "execution_count": null,
   "outputs": [
    {
     "output_type": "execute_result",
     "execution_count": 103,
     "data": {
      "text/plain": "array([[ 1.        , -0.43692697, -0.2299032 , ...,  2.22831881,\n        -0.30652124, -0.28080073],\n       [ 1.        , -0.49049659, -0.43276979, ..., -0.78706172,\n        -0.50028477, -1.16636834],\n       [ 1.        , -0.49120969, -0.43265258, ..., -0.14866076,\n        -0.501505  , -0.57532636],\n       ...,\n       [ 1.        ,  0.21593303,  0.51136785, ..., -0.91882058,\n         0.60545961, -1.46112872],\n       [ 1.        , -0.46370787, -0.40355146, ...,  0.28367856,\n        -0.47282077, -0.25887857],\n       [ 1.        , -0.42555832, -0.41181304, ..., -0.92217573,\n        -0.45956893,  0.0822316 ]])"
     },
     "metadata": {}
    }
   ]
  },
  {
   "cell_type": "code",
   "metadata": {
    "tags": [],
    "cell_id": "00020-e12412d6-8f73-4bb9-a88b-99d1a4115ce5",
    "deepnote_to_be_reexecuted": false,
    "source_hash": "d3b3cb2f",
    "execution_start": 1621279423515,
    "execution_millis": 487,
    "deepnote_cell_type": "code"
   },
   "source": "def plot_loss(loss_list):\n    plt.figure(figsize=(6, 6))\n    step = np.arange(1, len(loss_list) + 1)\n    plt.plot(step, loss_list)\n    plt.title(\"Evolution of the loss during the training\")\n    plt.xlabel(\"iteration\")\n    plt.ylabel(\"Loss\")\n    plt.show()\n\nplot_loss(loss)",
   "execution_count": null,
   "outputs": [
    {
     "data": {
      "text/plain": "<Figure size 432x432 with 1 Axes>",
      "image/png": "[encoded data removed]"
     },
     "metadata": {
      "needs_background": "light",
      "image/png": {
       "width": 393,
       "height": 387
      }
     },
     "output_type": "display_data"
    }
   ]
  },
  {
   "cell_type": "code",
   "metadata": {
    "tags": [],
    "cell_id": "00021-e0dbfb32-707f-4c40-aa69-29cf955dff59",
    "deepnote_to_be_reexecuted": false,
    "source_hash": "d27e6044",
    "execution_start": 1621279423968,
    "execution_millis": 0,
    "deepnote_cell_type": "code"
   },
   "source": "def predict(X, w):\n  \n    y_hat = X @ w\n  \n    return y_hat\n    ",
   "execution_count": null,
   "outputs": []
  },
  {
   "cell_type": "code",
   "metadata": {
    "tags": [],
    "cell_id": "00022-eb0f89b8-de39-4478-b643-872c2eee111c",
    "deepnote_to_be_reexecuted": false,
    "source_hash": "5ffc01f3",
    "execution_start": 1621279423978,
    "execution_millis": 33,
    "deepnote_cell_type": "code"
   },
   "source": "expected_value = predict(X_train, w)\nprint(expected_value)\n",
   "execution_count": null,
   "outputs": [
    {
     "name": "stdout",
     "text": "[1.11723846 1.18568637 1.39463444 ... 1.0605393  1.2796095  1.18455682]\n",
     "output_type": "stream"
    }
   ]
  },
  {
   "cell_type": "markdown",
   "source": "### K-Folding Stuff",
   "metadata": {
    "tags": [],
    "cell_id": "00023-ac43e785-78d9-492d-9bec-8beb778b6b31",
    "deepnote_cell_type": "text-cell-h3"
   }
  },
  {
   "cell_type": "code",
   "metadata": {
    "tags": [],
    "cell_id": "00023-1fca300c-9ff3-4976-9f34-7897041a1188",
    "deepnote_to_be_reexecuted": false,
    "source_hash": "55cde77d",
    "execution_start": 1621279423992,
    "execution_millis": 3,
    "deepnote_cell_type": "code"
   },
   "source": "def k_fold_indices(num_examples: int, k: int = 4) -> List[Tuple[np.ndarray, np.ndarray]]:\n    indices = np.arange(num_examples)\n    split_size = num_examples // k\n    val_indices = [indices[k * split_size : (k + 1) * split_size] for k in range(k)]\n    both_indices = [(np.delete(indices, val_ind), val_ind) for val_ind in val_indices]\n    return both_indices\n",
   "execution_count": null,
   "outputs": []
  },
  {
   "cell_type": "code",
   "metadata": {
    "tags": [],
    "cell_id": "00024-3ffbd76e-435a-4c65-97cc-7cd5fe5ad492",
    "deepnote_to_be_reexecuted": false,
    "source_hash": "6d4f47b",
    "execution_start": 1621279424026,
    "execution_millis": 51,
    "deepnote_cell_type": "code"
   },
   "source": " def GradientDescentK(X: np.ndarray,\n                                            y: np.ndarray,\n                                            iters: int = 100000,\n                                            alpha: float = 0.001,\n                                            loss_freq: int = 0,\n                                            k: int = 4) -> float:\n  \n    val_losses = []\n    w = np.zeros((X_train.shape[1], ))\n\n    for train_index, val_index in k_fold_indices(X.shape[0] , k):\n        \n        w, loss = gradient_descent(X[train_index], y[train_index], w, alpha, iters)\n        val_losses.append(mse_loss(X[val_index], y[val_index], w))\n\n    return np.mean(val_losses)",
   "execution_count": null,
   "outputs": []
  },
  {
   "cell_type": "code",
   "metadata": {
    "tags": [],
    "cell_id": "00026-76591b8c-80a7-4e71-88c4-8f047a424e46",
    "deepnote_to_be_reexecuted": false,
    "source_hash": "f9391647",
    "execution_start": 1621279424077,
    "execution_millis": 48,
    "deepnote_cell_type": "code"
   },
   "source": "\"\"\"alpha = [0.01, 0.001, 0.0001]\nfor a in alpha:\n    iters = int(10 // a)\n    low = []\n    low.append(GradientDescentK(X_train, y_train, iters, a))\nprint(low)\"\"\"\n\n\n\n    \n    \n",
   "execution_count": null,
   "outputs": [
    {
     "output_type": "execute_result",
     "execution_count": 64,
     "data": {
      "text/plain": "'alpha = [0.01, 0.001, 0.0001]\\nfor a in alpha:\\n    iters = int(10 // a)\\n    low = []\\n    low.append(GradientDescentK(X_train, y_train, iters, a))\\nprint(low)'"
     },
     "metadata": {}
    }
   ]
  },
  {
   "cell_type": "markdown",
   "source": "helpers.plot_loss(loss)- predict the collapse capacities of a building, given an earthquake, the data which is given to us: - metrics of ground mothing intensity",
   "metadata": {
    "tags": [],
    "cell_id": "00005-fbb9f32f-2393-4cf3-a686-6a562f5828be",
    "deepnote_cell_type": "text-cell-p"
   }
  },
  {
   "cell_type": "markdown",
   "source": "PGA(peak ground acceleration) does not take into account the dynamic response of building- so use Sa(T) (spectral acceleration)- describes what buildings with different periods will experience. =1000 ground motion of earthquakes.",
   "metadata": {
    "tags": [],
    "cell_id": "00008-e677ff4a-b69a-49f1-b2ab-a5146f7400a7",
    "deepnote_cell_type": "text-cell-p"
   }
  },
  {
   "cell_type": "markdown",
   "source": "Collapse capacity: value of the smallest spectral acceleration of a ground motion at the fundamental period of the structure which will cause the structure to collapse.",
   "metadata": {
    "tags": [],
    "cell_id": "00009-60c74495-62a5-4f5e-901c-8b12a476d15f",
    "deepnote_cell_type": "text-cell-p"
   }
  },
  {
   "cell_type": "markdown",
   "source": " w1 * (1.3) + w2*(da5_75) + w3*(da5_95) + w4*(fiv3) + w5*(sa_ratio) = sat1_col",
   "metadata": {
    "tags": [],
    "cell_id": "00010-6c388197-a73e-4318-99d1-30309cd8ce9f",
    "deepnote_cell_type": "text-cell-p"
   }
  },
  {
   "cell_type": "markdown",
   "source": "",
   "metadata": {
    "tags": [],
    "cell_id": "00011-296c3152-e705-4b47-bff0-8495d5988a3a",
    "deepnote_cell_type": "text-cell-p"
   }
  },
  {
   "cell_type": "markdown",
   "source": "<a style='text-decoration:none;line-height:16px;display:flex;color:#5B5B62;padding:10px;justify-content:end;' href='https://deepnote.com?utm_source=created-in-deepnote-cell&projectId=493ee647-e437-4c81-80f8-96d4eefd9c39' target=\"_blank\">\n<img alt='Created in deepnote.com' style='display:inline;max-height:16px;margin:0px;margin-right:7.5px;' src='data:image/svg+xml;base64,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' > </img>\nCreated in <span style='font-weight:600;margin-left:4px;'>Deepnote</span></a>",
   "metadata": {
    "tags": [],
    "created_in_deepnote_cell": true,
    "deepnote_cell_type": "markdown"
   }
  }
 ],
 "nbformat": 4,
 "nbformat_minor": 2,
 "metadata": {
  "orig_nbformat": 2,
  "deepnote": {
   "is_reactive": false
  },
  "deepnote_notebook_id": "e952ad16-6638-4db1-b64c-eb030c19cea1",
  "deepnote_execution_queue": []
 }
}
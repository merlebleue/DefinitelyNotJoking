{
 "cells": [
  {
   "cell_type": "markdown",
   "source": "# Example training notebook",
   "metadata": {
    "cell_id": "00000-054c1050-d408-4ac7-a898-78264ebacfc7",
    "deepnote_cell_type": "markdown"
   }
  },
  {
   "cell_type": "markdown",
   "source": "This notebook shows how to train a basic model on fixed scale images of the AIST Building Change Detection dataset. Feel free to modify it as you wish.",
   "metadata": {
    "cell_id": "00001-8ce5b1ba-3cb5-418c-bb86-9cce82b56595",
    "deepnote_cell_type": "markdown"
   }
  },
  {
   "cell_type": "markdown",
   "source": "####  For Google Colab\nThese cells are used to setup the repository, required packages and dataset in Colab.",
   "metadata": {
    "cell_id": "00002-4d92d8b4-586c-471b-bb6c-06099f15b17b",
    "deepnote_cell_type": "markdown"
   }
  },
  {
   "cell_type": "code",
   "metadata": {
    "cell_id": "00003-ced0f007-c93d-4fbf-a920-3f11fa33b003",
    "deepnote_cell_type": "code"
   },
   "source": "try:\n    import google.colab\n    IN_COLAB = True\nexcept:\n    IN_COLAB = False\n    \nif IN_COLAB:\n    # Clone the entire repo to access the files\n    !git clone -l -s https://github.com/vita-epfl/introML-2021.git cloned-repo\n    # Go to the project directory\n    %cd cloned-repo/project/\n    # Install requirements\n    !pip install -r requirements.txt",
   "execution_count": null,
   "outputs": []
  },
  {
   "cell_type": "code",
   "metadata": {
    "cell_id": "00004-0d6eb069-d154-4e15-ba0c-78b2c4c910b6",
    "deepnote_cell_type": "code"
   },
   "source": "# This cell downloads the dataset if you're using Colab\n# If the dataset is already downloaded, avoid running it again after restarting the kernel\nif IN_COLAB:\n    !pip install gdown\n    !gdown https://drive.google.com/uc?id=1otKxIvEP77Cap9VmUkujMrAMo4K8_F1c\n    !unzip -q patch-pairs.zip -d data/",
   "execution_count": null,
   "outputs": []
  },
  {
   "cell_type": "markdown",
   "source": "### Imports",
   "metadata": {
    "cell_id": "00005-a09ec112-d219-4538-9c13-6b9fd8d94207",
    "deepnote_cell_type": "markdown"
   }
  },
  {
   "cell_type": "code",
   "metadata": {
    "cell_id": "00006-182902dc-3e24-4405-9f52-bce4b64f7e88",
    "deepnote_to_be_reexecuted": false,
    "source_hash": "bfa010b0",
    "execution_start": 1622038373705,
    "execution_millis": 1,
    "deepnote_cell_type": "code"
   },
   "source": "import os\nimport time\nimport torch\nfrom torch.utils.data import DataLoader\nfrom torch.utils.tensorboard import SummaryWriter\nimport torch.nn as nn\nimport torch.nn.functional as F\nfrom pathlib import Path",
   "execution_count": null,
   "outputs": []
  },
  {
   "cell_type": "code",
   "metadata": {
    "cell_id": "00007-265c41f4-7104-4ce4-8feb-be0cd7c57f52",
    "deepnote_to_be_reexecuted": false,
    "source_hash": "c5b63423",
    "execution_start": 1622038381117,
    "execution_millis": 1,
    "deepnote_cell_type": "code"
   },
   "source": "from dataset import PatchPairsDataset, split_dataset\nfrom trainer import Trainer\nfrom evaluator import Evaluator\nfrom utils import show_pair, generate_submission",
   "execution_count": null,
   "outputs": []
  },
  {
   "cell_type": "markdown",
   "source": "### Device",
   "metadata": {
    "cell_id": "00008-d3e40446-feb0-4821-aee2-c66ddaebaa22",
    "deepnote_cell_type": "markdown"
   }
  },
  {
   "cell_type": "code",
   "metadata": {
    "cell_id": "00009-27cf646f-3ba9-45c0-8004-2ebb1a8eb535",
    "deepnote_to_be_reexecuted": false,
    "source_hash": "49fb5935",
    "execution_start": 1622038538834,
    "execution_millis": 6,
    "deepnote_cell_type": "code"
   },
   "source": "# if device is cuda, then you are using a Nvidia GPU to train\ndevice = torch.device(\"cuda\" if torch.cuda.is_available() else \"cpu\")\nprint(f\"Using device: {device}\")\n\nif device.type == 'cuda':\n    print(f\"GPU: {torch.cuda.get_device_name(0)}\")",
   "execution_count": null,
   "outputs": [
    {
     "name": "stdout",
     "text": "Using device: cpu\n",
     "output_type": "stream"
    }
   ]
  },
  {
   "cell_type": "code",
   "metadata": {
    "cell_id": "00010-7b877e7d-8a26-49b8-90c3-71a2331ddc59",
    "deepnote_to_be_reexecuted": false,
    "source_hash": "78b67907",
    "execution_start": 1622038540340,
    "execution_millis": 1,
    "deepnote_cell_type": "code"
   },
   "source": "# Shows extra GPU info if there is one\nif device.type == 'cuda':\n    !nvidia-smi",
   "execution_count": null,
   "outputs": []
  },
  {
   "cell_type": "markdown",
   "source": "### Data",
   "metadata": {
    "cell_id": "00011-b5e9ae68-b7ce-4502-b83f-b65d94ef87ae",
    "deepnote_cell_type": "markdown"
   }
  },
  {
   "cell_type": "code",
   "metadata": {
    "cell_id": "00012-89ea2c2f-c4e1-435c-a4e9-b3dc3b4bbff9",
    "deepnote_to_be_reexecuted": false,
    "source_hash": "55c3bcd",
    "execution_start": 1622038541758,
    "execution_millis": 31,
    "deepnote_cell_type": "code"
   },
   "source": "# More info about transforms: https://pytorch.org/vision/stable/transforms.html\ntransform =  None \nbatch_size = 16\n\ntrain_csv_path = \"data/train.csv\"\ntest_csv_path = \"data/test.csv\"\npairs_folder_path = \"data/patch-pairs\"\n\ntrain_data = PatchPairsDataset(csv_path=train_csv_path, pairs_folder_path=pairs_folder_path, transform=transform)\n\n# Split into train / val using split_dataset() from dataset.py\ntrain_data, val_data = split_dataset(train_data, split=0.2)\n\ntest_data = PatchPairsDataset(csv_path=test_csv_path, pairs_folder_path=pairs_folder_path, transform=transform)\n\n\ntrain_loader = DataLoader(train_data, batch_size=batch_size, shuffle=True, num_workers=4)\nval_loader = DataLoader(val_data, batch_size=batch_size, shuffle=False, num_workers=4)\ntest_loader = DataLoader(test_data, batch_size=batch_size, shuffle=False, num_workers=4)",
   "execution_count": null,
   "outputs": []
  },
  {
   "cell_type": "code",
   "metadata": {
    "cell_id": "00013-42f1382a-33d1-4851-98de-afeb7209ac5a",
    "deepnote_to_be_reexecuted": false,
    "source_hash": "1842aee4",
    "execution_start": 1622064238520,
    "execution_millis": 95,
    "deepnote_cell_type": "code"
   },
   "source": "features, targets = iter(train_loader).next()",
   "execution_count": null,
   "outputs": [
    {
     "output_type": "error",
     "ename": "NameError",
     "evalue": "name 'train_loader' is not defined",
     "traceback": [
      "\u001b[0;31m---------------------------------------------------------------------------\u001b[0m",
      "\u001b[0;31mNameError\u001b[0m                                 Traceback (most recent call last)",
      "\u001b[0;32m<ipython-input-1-e1a2db01d0ee>\u001b[0m in \u001b[0;36m<module>\u001b[0;34m\u001b[0m\n\u001b[0;32m----> 1\u001b[0;31m \u001b[0mfeatures\u001b[0m\u001b[0;34m,\u001b[0m \u001b[0mtargets\u001b[0m \u001b[0;34m=\u001b[0m \u001b[0miter\u001b[0m\u001b[0;34m(\u001b[0m\u001b[0mtrain_loader\u001b[0m\u001b[0;34m)\u001b[0m\u001b[0;34m.\u001b[0m\u001b[0mnext\u001b[0m\u001b[0;34m(\u001b[0m\u001b[0;34m)\u001b[0m\u001b[0;34m\u001b[0m\u001b[0;34m\u001b[0m\u001b[0m\n\u001b[0m",
      "\u001b[0;31mNameError\u001b[0m: name 'train_loader' is not defined"
     ]
    }
   ]
  },
  {
   "cell_type": "code",
   "metadata": {
    "cell_id": "00014-819ff258-d22c-4817-99c8-34356fef325a",
    "deepnote_to_be_reexecuted": false,
    "source_hash": "72613edc",
    "execution_start": 1622038168758,
    "execution_millis": 15,
    "deepnote_cell_type": "code"
   },
   "source": "features.shape",
   "execution_count": null,
   "outputs": [
    {
     "output_type": "error",
     "ename": "NameError",
     "evalue": "name 'features' is not defined",
     "traceback": [
      "\u001b[0;31m---------------------------------------------------------------------------\u001b[0m",
      "\u001b[0;31mNameError\u001b[0m                                 Traceback (most recent call last)",
      "\u001b[0;32m<ipython-input-15-ce5d0f26b013>\u001b[0m in \u001b[0;36m<module>\u001b[0;34m\u001b[0m\n\u001b[0;32m----> 1\u001b[0;31m \u001b[0mfeatures\u001b[0m\u001b[0;34m.\u001b[0m\u001b[0mshape\u001b[0m\u001b[0;34m\u001b[0m\u001b[0;34m\u001b[0m\u001b[0m\n\u001b[0m",
      "\u001b[0;31mNameError\u001b[0m: name 'features' is not defined"
     ]
    }
   ]
  },
  {
   "cell_type": "code",
   "metadata": {
    "cell_id": "00015-85a4b79b-6084-4f94-a624-79c7b56bceea",
    "deepnote_cell_type": "code"
   },
   "source": "# Show first pair\nprint(f\"Target: {targets[0].item():.0f}\")\nshow_pair(features[0])",
   "execution_count": null,
   "outputs": []
  },
  {
   "cell_type": "markdown",
   "source": "### Model",
   "metadata": {
    "cell_id": "00016-47ad35cc-5e3f-4018-8484-6110f1e5e631",
    "deepnote_cell_type": "markdown"
   }
  },
  {
   "cell_type": "markdown",
   "source": "#### Network architecture",
   "metadata": {
    "cell_id": "00017-4d301628-0b7f-45ad-a73b-963cc9b25bf1",
    "deepnote_cell_type": "markdown"
   }
  },
  {
   "cell_type": "code",
   "metadata": {
    "cell_id": "00018-b1b25098-9635-40a6-bd10-c02344d425df",
    "deepnote_cell_type": "code"
   },
   "source": "# Try implementing new network architectures to improve your performance!\n\nclass LogisticRegression(nn.Module):\n    \"\"\"Baseline logistic regression model\"\"\"\n\n    def __init__(self) -> None:\n        super().__init__()\n        # Input tensor is of shape [batch_size, 6, 160, 160]\n        self.fc = nn.Linear(6 * 160 * 160, 1)\n\n    def forward(self, x: torch.Tensor) -> torch.Tensor:\n        x = x.flatten(start_dim=1)\n        out = self.fc(x)\n        return out",
   "execution_count": null,
   "outputs": []
  },
  {
   "cell_type": "code",
   "metadata": {
    "cell_id": "00019-9e5a7951-6457-4a4c-a73b-35f615f440a6",
    "deepnote_cell_type": "code"
   },
   "source": "model = LogisticRegression()\nmodel = model.to(device)\nprint(model)",
   "execution_count": null,
   "outputs": []
  },
  {
   "cell_type": "markdown",
   "source": "#### Loss, optimizer and scheduler",
   "metadata": {
    "cell_id": "00020-de7d0a9e-3c99-48aa-b6ef-3433bb19cdd1",
    "deepnote_cell_type": "markdown"
   }
  },
  {
   "cell_type": "code",
   "metadata": {
    "cell_id": "00021-0c1225e0-bded-4a18-aa52-a4e1f5330c65",
    "deepnote_cell_type": "code"
   },
   "source": "loss_fn = torch.nn.BCEWithLogitsLoss().to(device)\noptimizer = torch.optim.SGD(model.parameters(), lr=3e-4)\nscheduler = None \nepochs = 10",
   "execution_count": null,
   "outputs": []
  },
  {
   "cell_type": "markdown",
   "source": "### Saving, checkpoint and logging",
   "metadata": {
    "cell_id": "00022-23824734-4aea-450f-b392-35cb336796f8",
    "deepnote_cell_type": "markdown"
   }
  },
  {
   "cell_type": "code",
   "metadata": {
    "cell_id": "00023-79b37768-7fb8-45bd-992d-314640666d6a",
    "deepnote_cell_type": "code"
   },
   "source": "# Path to which the model weights will be saved\ntimestr = time.strftime(\"%m%d-%H%M\")\nsave_path = f\"outputs/{timestr}\"\nPath(save_path).mkdir(parents=True, exist_ok=True)\nsave_path = os.path.join(save_path, \"\")\n# Resume training from checkpoint \ncheckpoint_path = None\n# Log to tensorboard\nwriter = SummaryWriter()",
   "execution_count": null,
   "outputs": []
  },
  {
   "cell_type": "markdown",
   "source": "#### TensorBoard within notebook \nIt is possible to directly display a TensorBoard window within a notebook (instead of a separate browser tab). This is especially useful when using Colab.",
   "metadata": {
    "cell_id": "00024-2c6b1abc-b846-41f6-9786-8069bddbcd29",
    "deepnote_cell_type": "markdown"
   }
  },
  {
   "cell_type": "code",
   "metadata": {
    "cell_id": "00025-6c17f853-0c94-4bb3-bb09-f44948d3d35b",
    "deepnote_to_be_reexecuted": false,
    "source_hash": "5fbdf0ab",
    "execution_start": 1622037801761,
    "execution_millis": 16,
    "deepnote_cell_type": "code"
   },
   "source": "# Load the TensorBoard notebook extension\n%load_ext tensorboard",
   "execution_count": null,
   "outputs": []
  },
  {
   "cell_type": "code",
   "metadata": {
    "cell_id": "00026-46f28ac0-d7b4-45aa-9b09-adb4d4f65907",
    "deepnote_cell_type": "code"
   },
   "source": "# If a timed out message is displayed, wait a bit and run this cell again.\n%tensorboard --logdir runs",
   "execution_count": null,
   "outputs": []
  },
  {
   "cell_type": "markdown",
   "source": "### Training",
   "metadata": {
    "cell_id": "00027-a3bc5220-c034-4b6e-9e05-51bffac730a5",
    "deepnote_cell_type": "markdown"
   }
  },
  {
   "cell_type": "code",
   "metadata": {
    "cell_id": "00028-3a76880d-5885-4745-b323-bc914c1cc414",
    "deepnote_cell_type": "code"
   },
   "source": "# Launch training\ntrainer = Trainer(\n        model=model,\n        loss_fn=loss_fn,\n        optimizer=optimizer,\n        epochs=epochs,\n        device=device,\n        train_loader=train_loader,\n        val_loader=val_loader,\n        scheduler=scheduler,\n        writer=writer,\n        save_path=save_path,\n        checkpoint_path=checkpoint_path,\n        show_pbar=True\n    )",
   "execution_count": null,
   "outputs": []
  },
  {
   "cell_type": "code",
   "metadata": {
    "tags": [],
    "cell_id": "00029-e00f42d0-3325-4a89-95b6-d0c0290310d3",
    "deepnote_cell_type": "code"
   },
   "source": "trainer.train()",
   "execution_count": null,
   "outputs": []
  },
  {
   "cell_type": "markdown",
   "source": "### Evaluation",
   "metadata": {
    "cell_id": "00030-9e9aaa76-8701-441a-9f13-dd6006101d93",
    "deepnote_cell_type": "markdown"
   }
  },
  {
   "cell_type": "code",
   "metadata": {
    "cell_id": "00031-f99d859e-478d-4ba1-8d96-430b4b11e913",
    "deepnote_cell_type": "code"
   },
   "source": "# Path to the model that needs to be evaluated (can be None to use current model)\neval_checkpoint_path = None\n\nevaluator = Evaluator(\n    model=model,\n    device=device,\n    loader=test_loader,\n    checkpoint_path=eval_checkpoint_path\n    )",
   "execution_count": null,
   "outputs": []
  },
  {
   "cell_type": "code",
   "metadata": {
    "cell_id": "00032-0726d05b-e06d-47c1-94be-22fde334f02a",
    "deepnote_cell_type": "code"
   },
   "source": "# If the data in evaluator has targets (e.g. train or val set), you can get the accuracy using evaluate()\nprint(test_loader.dataset.has_target)",
   "execution_count": null,
   "outputs": []
  },
  {
   "cell_type": "code",
   "metadata": {
    "cell_id": "00033-f90c3d6f-640a-4098-9486-5b4d608e5827",
    "deepnote_cell_type": "code"
   },
   "source": "# Use predict() to get predictions (make sure the dataloader doesn't shuffle data)\npredictions = evaluator.predict(threshold=0.5)",
   "execution_count": null,
   "outputs": []
  },
  {
   "cell_type": "markdown",
   "source": "### Generating a submission file",
   "metadata": {
    "cell_id": "00034-0c58bd5a-e2b6-4bfc-80ca-76732ba371b3",
    "deepnote_cell_type": "markdown"
   }
  },
  {
   "cell_type": "code",
   "metadata": {
    "cell_id": "00035-fc98611f-7265-4224-bd11-1aaddcb03254",
    "deepnote_cell_type": "code"
   },
   "source": "# Use generate_submission() to get a correctly formatted CSV\nsubmission_path = \"outputs/submission.csv\"\ngenerate_submission(predictions, submission_path)",
   "execution_count": null,
   "outputs": []
  },
  {
   "cell_type": "markdown",
   "source": "<a style='text-decoration:none;line-height:16px;display:flex;color:#5B5B62;padding:10px;justify-content:end;' href='https://deepnote.com?utm_source=created-in-deepnote-cell&projectId=493ee647-e437-4c81-80f8-96d4eefd9c39' target=\"_blank\">\n<img alt='Created in deepnote.com' style='display:inline;max-height:16px;margin:0px;margin-right:7.5px;' src='data:image/svg+xml;base64,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' > </img>\nCreated in <span style='font-weight:600;margin-left:4px;'>Deepnote</span></a>",
   "metadata": {
    "tags": [],
    "created_in_deepnote_cell": true,
    "deepnote_cell_type": "markdown"
   }
  }
 ],
 "nbformat": 4,
 "nbformat_minor": 5,
 "metadata": {
  "kernelspec": {
   "display_name": "Python 3",
   "language": "python",
   "name": "python3"
  },
  "language_info": {
   "codemirror_mode": {
    "name": "ipython",
    "version": 3
   },
   "file_extension": ".py",
   "mimetype": "text/x-python",
   "name": "python",
   "nbconvert_exporter": "python",
   "pygments_lexer": "ipython3",
   "version": "3.8.6"
  },
  "metadata": {
   "interpreter": {
    "hash": "bf27883f24a5f59ded61cdabdf5884d91cb393caeb24728749abd210759b939b"
   }
  },
  "deepnote_notebook_id": "adf39796-fa32-4673-9016-ba480cab8bec",
  "deepnote": {},
  "deepnote_execution_queue": []
 }
}